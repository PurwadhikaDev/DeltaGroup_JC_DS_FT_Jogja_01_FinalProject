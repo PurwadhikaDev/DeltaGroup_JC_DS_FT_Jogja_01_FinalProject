{
 "cells": [
  {
   "cell_type": "markdown",
   "metadata": {},
   "source": []
  },
  {
   "cell_type": "markdown",
   "metadata": {},
   "source": [
    "<H1><center><font color='brown'>Bank Marketing Campaign Analysis</font>\n",
    "<br>----------"
   ]
  },
  {
   "cell_type": "markdown",
   "metadata": {},
   "source": [
    "<H3><font color='brown'>By : Group Delta</font>\n",
    "<br>- Fathur Rizky Maulana\n",
    "<br>- Alfian Abdul Ghaffar\n",
    "<br>- Dafiq Alfaiz\n",
    "<br>-------------------------"
   ]
  },
  {
   "cell_type": "markdown",
   "metadata": {},
   "source": [
    "# **Contents**"
   ]
  },
  {
   "cell_type": "markdown",
   "metadata": {},
   "source": [
    "0. Initial Setup\n",
    "1. Feature Engineering\n",
    "2. Modeling and Hyperparameter Tuning \n",
    "3. Evaluasi Model\n",
    "4. Conclusion and Recommendation\n",
    "5. Save Model\n",
    "\n",
    "----\n",
    "----"
   ]
  },
  {
   "cell_type": "markdown",
   "metadata": {},
   "source": [
    "## **`0. Initial Setup`**"
   ]
  },
  {
   "cell_type": "code",
   "execution_count": 1,
   "metadata": {},
   "outputs": [
    {
     "name": "stderr",
     "output_type": "stream",
     "text": [
      "Using `tqdm.autonotebook.tqdm` in notebook mode. Use `tqdm.tqdm` instead to force console mode (e.g. in jupyter console)\n"
     ]
    }
   ],
   "source": [
    "# Import library eksplorasi dataset\n",
    "import pandas as pd\n",
    "import numpy as np\n",
    "import matplotlib.pyplot as plt #Membuat grafik\n",
    "import seaborn as sns #Membuat grafik\n",
    "import missingno as msno #Cek missing value\n",
    "\n",
    "# statistics\n",
    "from scipy.stats import normaltest, mannwhitneyu, chi2_contingency\n",
    "\n",
    "# Feature Engineering\n",
    "from sklearn.preprocessing import OneHotEncoder, LabelEncoder, OrdinalEncoder, RobustScaler, FunctionTransformer\n",
    "from sklearn.compose import ColumnTransformer\n",
    "from sklearn.preprocessing import FunctionTransformer\n",
    "from sklearn.pipeline import Pipeline\n",
    "import category_encoders as ce\n",
    "\n",
    "# Imbalance data\n",
    "from imblearn.over_sampling import RandomOverSampler, SMOTE\n",
    "from imblearn.under_sampling import RandomUnderSampler, CondensedNearestNeighbour, NeighbourhoodCleaningRule, NearMiss\n",
    "from imblearn.combine import SMOTEENN\n",
    "\n",
    "# Model Selection\n",
    "from sklearn.model_selection import StratifiedKFold, train_test_split, cross_val_score, RandomizedSearchCV, GridSearchCV, cross_validate\n",
    "from sklearn.metrics import classification_report, confusion_matrix\n",
    "from sklearn.metrics import make_scorer, precision_score, recall_score\n",
    "from sklearn.metrics import roc_auc_score, average_precision_score, balanced_accuracy_score\n",
    "from sklearn.linear_model import LogisticRegression\n",
    "from sklearn.tree import DecisionTreeClassifier\n",
    "from sklearn.neighbors import KNeighborsClassifier\n",
    "from sklearn.ensemble import RandomForestClassifier, AdaBoostClassifier, GradientBoostingClassifier, BaggingClassifier\n",
    "from xgboost.sklearn import XGBClassifier\n",
    "from catboost import CatBoostClassifier\n",
    "from sklearn.svm import SVC\n",
    "\n",
    "# Pipeline\n",
    "from imblearn.pipeline import Pipeline\n",
    "\n",
    "# Interpretasi Model\n",
    "import shap\n",
    "\n",
    "# Saving Model\n",
    "import pickle\n",
    "\n",
    "import warnings\n",
    "warnings.filterwarnings(\"ignore\")"
   ]
  },
  {
   "cell_type": "markdown",
   "metadata": {},
   "source": [
    "### **Import File**"
   ]
  },
  {
   "cell_type": "markdown",
   "metadata": {},
   "source": [
    "File yang akan digunakan pada part 3.0-Modeling ini didapatkan dari folder data processed"
   ]
  },
  {
   "cell_type": "code",
   "execution_count": 2,
   "metadata": {},
   "outputs": [
    {
     "name": "stdout",
     "output_type": "stream",
     "text": [
      "Data ini memiliki jumlah baris dan kolom: (39910, 20)\n"
     ]
    },
    {
     "data": {
      "text/html": [
       "<div>\n",
       "<style scoped>\n",
       "    .dataframe tbody tr th:only-of-type {\n",
       "        vertical-align: middle;\n",
       "    }\n",
       "\n",
       "    .dataframe tbody tr th {\n",
       "        vertical-align: top;\n",
       "    }\n",
       "\n",
       "    .dataframe thead th {\n",
       "        text-align: right;\n",
       "    }\n",
       "</style>\n",
       "<table border=\"1\" class=\"dataframe\">\n",
       "  <thead>\n",
       "    <tr style=\"text-align: right;\">\n",
       "      <th></th>\n",
       "      <th>age</th>\n",
       "      <th>job</th>\n",
       "      <th>marital</th>\n",
       "      <th>education</th>\n",
       "      <th>housing</th>\n",
       "      <th>loan</th>\n",
       "      <th>contact</th>\n",
       "      <th>month</th>\n",
       "      <th>month_quarter</th>\n",
       "      <th>day_of_week</th>\n",
       "      <th>campaign</th>\n",
       "      <th>pdays</th>\n",
       "      <th>previous</th>\n",
       "      <th>poutcome</th>\n",
       "      <th>emp.var.rate</th>\n",
       "      <th>cons.price.idx</th>\n",
       "      <th>cons.conf.idx</th>\n",
       "      <th>euribor3m</th>\n",
       "      <th>nr.employed</th>\n",
       "      <th>Deposit</th>\n",
       "    </tr>\n",
       "  </thead>\n",
       "  <tbody>\n",
       "    <tr>\n",
       "      <th>1724</th>\n",
       "      <td>40.0</td>\n",
       "      <td>Employee</td>\n",
       "      <td>divorced</td>\n",
       "      <td>Secondary Education</td>\n",
       "      <td>no</td>\n",
       "      <td>no</td>\n",
       "      <td>telephone</td>\n",
       "      <td>may</td>\n",
       "      <td>Quarter 2</td>\n",
       "      <td>fri</td>\n",
       "      <td>1.0</td>\n",
       "      <td>999.0</td>\n",
       "      <td>0.0</td>\n",
       "      <td>nonexistent</td>\n",
       "      <td>1.1</td>\n",
       "      <td>93.994</td>\n",
       "      <td>-36.4</td>\n",
       "      <td>4.855</td>\n",
       "      <td>5191.0</td>\n",
       "      <td>0</td>\n",
       "    </tr>\n",
       "    <tr>\n",
       "      <th>20626</th>\n",
       "      <td>33.0</td>\n",
       "      <td>Employee</td>\n",
       "      <td>single</td>\n",
       "      <td>Higher Education</td>\n",
       "      <td>yes</td>\n",
       "      <td>no</td>\n",
       "      <td>cellular</td>\n",
       "      <td>aug</td>\n",
       "      <td>Quarter 3</td>\n",
       "      <td>tue</td>\n",
       "      <td>2.0</td>\n",
       "      <td>999.0</td>\n",
       "      <td>0.0</td>\n",
       "      <td>nonexistent</td>\n",
       "      <td>1.4</td>\n",
       "      <td>93.444</td>\n",
       "      <td>-36.1</td>\n",
       "      <td>4.963</td>\n",
       "      <td>5228.1</td>\n",
       "      <td>0</td>\n",
       "    </tr>\n",
       "    <tr>\n",
       "      <th>19082</th>\n",
       "      <td>36.0</td>\n",
       "      <td>Employee</td>\n",
       "      <td>married</td>\n",
       "      <td>Secondary Education</td>\n",
       "      <td>no</td>\n",
       "      <td>no</td>\n",
       "      <td>cellular</td>\n",
       "      <td>aug</td>\n",
       "      <td>Quarter 3</td>\n",
       "      <td>fri</td>\n",
       "      <td>1.0</td>\n",
       "      <td>999.0</td>\n",
       "      <td>0.0</td>\n",
       "      <td>nonexistent</td>\n",
       "      <td>1.4</td>\n",
       "      <td>93.444</td>\n",
       "      <td>-36.1</td>\n",
       "      <td>4.966</td>\n",
       "      <td>5228.1</td>\n",
       "      <td>0</td>\n",
       "    </tr>\n",
       "    <tr>\n",
       "      <th>31568</th>\n",
       "      <td>39.0</td>\n",
       "      <td>Employee</td>\n",
       "      <td>married</td>\n",
       "      <td>Higher Education</td>\n",
       "      <td>no</td>\n",
       "      <td>no</td>\n",
       "      <td>cellular</td>\n",
       "      <td>may</td>\n",
       "      <td>Quarter 2</td>\n",
       "      <td>mon</td>\n",
       "      <td>5.0</td>\n",
       "      <td>999.0</td>\n",
       "      <td>1.0</td>\n",
       "      <td>failure</td>\n",
       "      <td>-1.8</td>\n",
       "      <td>92.893</td>\n",
       "      <td>-46.2</td>\n",
       "      <td>1.299</td>\n",
       "      <td>5099.1</td>\n",
       "      <td>0</td>\n",
       "    </tr>\n",
       "    <tr>\n",
       "      <th>929</th>\n",
       "      <td>29.0</td>\n",
       "      <td>Employee</td>\n",
       "      <td>married</td>\n",
       "      <td>Secondary Education</td>\n",
       "      <td>no</td>\n",
       "      <td>no</td>\n",
       "      <td>telephone</td>\n",
       "      <td>may</td>\n",
       "      <td>Quarter 2</td>\n",
       "      <td>wed</td>\n",
       "      <td>2.0</td>\n",
       "      <td>999.0</td>\n",
       "      <td>0.0</td>\n",
       "      <td>nonexistent</td>\n",
       "      <td>1.1</td>\n",
       "      <td>93.994</td>\n",
       "      <td>-36.4</td>\n",
       "      <td>4.856</td>\n",
       "      <td>5191.0</td>\n",
       "      <td>0</td>\n",
       "    </tr>\n",
       "    <tr>\n",
       "      <th>27561</th>\n",
       "      <td>46.0</td>\n",
       "      <td>Employee</td>\n",
       "      <td>divorced</td>\n",
       "      <td>Primary Education</td>\n",
       "      <td>no</td>\n",
       "      <td>no</td>\n",
       "      <td>cellular</td>\n",
       "      <td>apr</td>\n",
       "      <td>Quarter 2</td>\n",
       "      <td>tue</td>\n",
       "      <td>3.0</td>\n",
       "      <td>999.0</td>\n",
       "      <td>0.0</td>\n",
       "      <td>nonexistent</td>\n",
       "      <td>-1.8</td>\n",
       "      <td>93.075</td>\n",
       "      <td>-47.1</td>\n",
       "      <td>1.423</td>\n",
       "      <td>5099.1</td>\n",
       "      <td>0</td>\n",
       "    </tr>\n",
       "    <tr>\n",
       "      <th>36039</th>\n",
       "      <td>76.0</td>\n",
       "      <td>Other</td>\n",
       "      <td>married</td>\n",
       "      <td>Primary Education</td>\n",
       "      <td>yes</td>\n",
       "      <td>no</td>\n",
       "      <td>cellular</td>\n",
       "      <td>aug</td>\n",
       "      <td>Quarter 3</td>\n",
       "      <td>fri</td>\n",
       "      <td>2.0</td>\n",
       "      <td>999.0</td>\n",
       "      <td>0.0</td>\n",
       "      <td>nonexistent</td>\n",
       "      <td>-2.9</td>\n",
       "      <td>92.201</td>\n",
       "      <td>-31.4</td>\n",
       "      <td>0.881</td>\n",
       "      <td>5076.2</td>\n",
       "      <td>1</td>\n",
       "    </tr>\n",
       "    <tr>\n",
       "      <th>20328</th>\n",
       "      <td>32.0</td>\n",
       "      <td>Employee</td>\n",
       "      <td>single</td>\n",
       "      <td>Higher Education</td>\n",
       "      <td>yes</td>\n",
       "      <td>no</td>\n",
       "      <td>cellular</td>\n",
       "      <td>aug</td>\n",
       "      <td>Quarter 3</td>\n",
       "      <td>thu</td>\n",
       "      <td>2.0</td>\n",
       "      <td>999.0</td>\n",
       "      <td>0.0</td>\n",
       "      <td>nonexistent</td>\n",
       "      <td>1.4</td>\n",
       "      <td>93.444</td>\n",
       "      <td>-36.1</td>\n",
       "      <td>4.964</td>\n",
       "      <td>5228.1</td>\n",
       "      <td>0</td>\n",
       "    </tr>\n",
       "    <tr>\n",
       "      <th>5443</th>\n",
       "      <td>48.0</td>\n",
       "      <td>Employee</td>\n",
       "      <td>married</td>\n",
       "      <td>Primary Education</td>\n",
       "      <td>yes</td>\n",
       "      <td>yes</td>\n",
       "      <td>telephone</td>\n",
       "      <td>may</td>\n",
       "      <td>Quarter 2</td>\n",
       "      <td>mon</td>\n",
       "      <td>2.0</td>\n",
       "      <td>999.0</td>\n",
       "      <td>0.0</td>\n",
       "      <td>nonexistent</td>\n",
       "      <td>1.1</td>\n",
       "      <td>93.994</td>\n",
       "      <td>-36.4</td>\n",
       "      <td>4.857</td>\n",
       "      <td>5191.0</td>\n",
       "      <td>0</td>\n",
       "    </tr>\n",
       "    <tr>\n",
       "      <th>7843</th>\n",
       "      <td>35.0</td>\n",
       "      <td>Other</td>\n",
       "      <td>single</td>\n",
       "      <td>Higher Education</td>\n",
       "      <td>yes</td>\n",
       "      <td>yes</td>\n",
       "      <td>telephone</td>\n",
       "      <td>jun</td>\n",
       "      <td>Quarter 2</td>\n",
       "      <td>mon</td>\n",
       "      <td>2.0</td>\n",
       "      <td>999.0</td>\n",
       "      <td>0.0</td>\n",
       "      <td>nonexistent</td>\n",
       "      <td>1.4</td>\n",
       "      <td>94.465</td>\n",
       "      <td>-41.8</td>\n",
       "      <td>4.865</td>\n",
       "      <td>5228.1</td>\n",
       "      <td>1</td>\n",
       "    </tr>\n",
       "  </tbody>\n",
       "</table>\n",
       "</div>"
      ],
      "text/plain": [
       "        age       job   marital            education housing loan    contact  \\\n",
       "1724   40.0  Employee  divorced  Secondary Education      no   no  telephone   \n",
       "20626  33.0  Employee    single     Higher Education     yes   no   cellular   \n",
       "19082  36.0  Employee   married  Secondary Education      no   no   cellular   \n",
       "31568  39.0  Employee   married     Higher Education      no   no   cellular   \n",
       "929    29.0  Employee   married  Secondary Education      no   no  telephone   \n",
       "27561  46.0  Employee  divorced    Primary Education      no   no   cellular   \n",
       "36039  76.0     Other   married    Primary Education     yes   no   cellular   \n",
       "20328  32.0  Employee    single     Higher Education     yes   no   cellular   \n",
       "5443   48.0  Employee   married    Primary Education     yes  yes  telephone   \n",
       "7843   35.0     Other    single     Higher Education     yes  yes  telephone   \n",
       "\n",
       "      month month_quarter day_of_week  campaign  pdays  previous     poutcome  \\\n",
       "1724    may     Quarter 2         fri       1.0  999.0       0.0  nonexistent   \n",
       "20626   aug     Quarter 3         tue       2.0  999.0       0.0  nonexistent   \n",
       "19082   aug     Quarter 3         fri       1.0  999.0       0.0  nonexistent   \n",
       "31568   may     Quarter 2         mon       5.0  999.0       1.0      failure   \n",
       "929     may     Quarter 2         wed       2.0  999.0       0.0  nonexistent   \n",
       "27561   apr     Quarter 2         tue       3.0  999.0       0.0  nonexistent   \n",
       "36039   aug     Quarter 3         fri       2.0  999.0       0.0  nonexistent   \n",
       "20328   aug     Quarter 3         thu       2.0  999.0       0.0  nonexistent   \n",
       "5443    may     Quarter 2         mon       2.0  999.0       0.0  nonexistent   \n",
       "7843    jun     Quarter 2         mon       2.0  999.0       0.0  nonexistent   \n",
       "\n",
       "       emp.var.rate  cons.price.idx  cons.conf.idx  euribor3m  nr.employed  \\\n",
       "1724            1.1          93.994          -36.4      4.855       5191.0   \n",
       "20626           1.4          93.444          -36.1      4.963       5228.1   \n",
       "19082           1.4          93.444          -36.1      4.966       5228.1   \n",
       "31568          -1.8          92.893          -46.2      1.299       5099.1   \n",
       "929             1.1          93.994          -36.4      4.856       5191.0   \n",
       "27561          -1.8          93.075          -47.1      1.423       5099.1   \n",
       "36039          -2.9          92.201          -31.4      0.881       5076.2   \n",
       "20328           1.4          93.444          -36.1      4.964       5228.1   \n",
       "5443            1.1          93.994          -36.4      4.857       5191.0   \n",
       "7843            1.4          94.465          -41.8      4.865       5228.1   \n",
       "\n",
       "       Deposit  \n",
       "1724         0  \n",
       "20626        0  \n",
       "19082        0  \n",
       "31568        0  \n",
       "929          0  \n",
       "27561        0  \n",
       "36039        1  \n",
       "20328        0  \n",
       "5443         0  \n",
       "7843         1  "
      ]
     },
     "execution_count": 2,
     "metadata": {},
     "output_type": "execute_result"
    }
   ],
   "source": [
    "# Import file CSV\n",
    "\n",
    "df = pd.read_csv(\"D:\\Purwadhika JCDS\\Capstone Project\\Final Project\\data\\processed\\\\bank_additional_data_for_ml.csv\")\n",
    "\n",
    "print(f'Data ini memiliki jumlah baris dan kolom: {df.shape}')\n",
    "df.sample(10)\n"
   ]
  },
  {
   "cell_type": "markdown",
   "metadata": {},
   "source": [
    "## **`1. Feature Engineering`**"
   ]
  },
  {
   "cell_type": "markdown",
   "metadata": {},
   "source": [
    "Pada bagian `Feature Engineering` ini kita akan melakukan **Scaling** dan **Encoding** pada dataset yang kita miliki agar sesuai dengan kebutuhan model machine learning yang akan digunakan. Tahap ini sangat penting dalam membangun model machine learning karena dapat mempengaruhi kinerja dan kualitas model yang akan dihasilkan. Proses Scaling dan Encoding yang akan dilakukan pada dataset ini ialah sebagai berikut:"
   ]
  },
  {
   "cell_type": "markdown",
   "metadata": {},
   "source": [
    "### **1.1 Scaling**"
   ]
  },
  {
   "cell_type": "markdown",
   "metadata": {},
   "source": [
    "[Scaling](https://towardsdatascience.com/feature-engineering-for-machine-learning-3a5e293a5114#83e6) adalah metode untuk melakukan transformasi terhadap data numerik agar antar variabel memiliki skala yang sama\n",
    "\n",
    "Teknik scaling yang dilakukan dalam tahap preprocessing ini akan menggunakan teknik **`Robust Scaler`**. [Robust scaler](https://scikit-learn.org/stable/modules/generated/sklearn.preprocessing.RobustScaler.html#sklearn.preprocessing.RobustScaler) ini sendiri adalah salah satu teknik yang digunakan untuk mengubah skala atau transformasi data agar cocok untuk digunakan dalam model machine learning. Dimana Robust Scaler ini digunakan ketika kita memiliki dataset yang mengandung outlier, karena teknik ini tidak terpengaruh oleh nilai ekstrem, dan teknik ini cocok digunakan ketika data tidak mengikuti distribusi normal. Namun teknik ini memiliki kekurangan yaitu teknik ini tidak mengubah distribusi data menjadi distribusi normal. Berikut kita akan menerapkan teknik Robust Scaler kedalam dataset yang kita miliki"
   ]
  },
  {
   "cell_type": "code",
   "execution_count": 4,
   "metadata": {},
   "outputs": [],
   "source": [
    "# data unik di tiap kolom\n",
    "\n",
    "numeric_features  = df.describe().columns\n",
    "numeric_features = numeric_features.drop('Deposit')"
   ]
  },
  {
   "cell_type": "markdown",
   "metadata": {},
   "source": [
    "Cara kerja dari teknik `Robust Scaler` ini ialah akan mengubah skala data dengan menggunakan nilai median dan IQR dari data"
   ]
  },
  {
   "cell_type": "markdown",
   "metadata": {},
   "source": [
    "### **1.2 Encoding**"
   ]
  },
  {
   "cell_type": "markdown",
   "metadata": {},
   "source": [
    "[Encoding](https://towardsdatascience.com/all-about-categorical-variable-encoding-305f3361fd02) adalah suatu metode yang dapat diterapkan untuk merepresentasikan variabel kategorik dalam machine learning. Berikut kita akan menerapkan dan mendefinisikan metode teknik encoding yang sesuai dengan data yang kita miliki"
   ]
  },
  {
   "cell_type": "code",
   "execution_count": 5,
   "metadata": {},
   "outputs": [
    {
     "data": {
      "text/html": [
       "<div>\n",
       "<style scoped>\n",
       "    .dataframe tbody tr th:only-of-type {\n",
       "        vertical-align: middle;\n",
       "    }\n",
       "\n",
       "    .dataframe tbody tr th {\n",
       "        vertical-align: top;\n",
       "    }\n",
       "\n",
       "    .dataframe thead th {\n",
       "        text-align: right;\n",
       "    }\n",
       "</style>\n",
       "<table border=\"1\" class=\"dataframe\">\n",
       "  <thead>\n",
       "    <tr style=\"text-align: right;\">\n",
       "      <th></th>\n",
       "      <th>feature</th>\n",
       "      <th>n_unique</th>\n",
       "      <th>sample_unique</th>\n",
       "    </tr>\n",
       "  </thead>\n",
       "  <tbody>\n",
       "    <tr>\n",
       "      <th>0</th>\n",
       "      <td>job</td>\n",
       "      <td>4</td>\n",
       "      <td>[Employee, Entrepreneur, Other, Unemployed]</td>\n",
       "    </tr>\n",
       "    <tr>\n",
       "      <th>1</th>\n",
       "      <td>marital</td>\n",
       "      <td>3</td>\n",
       "      <td>[divorced, married, single]</td>\n",
       "    </tr>\n",
       "    <tr>\n",
       "      <th>2</th>\n",
       "      <td>education</td>\n",
       "      <td>4</td>\n",
       "      <td>[Higher Education, Other, Primary Education, S...</td>\n",
       "    </tr>\n",
       "    <tr>\n",
       "      <th>3</th>\n",
       "      <td>housing</td>\n",
       "      <td>2</td>\n",
       "      <td>[no, yes]</td>\n",
       "    </tr>\n",
       "    <tr>\n",
       "      <th>4</th>\n",
       "      <td>loan</td>\n",
       "      <td>2</td>\n",
       "      <td>[no, yes]</td>\n",
       "    </tr>\n",
       "    <tr>\n",
       "      <th>5</th>\n",
       "      <td>contact</td>\n",
       "      <td>2</td>\n",
       "      <td>[cellular, telephone]</td>\n",
       "    </tr>\n",
       "    <tr>\n",
       "      <th>6</th>\n",
       "      <td>month</td>\n",
       "      <td>10</td>\n",
       "      <td>[apr, aug, dec, jul, jun, mar, may, nov, oct, ...</td>\n",
       "    </tr>\n",
       "    <tr>\n",
       "      <th>7</th>\n",
       "      <td>day_of_week</td>\n",
       "      <td>5</td>\n",
       "      <td>[fri, mon, thu, tue, wed]</td>\n",
       "    </tr>\n",
       "    <tr>\n",
       "      <th>8</th>\n",
       "      <td>poutcome</td>\n",
       "      <td>3</td>\n",
       "      <td>[failure, nonexistent, success]</td>\n",
       "    </tr>\n",
       "  </tbody>\n",
       "</table>\n",
       "</div>"
      ],
      "text/plain": [
       "       feature  n_unique                                      sample_unique\n",
       "0          job         4        [Employee, Entrepreneur, Other, Unemployed]\n",
       "1      marital         3                        [divorced, married, single]\n",
       "2    education         4  [Higher Education, Other, Primary Education, S...\n",
       "3      housing         2                                          [no, yes]\n",
       "4         loan         2                                          [no, yes]\n",
       "5      contact         2                              [cellular, telephone]\n",
       "6        month        10  [apr, aug, dec, jul, jun, mar, may, nov, oct, ...\n",
       "7  day_of_week         5                          [fri, mon, thu, tue, wed]\n",
       "8     poutcome         3                    [failure, nonexistent, success]"
      ]
     },
     "execution_count": 5,
     "metadata": {},
     "output_type": "execute_result"
    }
   ],
   "source": [
    "# data unik di tiap kolom\n",
    "\n",
    "listItem = []\n",
    "for col in df.describe(include='object').columns :\n",
    "    listItem.append( [col, df[col].nunique(), df.sort_values(col)[col].unique()])\n",
    "\n",
    "df_object = pd.DataFrame(columns=['feature', 'n_unique', 'sample_unique'],\n",
    "                     data=listItem)\n",
    "df_object"
   ]
  },
  {
   "cell_type": "markdown",
   "metadata": {},
   "source": [
    "__Insight:__\n",
    "* Akan dilakukan **Ordinal Encoding** untuk fitur `education`, `month`, dan `day_of_week`. Alasan memilih **Ordinal Encoding**  karena fitur ini memiliki variabel ordinal, yaitu variabel yang tiap kategorinya memiliki tingkatan penting. **Ordinal encoding** akan memberikan nilai unik kepada setiap kategori berdasarkan posisinya dalam urutannya\n",
    "* Akan dilakukan **One Hot Encoding** untuk fitur `housing`, `loan`, `contact`, `poutcome`, `job`, dan `marital`. Alasan dipilihnya **One Hot Encoding** karena teknik ini akan mengganti setiap nilai kategori dengan nilai biner yang memiliki panjang sesuai dengan jumlah kategori unik dalam kolom kategori tersebut, dan fitur-fitur tersebut tidak memiliki jumlah kategori yang terlalu banyak"
   ]
  },
  {
   "cell_type": "markdown",
   "metadata": {},
   "source": [
    "Langkah pertama adalah kita akan mengurutkan nilai dari fitur `education`, `month`, dan `day_of_week` berdasarkan tingkatannya, kemudian kita akan memberikan nomor pada masing-masing nilai berdasarkan tingkatannya tersebut (ordinal mapping), sebagai berikut:"
   ]
  },
  {
   "cell_type": "code",
   "execution_count": 6,
   "metadata": {},
   "outputs": [],
   "source": [
    "# Ordinal mapping kolom education\n",
    "\n",
    "ordinal_mapping = [\n",
    "    {'col':'education',\n",
    "    'mapping':{\n",
    "        'Primary Education' : 0, \n",
    "        'Secondary Education' : 1, \n",
    "        'Higher Education': 2, \n",
    "        'Other' : -1,\n",
    "    }},\n",
    "    {'col':'month',\n",
    "    'mapping':{\n",
    "        'jan' : 0,\n",
    "        'feb' : 1,\n",
    "        'mar' : 2,\n",
    "        'apr' : 3,\n",
    "        'may' : 4,\n",
    "        'jun' : 5,\n",
    "        'jul' : 6,\n",
    "        'aug' : 7,\n",
    "        'sep' : 8,\n",
    "        'oct' : 9,\n",
    "        'nov' : 10,\n",
    "        'dec' : 11,\n",
    "    }},\n",
    "    {'col':'day_of_week',\n",
    "    'mapping':{\n",
    "        'mon' : 0, \n",
    "        'tue' : 1, \n",
    "        'wed' : 2, \n",
    "        'thu' : 3,\n",
    "        'fri' : 4,\n",
    "    }}\n",
    "]"
   ]
  },
  {
   "cell_type": "code",
   "execution_count": 71,
   "metadata": {},
   "outputs": [],
   "source": [
    "# Define encoder\n",
    "\n",
    "# One Hot Encoding\n",
    "onehot_features = ['housing', 'loan', 'contact', 'poutcome', 'job', 'marital']\n",
    "\n",
    "# Ordinal Encoding\n",
    "ordinal_features = ['education', 'month', 'day_of_week']"
   ]
  },
  {
   "cell_type": "markdown",
   "metadata": {},
   "source": [
    "Cara kerja **encoding** adalah dengan menggantikan nilai-nilai kategori dengan representasi numerik sesuai dengan teknik encoding yang dipilih. Hal ini memungkinkan algoritma machine learning untuk bekerja dengan data kategorikal dan memahami hubungan antara kategori tersebut. Untuk dapat memahami cara kerja dari masing-masing teknik encoding diatas, dapat dicek [disini](https://www.analyticsvidhya.com/blog/2020/08/types-of-categorical-data-encoding/)"
   ]
  },
  {
   "cell_type": "markdown",
   "metadata": {},
   "source": [
    "### **1.3 Define Column Transformer**"
   ]
  },
  {
   "cell_type": "code",
   "execution_count": 8,
   "metadata": {},
   "outputs": [],
   "source": [
    "# encoding, scaling features\n",
    "\n",
    "preprocessor = ColumnTransformer([\n",
    "    ('onehot', OneHotEncoder(drop='first'), onehot_features),\n",
    "    ('ordinal', ce.OrdinalEncoder(mapping= ordinal_mapping), ordinal_features),\n",
    "    ('robust', RobustScaler(), numeric_features)\n",
    "], remainder='passthrough')"
   ]
  },
  {
   "cell_type": "markdown",
   "metadata": {},
   "source": [
    "### **1.4 Data Splitting**, bagi dataset menjadi df_seen dan df_unseen"
   ]
  },
  {
   "cell_type": "markdown",
   "metadata": {},
   "source": [
    "Idenya adalah ketika kita melakukan evaluasi terhadap model machine learning, kita ingin mendapatkan model yang dapat men-generalisir serta akurat. Dalam melakukan generalisasi kita perlu membagi data menjadi 3 bagian, yaitu `training set`, `validation set`, dan `test set`. Dengan penjelasan sebagai berikut:\n",
    "* Dataset akan kita bagi menjadi **df_seen** dan **df_unseen**\n",
    "* **df_seen** yang kemudian akan kita bagi lagi menjadi `X_train`, `X_val`, `y_train`, `y_val` (untuk data training set dan data validasi set)\n",
    "* **df_unseen** yang akan menjadi data `test set` pada model kita nanti"
   ]
  },
  {
   "cell_type": "code",
   "execution_count": 9,
   "metadata": {},
   "outputs": [
    {
     "name": "stdout",
     "output_type": "stream",
     "text": [
      "df_seen\n",
      "Jumlah baris: 31928 baris\n",
      "Jumlah kolom: 19 kolom\n",
      "\n",
      "df_unseen\n",
      "Jumlah baris: 7982 baris\n",
      "Jumlah kolom: 19 kolom\n",
      "\n",
      "=========================\n",
      "\n",
      "X_train\n",
      "Jumlah baris: 25542 baris\n",
      "Jumlah kolom: 18 kolom\n",
      "\n",
      "X_val\n",
      "Jumlah baris: 6386 baris\n",
      "Jumlah kolom: 18 kolom\n"
     ]
    }
   ],
   "source": [
    "# Melakukan data splitting\n",
    "\n",
    "# Membagi feature dan target\n",
    "feature=df.drop(columns=['Deposit']).columns\n",
    "target='Deposit'\n",
    "\n",
    "# Membagi dataset df_seen dan df_unseen dari dataset df\n",
    "df_seen, df_unseen=train_test_split(df,\n",
    "                                    stratify=df[\"Deposit\"].values, \n",
    "                                    test_size=0.2,random_state=0)\n",
    "\n",
    "# Membagi dataset train dan validation dari df_seen\n",
    "X_train, X_val, y_train, y_val=train_test_split(df_seen[feature], df_seen[target], \n",
    "                                                stratify=df_seen[\"Deposit\"].values, \n",
    "                                                test_size=0.2, random_state=0)\n",
    "\n",
    "print(f\"df_seen\\nJumlah baris: {df_seen.shape[0]} baris\\nJumlah kolom: {df_seen.shape[1]} kolom\\n\")\n",
    "print(f\"df_unseen\\nJumlah baris: {df_unseen.shape[0]} baris\\nJumlah kolom: {df_unseen.shape[1]} kolom\\n\")\n",
    "print(\"=========================\")\n",
    "print(f\"\\nX_train\\nJumlah baris: {X_train.shape[0]} baris\\nJumlah kolom: {X_train.shape[1]} kolom\\n\")\n",
    "print(f\"X_val\\nJumlah baris: {X_val.shape[0]} baris\\nJumlah kolom: {X_val.shape[1]} kolom\")"
   ]
  },
  {
   "cell_type": "markdown",
   "metadata": {},
   "source": [
    "Maka kita sudah memiliki data untuk `training`, `validasi` dan `tes set`, kemudian kita akan melakukan fit_transform untuk `df_seen` dan kita lihat fitur-fitur dari hasil **scaling** dan **encoding** diatas"
   ]
  },
  {
   "cell_type": "code",
   "execution_count": 10,
   "metadata": {},
   "outputs": [
    {
     "data": {
      "text/html": [
       "<div>\n",
       "<style scoped>\n",
       "    .dataframe tbody tr th:only-of-type {\n",
       "        vertical-align: middle;\n",
       "    }\n",
       "\n",
       "    .dataframe tbody tr th {\n",
       "        vertical-align: top;\n",
       "    }\n",
       "\n",
       "    .dataframe thead th {\n",
       "        text-align: right;\n",
       "    }\n",
       "</style>\n",
       "<table border=\"1\" class=\"dataframe\">\n",
       "  <thead>\n",
       "    <tr style=\"text-align: right;\">\n",
       "      <th></th>\n",
       "      <th>onehot__housing_yes</th>\n",
       "      <th>onehot__loan_yes</th>\n",
       "      <th>onehot__contact_telephone</th>\n",
       "      <th>onehot__poutcome_nonexistent</th>\n",
       "      <th>onehot__poutcome_success</th>\n",
       "      <th>onehot__job_Entrepreneur</th>\n",
       "      <th>onehot__job_Other</th>\n",
       "      <th>onehot__job_Unemployed</th>\n",
       "      <th>onehot__marital_married</th>\n",
       "      <th>onehot__marital_single</th>\n",
       "      <th>...</th>\n",
       "      <th>robust__age</th>\n",
       "      <th>robust__campaign</th>\n",
       "      <th>robust__pdays</th>\n",
       "      <th>robust__previous</th>\n",
       "      <th>robust__emp.var.rate</th>\n",
       "      <th>robust__cons.price.idx</th>\n",
       "      <th>robust__cons.conf.idx</th>\n",
       "      <th>robust__euribor3m</th>\n",
       "      <th>robust__nr.employed</th>\n",
       "      <th>remainder__Deposit</th>\n",
       "    </tr>\n",
       "  </thead>\n",
       "  <tbody>\n",
       "    <tr>\n",
       "      <th>0</th>\n",
       "      <td>1.0</td>\n",
       "      <td>0.0</td>\n",
       "      <td>0.0</td>\n",
       "      <td>0.0</td>\n",
       "      <td>1.0</td>\n",
       "      <td>0.0</td>\n",
       "      <td>1.0</td>\n",
       "      <td>0.0</td>\n",
       "      <td>0.0</td>\n",
       "      <td>0.0</td>\n",
       "      <td>...</td>\n",
       "      <td>2.666667</td>\n",
       "      <td>-0.5</td>\n",
       "      <td>-996.0</td>\n",
       "      <td>1.0</td>\n",
       "      <td>-1.40625</td>\n",
       "      <td>-0.865071</td>\n",
       "      <td>1.857143</td>\n",
       "      <td>-1.145424</td>\n",
       "      <td>-1.344961</td>\n",
       "      <td>0.0</td>\n",
       "    </tr>\n",
       "    <tr>\n",
       "      <th>1</th>\n",
       "      <td>0.0</td>\n",
       "      <td>1.0</td>\n",
       "      <td>0.0</td>\n",
       "      <td>1.0</td>\n",
       "      <td>0.0</td>\n",
       "      <td>0.0</td>\n",
       "      <td>0.0</td>\n",
       "      <td>0.0</td>\n",
       "      <td>0.0</td>\n",
       "      <td>1.0</td>\n",
       "      <td>...</td>\n",
       "      <td>-0.466667</td>\n",
       "      <td>0.5</td>\n",
       "      <td>0.0</td>\n",
       "      <td>0.0</td>\n",
       "      <td>-0.90625</td>\n",
       "      <td>-0.599565</td>\n",
       "      <td>-0.698413</td>\n",
       "      <td>-0.992812</td>\n",
       "      <td>-0.712403</td>\n",
       "      <td>0.0</td>\n",
       "    </tr>\n",
       "    <tr>\n",
       "      <th>2</th>\n",
       "      <td>0.0</td>\n",
       "      <td>0.0</td>\n",
       "      <td>0.0</td>\n",
       "      <td>1.0</td>\n",
       "      <td>0.0</td>\n",
       "      <td>0.0</td>\n",
       "      <td>0.0</td>\n",
       "      <td>0.0</td>\n",
       "      <td>1.0</td>\n",
       "      <td>0.0</td>\n",
       "      <td>...</td>\n",
       "      <td>-0.200000</td>\n",
       "      <td>0.0</td>\n",
       "      <td>0.0</td>\n",
       "      <td>0.0</td>\n",
       "      <td>-0.37500</td>\n",
       "      <td>-0.265506</td>\n",
       "      <td>-0.031746</td>\n",
       "      <td>-0.184130</td>\n",
       "      <td>0.037209</td>\n",
       "      <td>1.0</td>\n",
       "    </tr>\n",
       "    <tr>\n",
       "      <th>3</th>\n",
       "      <td>0.0</td>\n",
       "      <td>0.0</td>\n",
       "      <td>0.0</td>\n",
       "      <td>1.0</td>\n",
       "      <td>0.0</td>\n",
       "      <td>0.0</td>\n",
       "      <td>0.0</td>\n",
       "      <td>0.0</td>\n",
       "      <td>1.0</td>\n",
       "      <td>0.0</td>\n",
       "      <td>...</td>\n",
       "      <td>0.466667</td>\n",
       "      <td>0.0</td>\n",
       "      <td>0.0</td>\n",
       "      <td>0.0</td>\n",
       "      <td>-0.90625</td>\n",
       "      <td>-0.599565</td>\n",
       "      <td>-0.698413</td>\n",
       "      <td>-0.985900</td>\n",
       "      <td>-0.712403</td>\n",
       "      <td>0.0</td>\n",
       "    </tr>\n",
       "    <tr>\n",
       "      <th>4</th>\n",
       "      <td>0.0</td>\n",
       "      <td>0.0</td>\n",
       "      <td>0.0</td>\n",
       "      <td>1.0</td>\n",
       "      <td>0.0</td>\n",
       "      <td>0.0</td>\n",
       "      <td>0.0</td>\n",
       "      <td>0.0</td>\n",
       "      <td>0.0</td>\n",
       "      <td>1.0</td>\n",
       "      <td>...</td>\n",
       "      <td>-0.466667</td>\n",
       "      <td>3.5</td>\n",
       "      <td>0.0</td>\n",
       "      <td>0.0</td>\n",
       "      <td>0.09375</td>\n",
       "      <td>0.000000</td>\n",
       "      <td>0.904762</td>\n",
       "      <td>0.029030</td>\n",
       "      <td>0.287597</td>\n",
       "      <td>0.0</td>\n",
       "    </tr>\n",
       "  </tbody>\n",
       "</table>\n",
       "<p>5 rows × 23 columns</p>\n",
       "</div>"
      ],
      "text/plain": [
       "   onehot__housing_yes  onehot__loan_yes  onehot__contact_telephone  \\\n",
       "0                  1.0               0.0                        0.0   \n",
       "1                  0.0               1.0                        0.0   \n",
       "2                  0.0               0.0                        0.0   \n",
       "3                  0.0               0.0                        0.0   \n",
       "4                  0.0               0.0                        0.0   \n",
       "\n",
       "   onehot__poutcome_nonexistent  onehot__poutcome_success  \\\n",
       "0                           0.0                       1.0   \n",
       "1                           1.0                       0.0   \n",
       "2                           1.0                       0.0   \n",
       "3                           1.0                       0.0   \n",
       "4                           1.0                       0.0   \n",
       "\n",
       "   onehot__job_Entrepreneur  onehot__job_Other  onehot__job_Unemployed  \\\n",
       "0                       0.0                1.0                     0.0   \n",
       "1                       0.0                0.0                     0.0   \n",
       "2                       0.0                0.0                     0.0   \n",
       "3                       0.0                0.0                     0.0   \n",
       "4                       0.0                0.0                     0.0   \n",
       "\n",
       "   onehot__marital_married  onehot__marital_single  ...  robust__age  \\\n",
       "0                      0.0                     0.0  ...     2.666667   \n",
       "1                      0.0                     1.0  ...    -0.466667   \n",
       "2                      1.0                     0.0  ...    -0.200000   \n",
       "3                      1.0                     0.0  ...     0.466667   \n",
       "4                      0.0                     1.0  ...    -0.466667   \n",
       "\n",
       "   robust__campaign  robust__pdays  robust__previous  robust__emp.var.rate  \\\n",
       "0              -0.5         -996.0               1.0              -1.40625   \n",
       "1               0.5            0.0               0.0              -0.90625   \n",
       "2               0.0            0.0               0.0              -0.37500   \n",
       "3               0.0            0.0               0.0              -0.90625   \n",
       "4               3.5            0.0               0.0               0.09375   \n",
       "\n",
       "   robust__cons.price.idx  robust__cons.conf.idx  robust__euribor3m  \\\n",
       "0               -0.865071               1.857143          -1.145424   \n",
       "1               -0.599565              -0.698413          -0.992812   \n",
       "2               -0.265506              -0.031746          -0.184130   \n",
       "3               -0.599565              -0.698413          -0.985900   \n",
       "4                0.000000               0.904762           0.029030   \n",
       "\n",
       "   robust__nr.employed  remainder__Deposit  \n",
       "0            -1.344961                 0.0  \n",
       "1            -0.712403                 0.0  \n",
       "2             0.037209                 1.0  \n",
       "3            -0.712403                 0.0  \n",
       "4             0.287597                 0.0  \n",
       "\n",
       "[5 rows x 23 columns]"
      ]
     },
     "execution_count": 10,
     "metadata": {},
     "output_type": "execute_result"
    }
   ],
   "source": [
    "testing = pd.DataFrame(preprocessor.fit_transform(df_seen),columns=preprocessor.get_feature_names_out())\n",
    "testing.head()"
   ]
  },
  {
   "cell_type": "markdown",
   "metadata": {},
   "source": [
    "### **1.5 Resampler**"
   ]
  },
  {
   "cell_type": "markdown",
   "metadata": {},
   "source": [
    "Seperti yang sudah kita analisis pada bagian data understanding dan EDA, bahwa dataset yang kita miliki ialah data imbalanced dengan proporsi **data mayoritas sebesar 89%** dan **data minoritas sebesar 11%**. Imbalance data akan mengakibatkan model machine learning yang kita buat menjadi bias, yaitu model akan cenderung memprediksi kelas mayoritas dengan akurasi tinggi karena ada lebih banyak sampel dalam kelas tersebut, dan seringkali mengabaikan kelas minoritas. Oleh karena itu untuk memperbaiki ketidakseimbangan data (data imblance), kita akan gunakan `teknik resampling`. Teknik resampling yang akan kita gunakan ialah sebagai berikut:"
   ]
  },
  {
   "cell_type": "code",
   "execution_count": 11,
   "metadata": {},
   "outputs": [],
   "source": [
    "# Mendefinisikan teknik resample yang akan digunakan\n",
    "\n",
    "# Random Over Sampling\n",
    "ros = RandomOverSampler(random_state=0)\n",
    "\n",
    "# SMOTE, termasuk kedalam teknik Oversampling\n",
    "smote = SMOTE(random_state=0)\n",
    "\n",
    "# Random Under Sampling\n",
    "rus = RandomUnderSampler(random_state=0)\n",
    "\n",
    "# Nearmiss, termasuk kedalam teknik Undersampling\n",
    "nearmiss = NearMiss()\n",
    "\n",
    "# Gabungan Over dan Under Sampling\n",
    "smoteenn = SMOTEENN(random_state=0)"
   ]
  },
  {
   "cell_type": "markdown",
   "metadata": {},
   "source": [
    "### <font size=\"4.5\">Setelah dilakukan treatment pada tahap `Data Preprocesing` pada langkah diatas, maka kita `menganggap` data yang kita miliki sudah bersih dan siap untuk dilakukan modeling</font>"
   ]
  },
  {
   "cell_type": "markdown",
   "metadata": {},
   "source": [
    "## **`2. Modeling and Hyperparameter Tuning`**"
   ]
  },
  {
   "cell_type": "markdown",
   "metadata": {},
   "source": [
    "### **2.1 Modeling**, choose the best banchmark model"
   ]
  },
  {
   "cell_type": "markdown",
   "metadata": {},
   "source": [
    "#### **2.1.1 Model Experiment**"
   ]
  },
  {
   "cell_type": "markdown",
   "metadata": {},
   "source": [
    "Models experiment yang akan kita coba sebagai penentuan model terbaik untuk dataset ini antara lain **Logistic Regression**, **KNearest Neighbour Classifier**, **Decision Tree Classifier**, **Random Forest Classifier**, **Bagging Classifier**, **Ada Boost Classifier**, **Gradient Boosting Classifier**, **XGB Classifier**, **LGBM Classifier**, dan **SVM**."
   ]
  },
  {
   "cell_type": "code",
   "execution_count": 12,
   "metadata": {},
   "outputs": [],
   "source": [
    "# Mendefinisikan models yang akan digunakan\n",
    "\n",
    "# Logistic Regression\n",
    "logreg = LogisticRegression(random_state=0)\n",
    "\n",
    "# KNN\n",
    "knn = KNeighborsClassifier()\n",
    "\n",
    "# Decision Tree\n",
    "dt = DecisionTreeClassifier(random_state=0)\n",
    "\n",
    "# RandomForest\n",
    "rf = RandomForestClassifier(random_state=0)\n",
    "\n",
    "# Adaboost\n",
    "ada = AdaBoostClassifier(random_state=0)\n",
    "\n",
    "# Gradientboost\n",
    "gbc = GradientBoostingClassifier(random_state=0)\n",
    "\n",
    "# CatBoosting\n",
    "catboost = CatBoostClassifier(random_state=0, verbose=False)"
   ]
  },
  {
   "cell_type": "markdown",
   "metadata": {},
   "source": [
    "#### **2.1.2 Membandingkan Teknik Resampling**"
   ]
  },
  {
   "cell_type": "markdown",
   "metadata": {},
   "source": [
    "Agar memudahkan dan mengefisiensikan penulisan kode program, maka kita akan membuat fungsi untuk mendapatkan nilai dari masing-masing teknik resampling naik itu untuk data **train set**, dan data **validation set**"
   ]
  },
  {
   "cell_type": "code",
   "execution_count": 13,
   "metadata": {},
   "outputs": [],
   "source": [
    "# Fungsi untuk Teknik Resampling ke data train\n",
    "\n",
    "def resampler_to_train_set(resampler):\n",
    "    # hyperparameter default\n",
    "\n",
    "    # Pilihan model yang akan digunakan\n",
    "    models = [logreg,knn,dt,rf,ada,gbc,catboost]\n",
    "\n",
    "    # ROC_AUC\n",
    "    scoreROC_AUC=[]\n",
    "    rataROC_AUC=[]\n",
    "    stdROC_AUC=[]\n",
    "\n",
    "\n",
    "    for i in models:\n",
    "        skfold=StratifiedKFold(n_splits=5)\n",
    "        estimator=Pipeline([\n",
    "            ('preprocess', preprocessor),\n",
    "            ('resample', resampler),\n",
    "            ('model to train set', i)])\n",
    "    \n",
    "        # Matriks ROC_AUC\n",
    "        modelCVROC_AUC=cross_val_score(estimator, X_train , y_train,cv=skfold,scoring=\"roc_auc\")\n",
    "        scoreROC_AUC.append(modelCVROC_AUC)\n",
    "        rataROC_AUC.append(modelCVROC_AUC.mean())\n",
    "        stdROC_AUC.append(modelCVROC_AUC.std())\n",
    "\n",
    "\n",
    "    df_resampler_train = pd.DataFrame({'model to train set':['Logistic Regression', 'KNN', 'Decision Tree', 'Random Forest', 'Ada Boosting', 'Gradient Boosting', 'Cat Boosting'],\n",
    "                'Mean ROC_AUC':rataROC_AUC,\n",
    "                'Std ROC_AUC':stdROC_AUC\n",
    "                }\n",
    "                ).set_index('model to train set').sort_values(by='Mean ROC_AUC',ascending=False)\n",
    "    \n",
    "    return df_resampler_train"
   ]
  },
  {
   "cell_type": "code",
   "execution_count": 14,
   "metadata": {},
   "outputs": [],
   "source": [
    "# Fungsi untuk Teknik Resampling ke data test\n",
    "\n",
    "def resampler_to_val_set(resampler, matrics):\n",
    "    # Optimasi model benchmark\n",
    "\n",
    "    # Pilihan model yang akan digunakan\n",
    "    models = [logreg,knn,dt,rf,ada,gbc,catboost]\n",
    "    list_score = []\n",
    "\n",
    "    # Mencari model terbaik berdasarkan business score terbesar dan std terkecil\n",
    "    for i in models :\n",
    "        \n",
    "        estimator = Pipeline([\n",
    "            ('preprocess', preprocessor),\n",
    "            ('resample', resampler),\n",
    "            ('model to val set', i)\n",
    "        ])\n",
    "\n",
    "        # fitting\n",
    "        estimator.fit(X_train, y_train)\n",
    "\n",
    "        # predict\n",
    "        y_pred = estimator.predict(X_val)\n",
    "\n",
    "        # evaluate\n",
    "        score = matrics(y_val, y_pred)\n",
    "        list_score.append(score)\n",
    "\n",
    "    # Perbandingan performa antar model\n",
    "    df_resampler_predict = pd.DataFrame({\n",
    "        'model to val set':['Logistic Regression', 'KNN', 'Decision Tree', 'Random Forest', 'Ada Boosting', 'Gradient Boosting', 'Cat Boosting'],\n",
    "        'ROC_AUC (val_set)': list_score,\n",
    "    }).sort_values('ROC_AUC (val_set)', ascending=False)\n",
    "\n",
    "    return df_resampler_predict"
   ]
  },
  {
   "cell_type": "markdown",
   "metadata": {},
   "source": [
    "##### **2.1.2.1 ROS** (Random Over Sampling)"
   ]
  },
  {
   "cell_type": "markdown",
   "metadata": {},
   "source": [
    "Kita akan melihat nilai **rata-rata** dan **standar deviasi** untuk matrik ROC_AUC yang akan diterapkan teknik `ROS (Random Over Sampling)` pada **data train** dan pada **data validation**"
   ]
  },
  {
   "cell_type": "code",
   "execution_count": 15,
   "metadata": {},
   "outputs": [
    {
     "data": {
      "text/html": [
       "<div>\n",
       "<style scoped>\n",
       "    .dataframe tbody tr th:only-of-type {\n",
       "        vertical-align: middle;\n",
       "    }\n",
       "\n",
       "    .dataframe tbody tr th {\n",
       "        vertical-align: top;\n",
       "    }\n",
       "\n",
       "    .dataframe thead th {\n",
       "        text-align: right;\n",
       "    }\n",
       "</style>\n",
       "<table border=\"1\" class=\"dataframe\">\n",
       "  <thead>\n",
       "    <tr style=\"text-align: right;\">\n",
       "      <th></th>\n",
       "      <th>Mean ROC_AUC</th>\n",
       "      <th>Std ROC_AUC</th>\n",
       "    </tr>\n",
       "    <tr>\n",
       "      <th>model to train set</th>\n",
       "      <th></th>\n",
       "      <th></th>\n",
       "    </tr>\n",
       "  </thead>\n",
       "  <tbody>\n",
       "    <tr>\n",
       "      <th>Gradient Boosting</th>\n",
       "      <td>0.794736</td>\n",
       "      <td>0.003352</td>\n",
       "    </tr>\n",
       "    <tr>\n",
       "      <th>Ada Boosting</th>\n",
       "      <td>0.786521</td>\n",
       "      <td>0.006993</td>\n",
       "    </tr>\n",
       "    <tr>\n",
       "      <th>Cat Boosting</th>\n",
       "      <td>0.777628</td>\n",
       "      <td>0.009227</td>\n",
       "    </tr>\n",
       "    <tr>\n",
       "      <th>Logistic Regression</th>\n",
       "      <td>0.774027</td>\n",
       "      <td>0.007449</td>\n",
       "    </tr>\n",
       "    <tr>\n",
       "      <th>Random Forest</th>\n",
       "      <td>0.763877</td>\n",
       "      <td>0.006608</td>\n",
       "    </tr>\n",
       "    <tr>\n",
       "      <th>KNN</th>\n",
       "      <td>0.712207</td>\n",
       "      <td>0.008841</td>\n",
       "    </tr>\n",
       "    <tr>\n",
       "      <th>Decision Tree</th>\n",
       "      <td>0.617361</td>\n",
       "      <td>0.015617</td>\n",
       "    </tr>\n",
       "  </tbody>\n",
       "</table>\n",
       "</div>"
      ],
      "text/plain": [
       "                     Mean ROC_AUC  Std ROC_AUC\n",
       "model to train set                            \n",
       "Gradient Boosting        0.794736     0.003352\n",
       "Ada Boosting             0.786521     0.006993\n",
       "Cat Boosting             0.777628     0.009227\n",
       "Logistic Regression      0.774027     0.007449\n",
       "Random Forest            0.763877     0.006608\n",
       "KNN                      0.712207     0.008841\n",
       "Decision Tree            0.617361     0.015617"
      ]
     },
     "execution_count": 15,
     "metadata": {},
     "output_type": "execute_result"
    }
   ],
   "source": [
    "# Resampler Random Over Sampling pada data train\n",
    "df_ros_train = resampler_to_train_set(ros)\n",
    "df_ros_train"
   ]
  },
  {
   "cell_type": "markdown",
   "metadata": {},
   "source": [
    "Dari hasil **cross-validation** terhadap **`train_set`** diatas menggunakan resample `ROS (Random Over Sampling)` menghasilkan `Gradient Boosting` sebagai model terbaik dengan besar nilai **Mean ROC_AUC** sebesar `0.7958`, dengan nilai **Standar Deviasi** sebesar `0.0040`"
   ]
  },
  {
   "cell_type": "markdown",
   "metadata": {},
   "source": [
    "Selanjutnya kita akan predict ke data validation berikut:"
   ]
  },
  {
   "cell_type": "code",
   "execution_count": 16,
   "metadata": {},
   "outputs": [
    {
     "data": {
      "text/html": [
       "<div>\n",
       "<style scoped>\n",
       "    .dataframe tbody tr th:only-of-type {\n",
       "        vertical-align: middle;\n",
       "    }\n",
       "\n",
       "    .dataframe tbody tr th {\n",
       "        vertical-align: top;\n",
       "    }\n",
       "\n",
       "    .dataframe thead th {\n",
       "        text-align: right;\n",
       "    }\n",
       "</style>\n",
       "<table border=\"1\" class=\"dataframe\">\n",
       "  <thead>\n",
       "    <tr style=\"text-align: right;\">\n",
       "      <th></th>\n",
       "      <th>model to val set</th>\n",
       "      <th>ROC_AUC (val_set)</th>\n",
       "    </tr>\n",
       "  </thead>\n",
       "  <tbody>\n",
       "    <tr>\n",
       "      <th>5</th>\n",
       "      <td>Gradient Boosting</td>\n",
       "      <td>0.756461</td>\n",
       "    </tr>\n",
       "    <tr>\n",
       "      <th>6</th>\n",
       "      <td>Cat Boosting</td>\n",
       "      <td>0.743410</td>\n",
       "    </tr>\n",
       "    <tr>\n",
       "      <th>4</th>\n",
       "      <td>Ada Boosting</td>\n",
       "      <td>0.738627</td>\n",
       "    </tr>\n",
       "    <tr>\n",
       "      <th>0</th>\n",
       "      <td>Logistic Regression</td>\n",
       "      <td>0.731311</td>\n",
       "    </tr>\n",
       "    <tr>\n",
       "      <th>1</th>\n",
       "      <td>KNN</td>\n",
       "      <td>0.659153</td>\n",
       "    </tr>\n",
       "    <tr>\n",
       "      <th>3</th>\n",
       "      <td>Random Forest</td>\n",
       "      <td>0.655614</td>\n",
       "    </tr>\n",
       "    <tr>\n",
       "      <th>2</th>\n",
       "      <td>Decision Tree</td>\n",
       "      <td>0.618959</td>\n",
       "    </tr>\n",
       "  </tbody>\n",
       "</table>\n",
       "</div>"
      ],
      "text/plain": [
       "      model to val set  ROC_AUC (val_set)\n",
       "5    Gradient Boosting           0.756461\n",
       "6         Cat Boosting           0.743410\n",
       "4         Ada Boosting           0.738627\n",
       "0  Logistic Regression           0.731311\n",
       "1                  KNN           0.659153\n",
       "3        Random Forest           0.655614\n",
       "2        Decision Tree           0.618959"
      ]
     },
     "execution_count": 16,
     "metadata": {},
     "output_type": "execute_result"
    }
   ],
   "source": [
    "# Resampler Random Over Sampling pada data validation\n",
    "df_ros_predict = resampler_to_val_set(ros, roc_auc_score)\n",
    "df_ros_predict"
   ]
  },
  {
   "cell_type": "markdown",
   "metadata": {},
   "source": [
    "Dari hasil **cross-validation** terhadap **`validation_set`** diatas menggunakan resample `ROS (Random Over Sampling)` menghasilkan `Gradient Boosting` sebagai model terbaik dengan besar nilai **Score ROC_AUC** sebesar `0.7568`"
   ]
  },
  {
   "cell_type": "markdown",
   "metadata": {},
   "source": [
    "##### **2.1.2.2 SMOTE**"
   ]
  },
  {
   "cell_type": "markdown",
   "metadata": {},
   "source": [
    "Kita akan melihat nilai **rata-rata** dan **standar deviasi** untuk matrik ROC_AUC yang akan diterapkan teknik `SMOTE` pada **data train** dan pada **data validation**"
   ]
  },
  {
   "cell_type": "code",
   "execution_count": 17,
   "metadata": {},
   "outputs": [
    {
     "data": {
      "text/html": [
       "<div>\n",
       "<style scoped>\n",
       "    .dataframe tbody tr th:only-of-type {\n",
       "        vertical-align: middle;\n",
       "    }\n",
       "\n",
       "    .dataframe tbody tr th {\n",
       "        vertical-align: top;\n",
       "    }\n",
       "\n",
       "    .dataframe thead th {\n",
       "        text-align: right;\n",
       "    }\n",
       "</style>\n",
       "<table border=\"1\" class=\"dataframe\">\n",
       "  <thead>\n",
       "    <tr style=\"text-align: right;\">\n",
       "      <th></th>\n",
       "      <th>Mean ROC_AUC</th>\n",
       "      <th>Std ROC_AUC</th>\n",
       "    </tr>\n",
       "    <tr>\n",
       "      <th>model to train set</th>\n",
       "      <th></th>\n",
       "      <th></th>\n",
       "    </tr>\n",
       "  </thead>\n",
       "  <tbody>\n",
       "    <tr>\n",
       "      <th>Cat Boosting</th>\n",
       "      <td>0.784107</td>\n",
       "      <td>0.009479</td>\n",
       "    </tr>\n",
       "    <tr>\n",
       "      <th>Gradient Boosting</th>\n",
       "      <td>0.781401</td>\n",
       "      <td>0.009413</td>\n",
       "    </tr>\n",
       "    <tr>\n",
       "      <th>Logistic Regression</th>\n",
       "      <td>0.772935</td>\n",
       "      <td>0.009729</td>\n",
       "    </tr>\n",
       "    <tr>\n",
       "      <th>Random Forest</th>\n",
       "      <td>0.770215</td>\n",
       "      <td>0.006112</td>\n",
       "    </tr>\n",
       "    <tr>\n",
       "      <th>Ada Boosting</th>\n",
       "      <td>0.765191</td>\n",
       "      <td>0.004493</td>\n",
       "    </tr>\n",
       "    <tr>\n",
       "      <th>KNN</th>\n",
       "      <td>0.726515</td>\n",
       "      <td>0.009041</td>\n",
       "    </tr>\n",
       "    <tr>\n",
       "      <th>Decision Tree</th>\n",
       "      <td>0.626741</td>\n",
       "      <td>0.008566</td>\n",
       "    </tr>\n",
       "  </tbody>\n",
       "</table>\n",
       "</div>"
      ],
      "text/plain": [
       "                     Mean ROC_AUC  Std ROC_AUC\n",
       "model to train set                            \n",
       "Cat Boosting             0.784107     0.009479\n",
       "Gradient Boosting        0.781401     0.009413\n",
       "Logistic Regression      0.772935     0.009729\n",
       "Random Forest            0.770215     0.006112\n",
       "Ada Boosting             0.765191     0.004493\n",
       "KNN                      0.726515     0.009041\n",
       "Decision Tree            0.626741     0.008566"
      ]
     },
     "execution_count": 17,
     "metadata": {},
     "output_type": "execute_result"
    }
   ],
   "source": [
    "# Resampler SMOTE pada data train\n",
    "df_smote_train = resampler_to_train_set(smote)\n",
    "df_smote_train"
   ]
  },
  {
   "cell_type": "markdown",
   "metadata": {},
   "source": [
    "Dari hasil **cross-validation** terhadap **`train_set`** diatas menggunakan resample `SMOTE` menghasilkan `Cat Boosting` sebagai model terbaik dengan besar nilai **Mean ROC_AUC** sebesar `0.7845`, dengan nilai **Standar Deviasi** sebesar `0.0076`"
   ]
  },
  {
   "cell_type": "markdown",
   "metadata": {},
   "source": [
    "Selanjutnya kita akan predict ke data validation berikut:"
   ]
  },
  {
   "cell_type": "code",
   "execution_count": 18,
   "metadata": {},
   "outputs": [
    {
     "data": {
      "text/html": [
       "<div>\n",
       "<style scoped>\n",
       "    .dataframe tbody tr th:only-of-type {\n",
       "        vertical-align: middle;\n",
       "    }\n",
       "\n",
       "    .dataframe tbody tr th {\n",
       "        vertical-align: top;\n",
       "    }\n",
       "\n",
       "    .dataframe thead th {\n",
       "        text-align: right;\n",
       "    }\n",
       "</style>\n",
       "<table border=\"1\" class=\"dataframe\">\n",
       "  <thead>\n",
       "    <tr style=\"text-align: right;\">\n",
       "      <th></th>\n",
       "      <th>model to val set</th>\n",
       "      <th>ROC_AUC (val_set)</th>\n",
       "    </tr>\n",
       "  </thead>\n",
       "  <tbody>\n",
       "    <tr>\n",
       "      <th>0</th>\n",
       "      <td>Logistic Regression</td>\n",
       "      <td>0.730826</td>\n",
       "    </tr>\n",
       "    <tr>\n",
       "      <th>4</th>\n",
       "      <td>Ada Boosting</td>\n",
       "      <td>0.721502</td>\n",
       "    </tr>\n",
       "    <tr>\n",
       "      <th>5</th>\n",
       "      <td>Gradient Boosting</td>\n",
       "      <td>0.712130</td>\n",
       "    </tr>\n",
       "    <tr>\n",
       "      <th>1</th>\n",
       "      <td>KNN</td>\n",
       "      <td>0.672852</td>\n",
       "    </tr>\n",
       "    <tr>\n",
       "      <th>3</th>\n",
       "      <td>Random Forest</td>\n",
       "      <td>0.654304</td>\n",
       "    </tr>\n",
       "    <tr>\n",
       "      <th>6</th>\n",
       "      <td>Cat Boosting</td>\n",
       "      <td>0.637737</td>\n",
       "    </tr>\n",
       "    <tr>\n",
       "      <th>2</th>\n",
       "      <td>Decision Tree</td>\n",
       "      <td>0.624948</td>\n",
       "    </tr>\n",
       "  </tbody>\n",
       "</table>\n",
       "</div>"
      ],
      "text/plain": [
       "      model to val set  ROC_AUC (val_set)\n",
       "0  Logistic Regression           0.730826\n",
       "4         Ada Boosting           0.721502\n",
       "5    Gradient Boosting           0.712130\n",
       "1                  KNN           0.672852\n",
       "3        Random Forest           0.654304\n",
       "6         Cat Boosting           0.637737\n",
       "2        Decision Tree           0.624948"
      ]
     },
     "execution_count": 18,
     "metadata": {},
     "output_type": "execute_result"
    }
   ],
   "source": [
    "# Resampler SMOTE pada data validation\n",
    "df_smote_predict = resampler_to_val_set(smote, roc_auc_score)\n",
    "df_smote_predict"
   ]
  },
  {
   "cell_type": "markdown",
   "metadata": {},
   "source": [
    "Dari hasil **cross-validation** terhadap **`validation_set`** diatas menggunakan resample `SMOTE` menghasilkan `Logistic Regression` sebagai model terbaik dengan besar nilai **Score ROC_AUC** sebesar `0.7312`"
   ]
  },
  {
   "cell_type": "markdown",
   "metadata": {},
   "source": [
    "##### **2.1.2.3 RUS** (Random Under Sampling)"
   ]
  },
  {
   "cell_type": "markdown",
   "metadata": {},
   "source": [
    "Kita akan melihat nilai **rata-rata** dan **standar deviasi** untuk matrik ROC_AUC yang akan diterapkan teknik `RUS (Random Under Sampling)` pada **data train** dan pada **data validation**"
   ]
  },
  {
   "cell_type": "code",
   "execution_count": 19,
   "metadata": {},
   "outputs": [
    {
     "data": {
      "text/html": [
       "<div>\n",
       "<style scoped>\n",
       "    .dataframe tbody tr th:only-of-type {\n",
       "        vertical-align: middle;\n",
       "    }\n",
       "\n",
       "    .dataframe tbody tr th {\n",
       "        vertical-align: top;\n",
       "    }\n",
       "\n",
       "    .dataframe thead th {\n",
       "        text-align: right;\n",
       "    }\n",
       "</style>\n",
       "<table border=\"1\" class=\"dataframe\">\n",
       "  <thead>\n",
       "    <tr style=\"text-align: right;\">\n",
       "      <th></th>\n",
       "      <th>Mean ROC_AUC</th>\n",
       "      <th>Std ROC_AUC</th>\n",
       "    </tr>\n",
       "    <tr>\n",
       "      <th>model to train set</th>\n",
       "      <th></th>\n",
       "      <th></th>\n",
       "    </tr>\n",
       "  </thead>\n",
       "  <tbody>\n",
       "    <tr>\n",
       "      <th>Gradient Boosting</th>\n",
       "      <td>0.792930</td>\n",
       "      <td>0.003653</td>\n",
       "    </tr>\n",
       "    <tr>\n",
       "      <th>Cat Boosting</th>\n",
       "      <td>0.791070</td>\n",
       "      <td>0.004798</td>\n",
       "    </tr>\n",
       "    <tr>\n",
       "      <th>Ada Boosting</th>\n",
       "      <td>0.783818</td>\n",
       "      <td>0.007898</td>\n",
       "    </tr>\n",
       "    <tr>\n",
       "      <th>Random Forest</th>\n",
       "      <td>0.774912</td>\n",
       "      <td>0.006584</td>\n",
       "    </tr>\n",
       "    <tr>\n",
       "      <th>Logistic Regression</th>\n",
       "      <td>0.774446</td>\n",
       "      <td>0.007427</td>\n",
       "    </tr>\n",
       "    <tr>\n",
       "      <th>KNN</th>\n",
       "      <td>0.745521</td>\n",
       "      <td>0.005703</td>\n",
       "    </tr>\n",
       "    <tr>\n",
       "      <th>Decision Tree</th>\n",
       "      <td>0.638560</td>\n",
       "      <td>0.007148</td>\n",
       "    </tr>\n",
       "  </tbody>\n",
       "</table>\n",
       "</div>"
      ],
      "text/plain": [
       "                     Mean ROC_AUC  Std ROC_AUC\n",
       "model to train set                            \n",
       "Gradient Boosting        0.792930     0.003653\n",
       "Cat Boosting             0.791070     0.004798\n",
       "Ada Boosting             0.783818     0.007898\n",
       "Random Forest            0.774912     0.006584\n",
       "Logistic Regression      0.774446     0.007427\n",
       "KNN                      0.745521     0.005703\n",
       "Decision Tree            0.638560     0.007148"
      ]
     },
     "execution_count": 19,
     "metadata": {},
     "output_type": "execute_result"
    }
   ],
   "source": [
    "# Resampler Random Under Sampling pada data train\n",
    "df_rus_train = resampler_to_train_set(rus)\n",
    "df_rus_train\n"
   ]
  },
  {
   "cell_type": "markdown",
   "metadata": {},
   "source": [
    "Dari hasil **cross-validation** terhadap **`train_set`** diatas menggunakan resample `RUS (Random Under Sampling)` menghasilkan `Gradient Boosting` sebagai model terbaik dengan besar nilai **Mean ROC_AUC** sebesar `0.7927`, dengan nilai **Standar Deviasi** sebesar `0.0035`"
   ]
  },
  {
   "cell_type": "markdown",
   "metadata": {},
   "source": [
    "Selanjutnya kita akan predict ke data validation berikut:"
   ]
  },
  {
   "cell_type": "code",
   "execution_count": 20,
   "metadata": {},
   "outputs": [
    {
     "data": {
      "text/html": [
       "<div>\n",
       "<style scoped>\n",
       "    .dataframe tbody tr th:only-of-type {\n",
       "        vertical-align: middle;\n",
       "    }\n",
       "\n",
       "    .dataframe tbody tr th {\n",
       "        vertical-align: top;\n",
       "    }\n",
       "\n",
       "    .dataframe thead th {\n",
       "        text-align: right;\n",
       "    }\n",
       "</style>\n",
       "<table border=\"1\" class=\"dataframe\">\n",
       "  <thead>\n",
       "    <tr style=\"text-align: right;\">\n",
       "      <th></th>\n",
       "      <th>model to val set</th>\n",
       "      <th>ROC_AUC (val_set)</th>\n",
       "    </tr>\n",
       "  </thead>\n",
       "  <tbody>\n",
       "    <tr>\n",
       "      <th>6</th>\n",
       "      <td>Cat Boosting</td>\n",
       "      <td>0.751325</td>\n",
       "    </tr>\n",
       "    <tr>\n",
       "      <th>5</th>\n",
       "      <td>Gradient Boosting</td>\n",
       "      <td>0.749471</td>\n",
       "    </tr>\n",
       "    <tr>\n",
       "      <th>4</th>\n",
       "      <td>Ada Boosting</td>\n",
       "      <td>0.736494</td>\n",
       "    </tr>\n",
       "    <tr>\n",
       "      <th>0</th>\n",
       "      <td>Logistic Regression</td>\n",
       "      <td>0.732665</td>\n",
       "    </tr>\n",
       "    <tr>\n",
       "      <th>3</th>\n",
       "      <td>Random Forest</td>\n",
       "      <td>0.729677</td>\n",
       "    </tr>\n",
       "    <tr>\n",
       "      <th>1</th>\n",
       "      <td>KNN</td>\n",
       "      <td>0.696848</td>\n",
       "    </tr>\n",
       "    <tr>\n",
       "      <th>2</th>\n",
       "      <td>Decision Tree</td>\n",
       "      <td>0.633867</td>\n",
       "    </tr>\n",
       "  </tbody>\n",
       "</table>\n",
       "</div>"
      ],
      "text/plain": [
       "      model to val set  ROC_AUC (val_set)\n",
       "6         Cat Boosting           0.751325\n",
       "5    Gradient Boosting           0.749471\n",
       "4         Ada Boosting           0.736494\n",
       "0  Logistic Regression           0.732665\n",
       "3        Random Forest           0.729677\n",
       "1                  KNN           0.696848\n",
       "2        Decision Tree           0.633867"
      ]
     },
     "execution_count": 20,
     "metadata": {},
     "output_type": "execute_result"
    }
   ],
   "source": [
    "# Resampler Random Under Sampling pada data validation\n",
    "df_rus_predict = resampler_to_val_set(rus, roc_auc_score)\n",
    "df_rus_predict"
   ]
  },
  {
   "cell_type": "markdown",
   "metadata": {},
   "source": [
    "Dari hasil **cross-validation** terhadap **`validation_set`** diatas menggunakan resample `RUS (Random Under Sampling)` menghasilkan `Gradient Boosting` sebagai model terbaik dengan besar nilai **Score ROC_AUC** sebesar `0.7544`"
   ]
  },
  {
   "cell_type": "markdown",
   "metadata": {},
   "source": [
    "##### **2.1.2.4 Nearmiss**"
   ]
  },
  {
   "cell_type": "markdown",
   "metadata": {},
   "source": [
    "Kita akan melihat nilai **rata-rata** dan **standar deviasi** untuk matrik ROC_AUC yang akan diterapkan teknik `Nearmiss` pada **data train** dan pada **data validation**"
   ]
  },
  {
   "cell_type": "code",
   "execution_count": 21,
   "metadata": {},
   "outputs": [
    {
     "data": {
      "text/html": [
       "<div>\n",
       "<style scoped>\n",
       "    .dataframe tbody tr th:only-of-type {\n",
       "        vertical-align: middle;\n",
       "    }\n",
       "\n",
       "    .dataframe tbody tr th {\n",
       "        vertical-align: top;\n",
       "    }\n",
       "\n",
       "    .dataframe thead th {\n",
       "        text-align: right;\n",
       "    }\n",
       "</style>\n",
       "<table border=\"1\" class=\"dataframe\">\n",
       "  <thead>\n",
       "    <tr style=\"text-align: right;\">\n",
       "      <th></th>\n",
       "      <th>Mean ROC_AUC</th>\n",
       "      <th>Std ROC_AUC</th>\n",
       "    </tr>\n",
       "    <tr>\n",
       "      <th>model to train set</th>\n",
       "      <th></th>\n",
       "      <th></th>\n",
       "    </tr>\n",
       "  </thead>\n",
       "  <tbody>\n",
       "    <tr>\n",
       "      <th>Random Forest</th>\n",
       "      <td>0.719982</td>\n",
       "      <td>0.012452</td>\n",
       "    </tr>\n",
       "    <tr>\n",
       "      <th>KNN</th>\n",
       "      <td>0.708805</td>\n",
       "      <td>0.012611</td>\n",
       "    </tr>\n",
       "    <tr>\n",
       "      <th>Gradient Boosting</th>\n",
       "      <td>0.704188</td>\n",
       "      <td>0.008691</td>\n",
       "    </tr>\n",
       "    <tr>\n",
       "      <th>Cat Boosting</th>\n",
       "      <td>0.702102</td>\n",
       "      <td>0.009892</td>\n",
       "    </tr>\n",
       "    <tr>\n",
       "      <th>Logistic Regression</th>\n",
       "      <td>0.701447</td>\n",
       "      <td>0.006485</td>\n",
       "    </tr>\n",
       "    <tr>\n",
       "      <th>Ada Boosting</th>\n",
       "      <td>0.701206</td>\n",
       "      <td>0.012827</td>\n",
       "    </tr>\n",
       "    <tr>\n",
       "      <th>Decision Tree</th>\n",
       "      <td>0.594739</td>\n",
       "      <td>0.008063</td>\n",
       "    </tr>\n",
       "  </tbody>\n",
       "</table>\n",
       "</div>"
      ],
      "text/plain": [
       "                     Mean ROC_AUC  Std ROC_AUC\n",
       "model to train set                            \n",
       "Random Forest            0.719982     0.012452\n",
       "KNN                      0.708805     0.012611\n",
       "Gradient Boosting        0.704188     0.008691\n",
       "Cat Boosting             0.702102     0.009892\n",
       "Logistic Regression      0.701447     0.006485\n",
       "Ada Boosting             0.701206     0.012827\n",
       "Decision Tree            0.594739     0.008063"
      ]
     },
     "execution_count": 21,
     "metadata": {},
     "output_type": "execute_result"
    }
   ],
   "source": [
    "# Resampler Nearmiss pada data train\n",
    "df_nearmiss_train = resampler_to_train_set(nearmiss)\n",
    "df_nearmiss_train"
   ]
  },
  {
   "cell_type": "markdown",
   "metadata": {},
   "source": [
    "Dari hasil **cross-validation** terhadap **`train_set`** diatas menggunakan resample `Nearmiss` menghasilkan `Random Forest` sebagai model terbaik dengan besar nilai **Mean ROC_AUC** sebesar `0.7062`, dengan nilai **Standar Deviasi** sebesar `0.0138`"
   ]
  },
  {
   "cell_type": "markdown",
   "metadata": {},
   "source": [
    "Selanjutnya kita akan predict ke data validation berikut:"
   ]
  },
  {
   "cell_type": "code",
   "execution_count": 22,
   "metadata": {},
   "outputs": [
    {
     "data": {
      "text/html": [
       "<div>\n",
       "<style scoped>\n",
       "    .dataframe tbody tr th:only-of-type {\n",
       "        vertical-align: middle;\n",
       "    }\n",
       "\n",
       "    .dataframe tbody tr th {\n",
       "        vertical-align: top;\n",
       "    }\n",
       "\n",
       "    .dataframe thead th {\n",
       "        text-align: right;\n",
       "    }\n",
       "</style>\n",
       "<table border=\"1\" class=\"dataframe\">\n",
       "  <thead>\n",
       "    <tr style=\"text-align: right;\">\n",
       "      <th></th>\n",
       "      <th>model to val set</th>\n",
       "      <th>ROC_AUC (val_set)</th>\n",
       "    </tr>\n",
       "  </thead>\n",
       "  <tbody>\n",
       "    <tr>\n",
       "      <th>1</th>\n",
       "      <td>KNN</td>\n",
       "      <td>0.653097</td>\n",
       "    </tr>\n",
       "    <tr>\n",
       "      <th>4</th>\n",
       "      <td>Ada Boosting</td>\n",
       "      <td>0.620910</td>\n",
       "    </tr>\n",
       "    <tr>\n",
       "      <th>0</th>\n",
       "      <td>Logistic Regression</td>\n",
       "      <td>0.603798</td>\n",
       "    </tr>\n",
       "    <tr>\n",
       "      <th>5</th>\n",
       "      <td>Gradient Boosting</td>\n",
       "      <td>0.603649</td>\n",
       "    </tr>\n",
       "    <tr>\n",
       "      <th>6</th>\n",
       "      <td>Cat Boosting</td>\n",
       "      <td>0.594054</td>\n",
       "    </tr>\n",
       "    <tr>\n",
       "      <th>3</th>\n",
       "      <td>Random Forest</td>\n",
       "      <td>0.587269</td>\n",
       "    </tr>\n",
       "    <tr>\n",
       "      <th>2</th>\n",
       "      <td>Decision Tree</td>\n",
       "      <td>0.577559</td>\n",
       "    </tr>\n",
       "  </tbody>\n",
       "</table>\n",
       "</div>"
      ],
      "text/plain": [
       "      model to val set  ROC_AUC (val_set)\n",
       "1                  KNN           0.653097\n",
       "4         Ada Boosting           0.620910\n",
       "0  Logistic Regression           0.603798\n",
       "5    Gradient Boosting           0.603649\n",
       "6         Cat Boosting           0.594054\n",
       "3        Random Forest           0.587269\n",
       "2        Decision Tree           0.577559"
      ]
     },
     "execution_count": 22,
     "metadata": {},
     "output_type": "execute_result"
    }
   ],
   "source": [
    "# Resampler Nearmiss pada data validation\n",
    "df_nearmiss_predict = resampler_to_val_set(nearmiss, roc_auc_score)\n",
    "df_nearmiss_predict"
   ]
  },
  {
   "cell_type": "markdown",
   "metadata": {},
   "source": [
    "Dari hasil **cross-validation** terhadap **`validation_set`** diatas menggunakan resample `Nearmiss` menghasilkan `KNN` sebagai model terbaik dengan besar nilai **Score ROC_AUC** sebesar `0.6264`"
   ]
  },
  {
   "cell_type": "markdown",
   "metadata": {},
   "source": [
    "##### **2.1.2.5 SMOTEENN**"
   ]
  },
  {
   "cell_type": "markdown",
   "metadata": {},
   "source": [
    "Kita akan melihat nilai **rata-rata** dan **standar deviasi** untuk matrik ROC_AUC yang akan diterapkan teknik `SMOTEENN` pada **data train** dan pada **data validation**"
   ]
  },
  {
   "cell_type": "code",
   "execution_count": 23,
   "metadata": {},
   "outputs": [
    {
     "data": {
      "text/html": [
       "<div>\n",
       "<style scoped>\n",
       "    .dataframe tbody tr th:only-of-type {\n",
       "        vertical-align: middle;\n",
       "    }\n",
       "\n",
       "    .dataframe tbody tr th {\n",
       "        vertical-align: top;\n",
       "    }\n",
       "\n",
       "    .dataframe thead th {\n",
       "        text-align: right;\n",
       "    }\n",
       "</style>\n",
       "<table border=\"1\" class=\"dataframe\">\n",
       "  <thead>\n",
       "    <tr style=\"text-align: right;\">\n",
       "      <th></th>\n",
       "      <th>Mean ROC_AUC</th>\n",
       "      <th>Std ROC_AUC</th>\n",
       "    </tr>\n",
       "    <tr>\n",
       "      <th>model to train set</th>\n",
       "      <th></th>\n",
       "      <th></th>\n",
       "    </tr>\n",
       "  </thead>\n",
       "  <tbody>\n",
       "    <tr>\n",
       "      <th>Gradient Boosting</th>\n",
       "      <td>0.787936</td>\n",
       "      <td>0.006545</td>\n",
       "    </tr>\n",
       "    <tr>\n",
       "      <th>Cat Boosting</th>\n",
       "      <td>0.786254</td>\n",
       "      <td>0.007196</td>\n",
       "    </tr>\n",
       "    <tr>\n",
       "      <th>Random Forest</th>\n",
       "      <td>0.779920</td>\n",
       "      <td>0.006656</td>\n",
       "    </tr>\n",
       "    <tr>\n",
       "      <th>Ada Boosting</th>\n",
       "      <td>0.773872</td>\n",
       "      <td>0.011742</td>\n",
       "    </tr>\n",
       "    <tr>\n",
       "      <th>Logistic Regression</th>\n",
       "      <td>0.754514</td>\n",
       "      <td>0.036617</td>\n",
       "    </tr>\n",
       "    <tr>\n",
       "      <th>KNN</th>\n",
       "      <td>0.726287</td>\n",
       "      <td>0.005576</td>\n",
       "    </tr>\n",
       "    <tr>\n",
       "      <th>Decision Tree</th>\n",
       "      <td>0.707740</td>\n",
       "      <td>0.009219</td>\n",
       "    </tr>\n",
       "  </tbody>\n",
       "</table>\n",
       "</div>"
      ],
      "text/plain": [
       "                     Mean ROC_AUC  Std ROC_AUC\n",
       "model to train set                            \n",
       "Gradient Boosting        0.787936     0.006545\n",
       "Cat Boosting             0.786254     0.007196\n",
       "Random Forest            0.779920     0.006656\n",
       "Ada Boosting             0.773872     0.011742\n",
       "Logistic Regression      0.754514     0.036617\n",
       "KNN                      0.726287     0.005576\n",
       "Decision Tree            0.707740     0.009219"
      ]
     },
     "execution_count": 23,
     "metadata": {},
     "output_type": "execute_result"
    }
   ],
   "source": [
    "# Resampler SMOTEEN pada data train\n",
    "df_smoteenn_train = resampler_to_train_set(smoteenn)\n",
    "df_smoteenn_train"
   ]
  },
  {
   "cell_type": "markdown",
   "metadata": {},
   "source": [
    "Dari hasil **cross-validation** terhadap **`train_set`** diatas menggunakan resample `SMOTEENN` menghasilkan `Gradient Boosting` sebagai model terbaik dengan besar nilai **Mean ROC_AUC** sebesar `0.7885`, dengan nilai **Standar Deviasi** sebesar `0.0055`"
   ]
  },
  {
   "cell_type": "markdown",
   "metadata": {},
   "source": [
    "Selanjutnya kita akan predict ke data validation berikut:"
   ]
  },
  {
   "cell_type": "code",
   "execution_count": 24,
   "metadata": {},
   "outputs": [
    {
     "data": {
      "text/html": [
       "<div>\n",
       "<style scoped>\n",
       "    .dataframe tbody tr th:only-of-type {\n",
       "        vertical-align: middle;\n",
       "    }\n",
       "\n",
       "    .dataframe tbody tr th {\n",
       "        vertical-align: top;\n",
       "    }\n",
       "\n",
       "    .dataframe thead th {\n",
       "        text-align: right;\n",
       "    }\n",
       "</style>\n",
       "<table border=\"1\" class=\"dataframe\">\n",
       "  <thead>\n",
       "    <tr style=\"text-align: right;\">\n",
       "      <th></th>\n",
       "      <th>model to val set</th>\n",
       "      <th>ROC_AUC (val_set)</th>\n",
       "    </tr>\n",
       "  </thead>\n",
       "  <tbody>\n",
       "    <tr>\n",
       "      <th>5</th>\n",
       "      <td>Gradient Boosting</td>\n",
       "      <td>0.745530</td>\n",
       "    </tr>\n",
       "    <tr>\n",
       "      <th>3</th>\n",
       "      <td>Random Forest</td>\n",
       "      <td>0.741380</td>\n",
       "    </tr>\n",
       "    <tr>\n",
       "      <th>4</th>\n",
       "      <td>Ada Boosting</td>\n",
       "      <td>0.737730</td>\n",
       "    </tr>\n",
       "    <tr>\n",
       "      <th>6</th>\n",
       "      <td>Cat Boosting</td>\n",
       "      <td>0.737364</td>\n",
       "    </tr>\n",
       "    <tr>\n",
       "      <th>0</th>\n",
       "      <td>Logistic Regression</td>\n",
       "      <td>0.730340</td>\n",
       "    </tr>\n",
       "    <tr>\n",
       "      <th>2</th>\n",
       "      <td>Decision Tree</td>\n",
       "      <td>0.711023</td>\n",
       "    </tr>\n",
       "    <tr>\n",
       "      <th>1</th>\n",
       "      <td>KNN</td>\n",
       "      <td>0.693258</td>\n",
       "    </tr>\n",
       "  </tbody>\n",
       "</table>\n",
       "</div>"
      ],
      "text/plain": [
       "      model to val set  ROC_AUC (val_set)\n",
       "5    Gradient Boosting           0.745530\n",
       "3        Random Forest           0.741380\n",
       "4         Ada Boosting           0.737730\n",
       "6         Cat Boosting           0.737364\n",
       "0  Logistic Regression           0.730340\n",
       "2        Decision Tree           0.711023\n",
       "1                  KNN           0.693258"
      ]
     },
     "execution_count": 24,
     "metadata": {},
     "output_type": "execute_result"
    }
   ],
   "source": [
    "# Resampler SMOTEENN pada data validation\n",
    "df_smoteenn_predict = resampler_to_val_set(smoteenn, roc_auc_score)\n",
    "df_smoteenn_predict"
   ]
  },
  {
   "cell_type": "markdown",
   "metadata": {},
   "source": [
    "Dari hasil **cross-validation** terhadap **`validation_set`** diatas menggunakan resample `SMOTEEN` menghasilkan `Gradient Boosting` sebagai model terbaik dengan besar nilai **Score ROC_AUC** sebesar `0.7438`"
   ]
  },
  {
   "cell_type": "markdown",
   "metadata": {},
   "source": [
    "#### **2.1.3 Teknik Resampling Terpilih**"
   ]
  },
  {
   "cell_type": "markdown",
   "metadata": {},
   "source": [
    "Summary dari hasil teknik resampling diatas ialah sebagai berikut:"
   ]
  },
  {
   "cell_type": "code",
   "execution_count": 25,
   "metadata": {},
   "outputs": [
    {
     "data": {
      "text/html": [
       "<div>\n",
       "<style scoped>\n",
       "    .dataframe tbody tr th:only-of-type {\n",
       "        vertical-align: middle;\n",
       "    }\n",
       "\n",
       "    .dataframe tbody tr th {\n",
       "        vertical-align: top;\n",
       "    }\n",
       "\n",
       "    .dataframe thead th {\n",
       "        text-align: right;\n",
       "    }\n",
       "</style>\n",
       "<table border=\"1\" class=\"dataframe\">\n",
       "  <thead>\n",
       "    <tr style=\"text-align: right;\">\n",
       "      <th></th>\n",
       "      <th>Mean ROC_AUC</th>\n",
       "      <th>Std ROC_AUC</th>\n",
       "      <th>Label</th>\n",
       "    </tr>\n",
       "    <tr>\n",
       "      <th>model to train set</th>\n",
       "      <th></th>\n",
       "      <th></th>\n",
       "      <th></th>\n",
       "    </tr>\n",
       "  </thead>\n",
       "  <tbody>\n",
       "    <tr>\n",
       "      <th>Gradient Boosting</th>\n",
       "      <td>0.794736</td>\n",
       "      <td>0.003352</td>\n",
       "      <td>ROS Train</td>\n",
       "    </tr>\n",
       "    <tr>\n",
       "      <th>Ada Boosting</th>\n",
       "      <td>0.786521</td>\n",
       "      <td>0.006993</td>\n",
       "      <td>ROS Train</td>\n",
       "    </tr>\n",
       "    <tr>\n",
       "      <th>Cat Boosting</th>\n",
       "      <td>0.777628</td>\n",
       "      <td>0.009227</td>\n",
       "      <td>ROS Train</td>\n",
       "    </tr>\n",
       "  </tbody>\n",
       "</table>\n",
       "</div>"
      ],
      "text/plain": [
       "                    Mean ROC_AUC  Std ROC_AUC      Label\n",
       "model to train set                                      \n",
       "Gradient Boosting       0.794736     0.003352  ROS Train\n",
       "Ada Boosting            0.786521     0.006993  ROS Train\n",
       "Cat Boosting            0.777628     0.009227  ROS Train"
      ]
     },
     "metadata": {},
     "output_type": "display_data"
    },
    {
     "data": {
      "text/html": [
       "<div>\n",
       "<style scoped>\n",
       "    .dataframe tbody tr th:only-of-type {\n",
       "        vertical-align: middle;\n",
       "    }\n",
       "\n",
       "    .dataframe tbody tr th {\n",
       "        vertical-align: top;\n",
       "    }\n",
       "\n",
       "    .dataframe thead th {\n",
       "        text-align: right;\n",
       "    }\n",
       "</style>\n",
       "<table border=\"1\" class=\"dataframe\">\n",
       "  <thead>\n",
       "    <tr style=\"text-align: right;\">\n",
       "      <th></th>\n",
       "      <th>Mean ROC_AUC</th>\n",
       "      <th>Std ROC_AUC</th>\n",
       "      <th>Label</th>\n",
       "    </tr>\n",
       "    <tr>\n",
       "      <th>model to train set</th>\n",
       "      <th></th>\n",
       "      <th></th>\n",
       "      <th></th>\n",
       "    </tr>\n",
       "  </thead>\n",
       "  <tbody>\n",
       "    <tr>\n",
       "      <th>Cat Boosting</th>\n",
       "      <td>0.784107</td>\n",
       "      <td>0.009479</td>\n",
       "      <td>SMOTE Train</td>\n",
       "    </tr>\n",
       "    <tr>\n",
       "      <th>Gradient Boosting</th>\n",
       "      <td>0.781401</td>\n",
       "      <td>0.009413</td>\n",
       "      <td>SMOTE Train</td>\n",
       "    </tr>\n",
       "    <tr>\n",
       "      <th>Logistic Regression</th>\n",
       "      <td>0.772935</td>\n",
       "      <td>0.009729</td>\n",
       "      <td>SMOTE Train</td>\n",
       "    </tr>\n",
       "  </tbody>\n",
       "</table>\n",
       "</div>"
      ],
      "text/plain": [
       "                     Mean ROC_AUC  Std ROC_AUC        Label\n",
       "model to train set                                         \n",
       "Cat Boosting             0.784107     0.009479  SMOTE Train\n",
       "Gradient Boosting        0.781401     0.009413  SMOTE Train\n",
       "Logistic Regression      0.772935     0.009729  SMOTE Train"
      ]
     },
     "metadata": {},
     "output_type": "display_data"
    },
    {
     "data": {
      "text/html": [
       "<div>\n",
       "<style scoped>\n",
       "    .dataframe tbody tr th:only-of-type {\n",
       "        vertical-align: middle;\n",
       "    }\n",
       "\n",
       "    .dataframe tbody tr th {\n",
       "        vertical-align: top;\n",
       "    }\n",
       "\n",
       "    .dataframe thead th {\n",
       "        text-align: right;\n",
       "    }\n",
       "</style>\n",
       "<table border=\"1\" class=\"dataframe\">\n",
       "  <thead>\n",
       "    <tr style=\"text-align: right;\">\n",
       "      <th></th>\n",
       "      <th>Mean ROC_AUC</th>\n",
       "      <th>Std ROC_AUC</th>\n",
       "      <th>Label</th>\n",
       "    </tr>\n",
       "    <tr>\n",
       "      <th>model to train set</th>\n",
       "      <th></th>\n",
       "      <th></th>\n",
       "      <th></th>\n",
       "    </tr>\n",
       "  </thead>\n",
       "  <tbody>\n",
       "    <tr>\n",
       "      <th>Gradient Boosting</th>\n",
       "      <td>0.792930</td>\n",
       "      <td>0.003653</td>\n",
       "      <td>RUS Train</td>\n",
       "    </tr>\n",
       "    <tr>\n",
       "      <th>Cat Boosting</th>\n",
       "      <td>0.791070</td>\n",
       "      <td>0.004798</td>\n",
       "      <td>RUS Train</td>\n",
       "    </tr>\n",
       "    <tr>\n",
       "      <th>Ada Boosting</th>\n",
       "      <td>0.783818</td>\n",
       "      <td>0.007898</td>\n",
       "      <td>RUS Train</td>\n",
       "    </tr>\n",
       "  </tbody>\n",
       "</table>\n",
       "</div>"
      ],
      "text/plain": [
       "                    Mean ROC_AUC  Std ROC_AUC      Label\n",
       "model to train set                                      \n",
       "Gradient Boosting       0.792930     0.003653  RUS Train\n",
       "Cat Boosting            0.791070     0.004798  RUS Train\n",
       "Ada Boosting            0.783818     0.007898  RUS Train"
      ]
     },
     "metadata": {},
     "output_type": "display_data"
    },
    {
     "data": {
      "text/html": [
       "<div>\n",
       "<style scoped>\n",
       "    .dataframe tbody tr th:only-of-type {\n",
       "        vertical-align: middle;\n",
       "    }\n",
       "\n",
       "    .dataframe tbody tr th {\n",
       "        vertical-align: top;\n",
       "    }\n",
       "\n",
       "    .dataframe thead th {\n",
       "        text-align: right;\n",
       "    }\n",
       "</style>\n",
       "<table border=\"1\" class=\"dataframe\">\n",
       "  <thead>\n",
       "    <tr style=\"text-align: right;\">\n",
       "      <th></th>\n",
       "      <th>Mean ROC_AUC</th>\n",
       "      <th>Std ROC_AUC</th>\n",
       "      <th>Label</th>\n",
       "    </tr>\n",
       "    <tr>\n",
       "      <th>model to train set</th>\n",
       "      <th></th>\n",
       "      <th></th>\n",
       "      <th></th>\n",
       "    </tr>\n",
       "  </thead>\n",
       "  <tbody>\n",
       "    <tr>\n",
       "      <th>Random Forest</th>\n",
       "      <td>0.719982</td>\n",
       "      <td>0.012452</td>\n",
       "      <td>NearMiss Train</td>\n",
       "    </tr>\n",
       "    <tr>\n",
       "      <th>KNN</th>\n",
       "      <td>0.708805</td>\n",
       "      <td>0.012611</td>\n",
       "      <td>NearMiss Train</td>\n",
       "    </tr>\n",
       "    <tr>\n",
       "      <th>Gradient Boosting</th>\n",
       "      <td>0.704188</td>\n",
       "      <td>0.008691</td>\n",
       "      <td>NearMiss Train</td>\n",
       "    </tr>\n",
       "  </tbody>\n",
       "</table>\n",
       "</div>"
      ],
      "text/plain": [
       "                    Mean ROC_AUC  Std ROC_AUC           Label\n",
       "model to train set                                           \n",
       "Random Forest           0.719982     0.012452  NearMiss Train\n",
       "KNN                     0.708805     0.012611  NearMiss Train\n",
       "Gradient Boosting       0.704188     0.008691  NearMiss Train"
      ]
     },
     "metadata": {},
     "output_type": "display_data"
    },
    {
     "data": {
      "text/html": [
       "<div>\n",
       "<style scoped>\n",
       "    .dataframe tbody tr th:only-of-type {\n",
       "        vertical-align: middle;\n",
       "    }\n",
       "\n",
       "    .dataframe tbody tr th {\n",
       "        vertical-align: top;\n",
       "    }\n",
       "\n",
       "    .dataframe thead th {\n",
       "        text-align: right;\n",
       "    }\n",
       "</style>\n",
       "<table border=\"1\" class=\"dataframe\">\n",
       "  <thead>\n",
       "    <tr style=\"text-align: right;\">\n",
       "      <th></th>\n",
       "      <th>Mean ROC_AUC</th>\n",
       "      <th>Std ROC_AUC</th>\n",
       "      <th>Label</th>\n",
       "    </tr>\n",
       "    <tr>\n",
       "      <th>model to train set</th>\n",
       "      <th></th>\n",
       "      <th></th>\n",
       "      <th></th>\n",
       "    </tr>\n",
       "  </thead>\n",
       "  <tbody>\n",
       "    <tr>\n",
       "      <th>Gradient Boosting</th>\n",
       "      <td>0.787936</td>\n",
       "      <td>0.006545</td>\n",
       "      <td>SMOTEENN Train</td>\n",
       "    </tr>\n",
       "    <tr>\n",
       "      <th>Cat Boosting</th>\n",
       "      <td>0.786254</td>\n",
       "      <td>0.007196</td>\n",
       "      <td>SMOTEENN Train</td>\n",
       "    </tr>\n",
       "    <tr>\n",
       "      <th>Random Forest</th>\n",
       "      <td>0.779920</td>\n",
       "      <td>0.006656</td>\n",
       "      <td>SMOTEENN Train</td>\n",
       "    </tr>\n",
       "  </tbody>\n",
       "</table>\n",
       "</div>"
      ],
      "text/plain": [
       "                    Mean ROC_AUC  Std ROC_AUC           Label\n",
       "model to train set                                           \n",
       "Gradient Boosting       0.787936     0.006545  SMOTEENN Train\n",
       "Cat Boosting            0.786254     0.007196  SMOTEENN Train\n",
       "Random Forest           0.779920     0.006656  SMOTEENN Train"
      ]
     },
     "metadata": {},
     "output_type": "display_data"
    }
   ],
   "source": [
    "# Perbandingan teknik resampling pada data train\n",
    "\n",
    "df_ros_train['Label'] = 'ROS Train'\n",
    "df_smote_train['Label'] = 'SMOTE Train'\n",
    "df_rus_train['Label'] = 'RUS Train'\n",
    "df_nearmiss_train['Label'] = 'NearMiss Train'\n",
    "df_smoteenn_train['Label'] = 'SMOTEENN Train'\n",
    "\n",
    "display(df_ros_train.head(3), df_smote_train.head(3), df_rus_train.head(3), df_nearmiss_train.head(3), df_smoteenn_train.head(3), \n",
    "        )"
   ]
  },
  {
   "cell_type": "code",
   "execution_count": 26,
   "metadata": {},
   "outputs": [
    {
     "data": {
      "text/html": [
       "<div>\n",
       "<style scoped>\n",
       "    .dataframe tbody tr th:only-of-type {\n",
       "        vertical-align: middle;\n",
       "    }\n",
       "\n",
       "    .dataframe tbody tr th {\n",
       "        vertical-align: top;\n",
       "    }\n",
       "\n",
       "    .dataframe thead th {\n",
       "        text-align: right;\n",
       "    }\n",
       "</style>\n",
       "<table border=\"1\" class=\"dataframe\">\n",
       "  <thead>\n",
       "    <tr style=\"text-align: right;\">\n",
       "      <th></th>\n",
       "      <th>model to val set</th>\n",
       "      <th>ROC_AUC (val_set)</th>\n",
       "      <th>Label</th>\n",
       "    </tr>\n",
       "  </thead>\n",
       "  <tbody>\n",
       "    <tr>\n",
       "      <th>5</th>\n",
       "      <td>Gradient Boosting</td>\n",
       "      <td>0.756461</td>\n",
       "      <td>ROS Predict</td>\n",
       "    </tr>\n",
       "    <tr>\n",
       "      <th>6</th>\n",
       "      <td>Cat Boosting</td>\n",
       "      <td>0.743410</td>\n",
       "      <td>ROS Predict</td>\n",
       "    </tr>\n",
       "    <tr>\n",
       "      <th>4</th>\n",
       "      <td>Ada Boosting</td>\n",
       "      <td>0.738627</td>\n",
       "      <td>ROS Predict</td>\n",
       "    </tr>\n",
       "  </tbody>\n",
       "</table>\n",
       "</div>"
      ],
      "text/plain": [
       "    model to val set  ROC_AUC (val_set)        Label\n",
       "5  Gradient Boosting           0.756461  ROS Predict\n",
       "6       Cat Boosting           0.743410  ROS Predict\n",
       "4       Ada Boosting           0.738627  ROS Predict"
      ]
     },
     "metadata": {},
     "output_type": "display_data"
    },
    {
     "data": {
      "text/html": [
       "<div>\n",
       "<style scoped>\n",
       "    .dataframe tbody tr th:only-of-type {\n",
       "        vertical-align: middle;\n",
       "    }\n",
       "\n",
       "    .dataframe tbody tr th {\n",
       "        vertical-align: top;\n",
       "    }\n",
       "\n",
       "    .dataframe thead th {\n",
       "        text-align: right;\n",
       "    }\n",
       "</style>\n",
       "<table border=\"1\" class=\"dataframe\">\n",
       "  <thead>\n",
       "    <tr style=\"text-align: right;\">\n",
       "      <th></th>\n",
       "      <th>model to val set</th>\n",
       "      <th>ROC_AUC (val_set)</th>\n",
       "      <th>Label</th>\n",
       "    </tr>\n",
       "  </thead>\n",
       "  <tbody>\n",
       "    <tr>\n",
       "      <th>0</th>\n",
       "      <td>Logistic Regression</td>\n",
       "      <td>0.730826</td>\n",
       "      <td>SMOTE Predict</td>\n",
       "    </tr>\n",
       "    <tr>\n",
       "      <th>4</th>\n",
       "      <td>Ada Boosting</td>\n",
       "      <td>0.721502</td>\n",
       "      <td>SMOTE Predict</td>\n",
       "    </tr>\n",
       "    <tr>\n",
       "      <th>5</th>\n",
       "      <td>Gradient Boosting</td>\n",
       "      <td>0.712130</td>\n",
       "      <td>SMOTE Predict</td>\n",
       "    </tr>\n",
       "  </tbody>\n",
       "</table>\n",
       "</div>"
      ],
      "text/plain": [
       "      model to val set  ROC_AUC (val_set)          Label\n",
       "0  Logistic Regression           0.730826  SMOTE Predict\n",
       "4         Ada Boosting           0.721502  SMOTE Predict\n",
       "5    Gradient Boosting           0.712130  SMOTE Predict"
      ]
     },
     "metadata": {},
     "output_type": "display_data"
    },
    {
     "data": {
      "text/html": [
       "<div>\n",
       "<style scoped>\n",
       "    .dataframe tbody tr th:only-of-type {\n",
       "        vertical-align: middle;\n",
       "    }\n",
       "\n",
       "    .dataframe tbody tr th {\n",
       "        vertical-align: top;\n",
       "    }\n",
       "\n",
       "    .dataframe thead th {\n",
       "        text-align: right;\n",
       "    }\n",
       "</style>\n",
       "<table border=\"1\" class=\"dataframe\">\n",
       "  <thead>\n",
       "    <tr style=\"text-align: right;\">\n",
       "      <th></th>\n",
       "      <th>model to val set</th>\n",
       "      <th>ROC_AUC (val_set)</th>\n",
       "      <th>Label</th>\n",
       "    </tr>\n",
       "  </thead>\n",
       "  <tbody>\n",
       "    <tr>\n",
       "      <th>6</th>\n",
       "      <td>Cat Boosting</td>\n",
       "      <td>0.751325</td>\n",
       "      <td>RUS Predict</td>\n",
       "    </tr>\n",
       "    <tr>\n",
       "      <th>5</th>\n",
       "      <td>Gradient Boosting</td>\n",
       "      <td>0.749471</td>\n",
       "      <td>RUS Predict</td>\n",
       "    </tr>\n",
       "    <tr>\n",
       "      <th>4</th>\n",
       "      <td>Ada Boosting</td>\n",
       "      <td>0.736494</td>\n",
       "      <td>RUS Predict</td>\n",
       "    </tr>\n",
       "  </tbody>\n",
       "</table>\n",
       "</div>"
      ],
      "text/plain": [
       "    model to val set  ROC_AUC (val_set)        Label\n",
       "6       Cat Boosting           0.751325  RUS Predict\n",
       "5  Gradient Boosting           0.749471  RUS Predict\n",
       "4       Ada Boosting           0.736494  RUS Predict"
      ]
     },
     "metadata": {},
     "output_type": "display_data"
    },
    {
     "data": {
      "text/html": [
       "<div>\n",
       "<style scoped>\n",
       "    .dataframe tbody tr th:only-of-type {\n",
       "        vertical-align: middle;\n",
       "    }\n",
       "\n",
       "    .dataframe tbody tr th {\n",
       "        vertical-align: top;\n",
       "    }\n",
       "\n",
       "    .dataframe thead th {\n",
       "        text-align: right;\n",
       "    }\n",
       "</style>\n",
       "<table border=\"1\" class=\"dataframe\">\n",
       "  <thead>\n",
       "    <tr style=\"text-align: right;\">\n",
       "      <th></th>\n",
       "      <th>model to val set</th>\n",
       "      <th>ROC_AUC (val_set)</th>\n",
       "      <th>Label</th>\n",
       "    </tr>\n",
       "  </thead>\n",
       "  <tbody>\n",
       "    <tr>\n",
       "      <th>1</th>\n",
       "      <td>KNN</td>\n",
       "      <td>0.653097</td>\n",
       "      <td>NearMiss Predict</td>\n",
       "    </tr>\n",
       "    <tr>\n",
       "      <th>4</th>\n",
       "      <td>Ada Boosting</td>\n",
       "      <td>0.620910</td>\n",
       "      <td>NearMiss Predict</td>\n",
       "    </tr>\n",
       "    <tr>\n",
       "      <th>0</th>\n",
       "      <td>Logistic Regression</td>\n",
       "      <td>0.603798</td>\n",
       "      <td>NearMiss Predict</td>\n",
       "    </tr>\n",
       "  </tbody>\n",
       "</table>\n",
       "</div>"
      ],
      "text/plain": [
       "      model to val set  ROC_AUC (val_set)             Label\n",
       "1                  KNN           0.653097  NearMiss Predict\n",
       "4         Ada Boosting           0.620910  NearMiss Predict\n",
       "0  Logistic Regression           0.603798  NearMiss Predict"
      ]
     },
     "metadata": {},
     "output_type": "display_data"
    },
    {
     "data": {
      "text/html": [
       "<div>\n",
       "<style scoped>\n",
       "    .dataframe tbody tr th:only-of-type {\n",
       "        vertical-align: middle;\n",
       "    }\n",
       "\n",
       "    .dataframe tbody tr th {\n",
       "        vertical-align: top;\n",
       "    }\n",
       "\n",
       "    .dataframe thead th {\n",
       "        text-align: right;\n",
       "    }\n",
       "</style>\n",
       "<table border=\"1\" class=\"dataframe\">\n",
       "  <thead>\n",
       "    <tr style=\"text-align: right;\">\n",
       "      <th></th>\n",
       "      <th>model to val set</th>\n",
       "      <th>ROC_AUC (val_set)</th>\n",
       "      <th>Label</th>\n",
       "    </tr>\n",
       "  </thead>\n",
       "  <tbody>\n",
       "    <tr>\n",
       "      <th>5</th>\n",
       "      <td>Gradient Boosting</td>\n",
       "      <td>0.74553</td>\n",
       "      <td>SMOTEENN Predict</td>\n",
       "    </tr>\n",
       "    <tr>\n",
       "      <th>3</th>\n",
       "      <td>Random Forest</td>\n",
       "      <td>0.74138</td>\n",
       "      <td>SMOTEENN Predict</td>\n",
       "    </tr>\n",
       "    <tr>\n",
       "      <th>4</th>\n",
       "      <td>Ada Boosting</td>\n",
       "      <td>0.73773</td>\n",
       "      <td>SMOTEENN Predict</td>\n",
       "    </tr>\n",
       "  </tbody>\n",
       "</table>\n",
       "</div>"
      ],
      "text/plain": [
       "    model to val set  ROC_AUC (val_set)             Label\n",
       "5  Gradient Boosting            0.74553  SMOTEENN Predict\n",
       "3      Random Forest            0.74138  SMOTEENN Predict\n",
       "4       Ada Boosting            0.73773  SMOTEENN Predict"
      ]
     },
     "metadata": {},
     "output_type": "display_data"
    }
   ],
   "source": [
    "# Perbandingan teknik resampling pada data validation\n",
    "\n",
    "df_ros_predict['Label'] = 'ROS Predict'\n",
    "df_smote_predict['Label'] = 'SMOTE Predict'\n",
    "df_rus_predict['Label'] = 'RUS Predict'\n",
    "df_nearmiss_predict['Label'] = 'NearMiss Predict'\n",
    "df_smoteenn_predict['Label'] = 'SMOTEENN Predict'\n",
    "\n",
    "display(df_ros_predict.head(3), df_smote_predict.head(3), df_rus_predict.head(3), df_nearmiss_predict.head(3), df_smoteenn_predict.head(3))"
   ]
  },
  {
   "cell_type": "markdown",
   "metadata": {},
   "source": [
    "Dari hasil teknik resampling diatas, didapatkan bahwa hasil dari `cross-validation` menunjukkan penggunaan `teknik ROS (Random Over Sampling) memiliki nilai yang lebih baik dari pada teknik resampling lainnya` dan `memiliki nilai standar deviasi terendah dari teknik resampling lain` oleh karena itu `teknik resampling ROS (Random Over Sampling)` akan kita gunakan pada tahap **hyperparameter tuning**. Selain itu, pada teknik resampling ROS ini memiliki model **Gradient Boosting** yang cukup tinggi yaitu sebesar **0.7948** pada **data train** dan memiliki `score ROC_AUC` **`0.7585`** pada **data validation**."
   ]
  },
  {
   "cell_type": "code",
   "execution_count": 27,
   "metadata": {},
   "outputs": [
    {
     "data": {
      "text/html": [
       "<div>\n",
       "<style scoped>\n",
       "    .dataframe tbody tr th:only-of-type {\n",
       "        vertical-align: middle;\n",
       "    }\n",
       "\n",
       "    .dataframe tbody tr th {\n",
       "        vertical-align: top;\n",
       "    }\n",
       "\n",
       "    .dataframe thead th {\n",
       "        text-align: right;\n",
       "    }\n",
       "</style>\n",
       "<table border=\"1\" class=\"dataframe\">\n",
       "  <thead>\n",
       "    <tr style=\"text-align: right;\">\n",
       "      <th></th>\n",
       "      <th>Mean ROC_AUC</th>\n",
       "      <th>Std ROC_AUC</th>\n",
       "      <th>Label</th>\n",
       "    </tr>\n",
       "    <tr>\n",
       "      <th>model to train set</th>\n",
       "      <th></th>\n",
       "      <th></th>\n",
       "      <th></th>\n",
       "    </tr>\n",
       "  </thead>\n",
       "  <tbody>\n",
       "    <tr>\n",
       "      <th>Gradient Boosting</th>\n",
       "      <td>0.794736</td>\n",
       "      <td>0.003352</td>\n",
       "      <td>ROS Train</td>\n",
       "    </tr>\n",
       "    <tr>\n",
       "      <th>Ada Boosting</th>\n",
       "      <td>0.786521</td>\n",
       "      <td>0.006993</td>\n",
       "      <td>ROS Train</td>\n",
       "    </tr>\n",
       "    <tr>\n",
       "      <th>Cat Boosting</th>\n",
       "      <td>0.777628</td>\n",
       "      <td>0.009227</td>\n",
       "      <td>ROS Train</td>\n",
       "    </tr>\n",
       "  </tbody>\n",
       "</table>\n",
       "</div>"
      ],
      "text/plain": [
       "                    Mean ROC_AUC  Std ROC_AUC      Label\n",
       "model to train set                                      \n",
       "Gradient Boosting       0.794736     0.003352  ROS Train\n",
       "Ada Boosting            0.786521     0.006993  ROS Train\n",
       "Cat Boosting            0.777628     0.009227  ROS Train"
      ]
     },
     "metadata": {},
     "output_type": "display_data"
    },
    {
     "data": {
      "text/html": [
       "<div>\n",
       "<style scoped>\n",
       "    .dataframe tbody tr th:only-of-type {\n",
       "        vertical-align: middle;\n",
       "    }\n",
       "\n",
       "    .dataframe tbody tr th {\n",
       "        vertical-align: top;\n",
       "    }\n",
       "\n",
       "    .dataframe thead th {\n",
       "        text-align: right;\n",
       "    }\n",
       "</style>\n",
       "<table border=\"1\" class=\"dataframe\">\n",
       "  <thead>\n",
       "    <tr style=\"text-align: right;\">\n",
       "      <th></th>\n",
       "      <th>model to val set</th>\n",
       "      <th>ROC_AUC (val_set)</th>\n",
       "      <th>Label</th>\n",
       "    </tr>\n",
       "  </thead>\n",
       "  <tbody>\n",
       "    <tr>\n",
       "      <th>5</th>\n",
       "      <td>Gradient Boosting</td>\n",
       "      <td>0.756461</td>\n",
       "      <td>ROS Predict</td>\n",
       "    </tr>\n",
       "    <tr>\n",
       "      <th>6</th>\n",
       "      <td>Cat Boosting</td>\n",
       "      <td>0.743410</td>\n",
       "      <td>ROS Predict</td>\n",
       "    </tr>\n",
       "    <tr>\n",
       "      <th>4</th>\n",
       "      <td>Ada Boosting</td>\n",
       "      <td>0.738627</td>\n",
       "      <td>ROS Predict</td>\n",
       "    </tr>\n",
       "  </tbody>\n",
       "</table>\n",
       "</div>"
      ],
      "text/plain": [
       "    model to val set  ROC_AUC (val_set)        Label\n",
       "5  Gradient Boosting           0.756461  ROS Predict\n",
       "6       Cat Boosting           0.743410  ROS Predict\n",
       "4       Ada Boosting           0.738627  ROS Predict"
      ]
     },
     "metadata": {},
     "output_type": "display_data"
    }
   ],
   "source": [
    "# Cek hasil cross-validation dengan teknik resampling terbaik\n",
    "\n",
    "display(df_ros_train.head(3), df_ros_predict.head(3))"
   ]
  },
  {
   "cell_type": "markdown",
   "metadata": {},
   "source": [
    "Dari tabel diatas, dapat kita lihat bahwa ketiga model diatas merupakan **model terbaik dengan nilai tertinggi**, sehingga kita selanjutnya akan menggunakan model `Gradient Boosting`, `Ada Boosting`, dan `Cat Boosting` untuk dijadikan model yang akan dituning pada proses **Hyperparameter Tuning**"
   ]
  },
  {
   "cell_type": "markdown",
   "metadata": {},
   "source": [
    "### **2.2 Hyperparameter Tuning**"
   ]
  },
  {
   "cell_type": "markdown",
   "metadata": {},
   "source": [
    "***Hyperparameter tuning*** penting untuk mengontrol perilaku keseluruhan model machine learning. Akan dilakukan hyperparameter tuning pada model `Gradient Boosting`, `Ada Boosting`, dan `Cat Boosting`, dengan harapan model lebih optimal."
   ]
  },
  {
   "cell_type": "markdown",
   "metadata": {},
   "source": [
    "#### **2.2.1 Model `Gradient Boosting`**"
   ]
  },
  {
   "cell_type": "markdown",
   "metadata": {},
   "source": [
    "***Hyperparameter tuning*** penting untuk mengontrol perilaku keseluruhan model machine learning. Akan dilakukan hyperparameter tuning pada model `Gradient Boosting`, dengan harapan model lebih optimal. Ada beberapa parameter yang akan dituning antara lain:\n",
    "* `max_depth` = Menentukan kedalaman maksimum dari setiap pohon\n",
    "* `learning_rate` = Mengontrol tingkat pembelajaran model\n",
    "* `n_estimator` = Jumlah pohon\n",
    "* `subsample` = Proporsi sampel yang digunakan untuk pelatihan setiap pohon (% dari total baris train set)\n",
    "* `max_features` = Jumlah feature yang digunakan untuk pertimbangan splitting (% dari total kolom train set)"
   ]
  },
  {
   "cell_type": "code",
   "execution_count": 28,
   "metadata": {},
   "outputs": [
    {
     "data": {
      "text/html": [
       "<style>#sk-container-id-1 {color: black;}#sk-container-id-1 pre{padding: 0;}#sk-container-id-1 div.sk-toggleable {background-color: white;}#sk-container-id-1 label.sk-toggleable__label {cursor: pointer;display: block;width: 100%;margin-bottom: 0;padding: 0.3em;box-sizing: border-box;text-align: center;}#sk-container-id-1 label.sk-toggleable__label-arrow:before {content: \"▸\";float: left;margin-right: 0.25em;color: #696969;}#sk-container-id-1 label.sk-toggleable__label-arrow:hover:before {color: black;}#sk-container-id-1 div.sk-estimator:hover label.sk-toggleable__label-arrow:before {color: black;}#sk-container-id-1 div.sk-toggleable__content {max-height: 0;max-width: 0;overflow: hidden;text-align: left;background-color: #f0f8ff;}#sk-container-id-1 div.sk-toggleable__content pre {margin: 0.2em;color: black;border-radius: 0.25em;background-color: #f0f8ff;}#sk-container-id-1 input.sk-toggleable__control:checked~div.sk-toggleable__content {max-height: 200px;max-width: 100%;overflow: auto;}#sk-container-id-1 input.sk-toggleable__control:checked~label.sk-toggleable__label-arrow:before {content: \"▾\";}#sk-container-id-1 div.sk-estimator input.sk-toggleable__control:checked~label.sk-toggleable__label {background-color: #d4ebff;}#sk-container-id-1 div.sk-label input.sk-toggleable__control:checked~label.sk-toggleable__label {background-color: #d4ebff;}#sk-container-id-1 input.sk-hidden--visually {border: 0;clip: rect(1px 1px 1px 1px);clip: rect(1px, 1px, 1px, 1px);height: 1px;margin: -1px;overflow: hidden;padding: 0;position: absolute;width: 1px;}#sk-container-id-1 div.sk-estimator {font-family: monospace;background-color: #f0f8ff;border: 1px dotted black;border-radius: 0.25em;box-sizing: border-box;margin-bottom: 0.5em;}#sk-container-id-1 div.sk-estimator:hover {background-color: #d4ebff;}#sk-container-id-1 div.sk-parallel-item::after {content: \"\";width: 100%;border-bottom: 1px solid gray;flex-grow: 1;}#sk-container-id-1 div.sk-label:hover label.sk-toggleable__label {background-color: #d4ebff;}#sk-container-id-1 div.sk-serial::before {content: \"\";position: absolute;border-left: 1px solid gray;box-sizing: border-box;top: 0;bottom: 0;left: 50%;z-index: 0;}#sk-container-id-1 div.sk-serial {display: flex;flex-direction: column;align-items: center;background-color: white;padding-right: 0.2em;padding-left: 0.2em;position: relative;}#sk-container-id-1 div.sk-item {position: relative;z-index: 1;}#sk-container-id-1 div.sk-parallel {display: flex;align-items: stretch;justify-content: center;background-color: white;position: relative;}#sk-container-id-1 div.sk-item::before, #sk-container-id-1 div.sk-parallel-item::before {content: \"\";position: absolute;border-left: 1px solid gray;box-sizing: border-box;top: 0;bottom: 0;left: 50%;z-index: -1;}#sk-container-id-1 div.sk-parallel-item {display: flex;flex-direction: column;z-index: 1;position: relative;background-color: white;}#sk-container-id-1 div.sk-parallel-item:first-child::after {align-self: flex-end;width: 50%;}#sk-container-id-1 div.sk-parallel-item:last-child::after {align-self: flex-start;width: 50%;}#sk-container-id-1 div.sk-parallel-item:only-child::after {width: 0;}#sk-container-id-1 div.sk-dashed-wrapped {border: 1px dashed gray;margin: 0 0.4em 0.5em 0.4em;box-sizing: border-box;padding-bottom: 0.4em;background-color: white;}#sk-container-id-1 div.sk-label label {font-family: monospace;font-weight: bold;display: inline-block;line-height: 1.2em;}#sk-container-id-1 div.sk-label-container {text-align: center;}#sk-container-id-1 div.sk-container {/* jupyter's `normalize.less` sets `[hidden] { display: none; }` but bootstrap.min.css set `[hidden] { display: none !important; }` so we also need the `!important` here to be able to override the default hidden behavior on the sphinx rendered scikit-learn.org. See: https://github.com/scikit-learn/scikit-learn/issues/21755 */display: inline-block !important;position: relative;}#sk-container-id-1 div.sk-text-repr-fallback {display: none;}</style><div id=\"sk-container-id-1\" class=\"sk-top-container\"><div class=\"sk-text-repr-fallback\"><pre>GridSearchCV(cv=StratifiedKFold(n_splits=10, random_state=0, shuffle=True),\n",
       "             estimator=Pipeline(steps=[(&#x27;preprocess&#x27;,\n",
       "                                        ColumnTransformer(remainder=&#x27;passthrough&#x27;,\n",
       "                                                          transformers=[(&#x27;onehot&#x27;,\n",
       "                                                                         OneHotEncoder(drop=&#x27;first&#x27;),\n",
       "                                                                         [&#x27;housing&#x27;,\n",
       "                                                                          &#x27;loan&#x27;,\n",
       "                                                                          &#x27;contact&#x27;,\n",
       "                                                                          &#x27;poutcome&#x27;,\n",
       "                                                                          &#x27;job&#x27;,\n",
       "                                                                          &#x27;marital&#x27;]),\n",
       "                                                                        (&#x27;ordinal&#x27;,\n",
       "                                                                         OrdinalEncoder(mapping=[{&#x27;col&#x27;: &#x27;education&#x27;,\n",
       "                                                                                                  &#x27;data_type&#x27;: dtype(&#x27;O&#x27;),\n",
       "                                                                                                  &#x27;mapping&#x27;...\n",
       "       &#x27;cons.price.idx&#x27;, &#x27;cons.conf.idx&#x27;, &#x27;euribor3m&#x27;, &#x27;nr.employed&#x27;],\n",
       "      dtype=&#x27;object&#x27;))])),\n",
       "                                       (&#x27;resampler&#x27;,\n",
       "                                        RandomOverSampler(random_state=0)),\n",
       "                                       (&#x27;model&#x27;,\n",
       "                                        GradientBoostingClassifier(random_state=0))]),\n",
       "             param_grid={&#x27;model__learning_rate&#x27;: [0.01, 0.1],\n",
       "                         &#x27;model__max_depth&#x27;: [3, 5],\n",
       "                         &#x27;model__max_features&#x27;: [55, 100],\n",
       "                         &#x27;model__n_estimators&#x27;: [100, 200],\n",
       "                         &#x27;model__subsample&#x27;: [0.8, 1]},\n",
       "             scoring=&#x27;roc_auc&#x27;)</pre><b>In a Jupyter environment, please rerun this cell to show the HTML representation or trust the notebook. <br />On GitHub, the HTML representation is unable to render, please try loading this page with nbviewer.org.</b></div><div class=\"sk-container\" hidden><div class=\"sk-item sk-dashed-wrapped\"><div class=\"sk-label-container\"><div class=\"sk-label sk-toggleable\"><input class=\"sk-toggleable__control sk-hidden--visually\" id=\"sk-estimator-id-1\" type=\"checkbox\" ><label for=\"sk-estimator-id-1\" class=\"sk-toggleable__label sk-toggleable__label-arrow\">GridSearchCV</label><div class=\"sk-toggleable__content\"><pre>GridSearchCV(cv=StratifiedKFold(n_splits=10, random_state=0, shuffle=True),\n",
       "             estimator=Pipeline(steps=[(&#x27;preprocess&#x27;,\n",
       "                                        ColumnTransformer(remainder=&#x27;passthrough&#x27;,\n",
       "                                                          transformers=[(&#x27;onehot&#x27;,\n",
       "                                                                         OneHotEncoder(drop=&#x27;first&#x27;),\n",
       "                                                                         [&#x27;housing&#x27;,\n",
       "                                                                          &#x27;loan&#x27;,\n",
       "                                                                          &#x27;contact&#x27;,\n",
       "                                                                          &#x27;poutcome&#x27;,\n",
       "                                                                          &#x27;job&#x27;,\n",
       "                                                                          &#x27;marital&#x27;]),\n",
       "                                                                        (&#x27;ordinal&#x27;,\n",
       "                                                                         OrdinalEncoder(mapping=[{&#x27;col&#x27;: &#x27;education&#x27;,\n",
       "                                                                                                  &#x27;data_type&#x27;: dtype(&#x27;O&#x27;),\n",
       "                                                                                                  &#x27;mapping&#x27;...\n",
       "       &#x27;cons.price.idx&#x27;, &#x27;cons.conf.idx&#x27;, &#x27;euribor3m&#x27;, &#x27;nr.employed&#x27;],\n",
       "      dtype=&#x27;object&#x27;))])),\n",
       "                                       (&#x27;resampler&#x27;,\n",
       "                                        RandomOverSampler(random_state=0)),\n",
       "                                       (&#x27;model&#x27;,\n",
       "                                        GradientBoostingClassifier(random_state=0))]),\n",
       "             param_grid={&#x27;model__learning_rate&#x27;: [0.01, 0.1],\n",
       "                         &#x27;model__max_depth&#x27;: [3, 5],\n",
       "                         &#x27;model__max_features&#x27;: [55, 100],\n",
       "                         &#x27;model__n_estimators&#x27;: [100, 200],\n",
       "                         &#x27;model__subsample&#x27;: [0.8, 1]},\n",
       "             scoring=&#x27;roc_auc&#x27;)</pre></div></div></div><div class=\"sk-parallel\"><div class=\"sk-parallel-item\"><div class=\"sk-item\"><div class=\"sk-label-container\"><div class=\"sk-label sk-toggleable\"><input class=\"sk-toggleable__control sk-hidden--visually\" id=\"sk-estimator-id-2\" type=\"checkbox\" ><label for=\"sk-estimator-id-2\" class=\"sk-toggleable__label sk-toggleable__label-arrow\">estimator: Pipeline</label><div class=\"sk-toggleable__content\"><pre>Pipeline(steps=[(&#x27;preprocess&#x27;,\n",
       "                 ColumnTransformer(remainder=&#x27;passthrough&#x27;,\n",
       "                                   transformers=[(&#x27;onehot&#x27;,\n",
       "                                                  OneHotEncoder(drop=&#x27;first&#x27;),\n",
       "                                                  [&#x27;housing&#x27;, &#x27;loan&#x27;, &#x27;contact&#x27;,\n",
       "                                                   &#x27;poutcome&#x27;, &#x27;job&#x27;,\n",
       "                                                   &#x27;marital&#x27;]),\n",
       "                                                 (&#x27;ordinal&#x27;,\n",
       "                                                  OrdinalEncoder(mapping=[{&#x27;col&#x27;: &#x27;education&#x27;,\n",
       "                                                                           &#x27;data_type&#x27;: dtype(&#x27;O&#x27;),\n",
       "                                                                           &#x27;mapping&#x27;: Primary Education      0\n",
       "Secondary Education    1\n",
       "Higher Education       2\n",
       "Other                 -1\n",
       "dtype: int64},\n",
       "                                                                          {&#x27;col&#x27;: &#x27;mo...\n",
       "                                                                           &#x27;data_type&#x27;: dtype(&#x27;O&#x27;),\n",
       "                                                                           &#x27;mapping&#x27;: mon    0\n",
       "tue    1\n",
       "wed    2\n",
       "thu    3\n",
       "fri    4\n",
       "dtype: int64}]),\n",
       "                                                  [&#x27;education&#x27;, &#x27;month&#x27;,\n",
       "                                                   &#x27;day_of_week&#x27;]),\n",
       "                                                 (&#x27;robust&#x27;, RobustScaler(),\n",
       "                                                  Index([&#x27;age&#x27;, &#x27;campaign&#x27;, &#x27;pdays&#x27;, &#x27;previous&#x27;, &#x27;emp.var.rate&#x27;,\n",
       "       &#x27;cons.price.idx&#x27;, &#x27;cons.conf.idx&#x27;, &#x27;euribor3m&#x27;, &#x27;nr.employed&#x27;],\n",
       "      dtype=&#x27;object&#x27;))])),\n",
       "                (&#x27;resampler&#x27;, RandomOverSampler(random_state=0)),\n",
       "                (&#x27;model&#x27;, GradientBoostingClassifier(random_state=0))])</pre></div></div></div><div class=\"sk-serial\"><div class=\"sk-item\"><div class=\"sk-serial\"><div class=\"sk-item sk-dashed-wrapped\"><div class=\"sk-label-container\"><div class=\"sk-label sk-toggleable\"><input class=\"sk-toggleable__control sk-hidden--visually\" id=\"sk-estimator-id-3\" type=\"checkbox\" ><label for=\"sk-estimator-id-3\" class=\"sk-toggleable__label sk-toggleable__label-arrow\">preprocess: ColumnTransformer</label><div class=\"sk-toggleable__content\"><pre>ColumnTransformer(remainder=&#x27;passthrough&#x27;,\n",
       "                  transformers=[(&#x27;onehot&#x27;, OneHotEncoder(drop=&#x27;first&#x27;),\n",
       "                                 [&#x27;housing&#x27;, &#x27;loan&#x27;, &#x27;contact&#x27;, &#x27;poutcome&#x27;,\n",
       "                                  &#x27;job&#x27;, &#x27;marital&#x27;]),\n",
       "                                (&#x27;ordinal&#x27;,\n",
       "                                 OrdinalEncoder(mapping=[{&#x27;col&#x27;: &#x27;education&#x27;,\n",
       "                                                          &#x27;data_type&#x27;: dtype(&#x27;O&#x27;),\n",
       "                                                          &#x27;mapping&#x27;: Primary Education      0\n",
       "Secondary Education    1\n",
       "Higher Education       2\n",
       "Other                 -1\n",
       "dtype: int64},\n",
       "                                                         {&#x27;col&#x27;: &#x27;month&#x27;,\n",
       "                                                          &#x27;data_type&#x27;: dtype(&#x27;O&#x27;),\n",
       "                                                          &#x27;m...jan     0\n",
       "feb     1\n",
       "mar     2\n",
       "apr     3\n",
       "may     4\n",
       "jun     5\n",
       "jul     6\n",
       "aug     7\n",
       "sep     8\n",
       "oct     9\n",
       "nov    10\n",
       "dec    11\n",
       "dtype: int64},\n",
       "                                                         {&#x27;col&#x27;: &#x27;day_of_week&#x27;,\n",
       "                                                          &#x27;data_type&#x27;: dtype(&#x27;O&#x27;),\n",
       "                                                          &#x27;mapping&#x27;: mon    0\n",
       "tue    1\n",
       "wed    2\n",
       "thu    3\n",
       "fri    4\n",
       "dtype: int64}]),\n",
       "                                 [&#x27;education&#x27;, &#x27;month&#x27;, &#x27;day_of_week&#x27;]),\n",
       "                                (&#x27;robust&#x27;, RobustScaler(),\n",
       "                                 Index([&#x27;age&#x27;, &#x27;campaign&#x27;, &#x27;pdays&#x27;, &#x27;previous&#x27;, &#x27;emp.var.rate&#x27;,\n",
       "       &#x27;cons.price.idx&#x27;, &#x27;cons.conf.idx&#x27;, &#x27;euribor3m&#x27;, &#x27;nr.employed&#x27;],\n",
       "      dtype=&#x27;object&#x27;))])</pre></div></div></div><div class=\"sk-parallel\"><div class=\"sk-parallel-item\"><div class=\"sk-item\"><div class=\"sk-label-container\"><div class=\"sk-label sk-toggleable\"><input class=\"sk-toggleable__control sk-hidden--visually\" id=\"sk-estimator-id-4\" type=\"checkbox\" ><label for=\"sk-estimator-id-4\" class=\"sk-toggleable__label sk-toggleable__label-arrow\">onehot</label><div class=\"sk-toggleable__content\"><pre>[&#x27;housing&#x27;, &#x27;loan&#x27;, &#x27;contact&#x27;, &#x27;poutcome&#x27;, &#x27;job&#x27;, &#x27;marital&#x27;]</pre></div></div></div><div class=\"sk-serial\"><div class=\"sk-item\"><div class=\"sk-estimator sk-toggleable\"><input class=\"sk-toggleable__control sk-hidden--visually\" id=\"sk-estimator-id-5\" type=\"checkbox\" ><label for=\"sk-estimator-id-5\" class=\"sk-toggleable__label sk-toggleable__label-arrow\">OneHotEncoder</label><div class=\"sk-toggleable__content\"><pre>OneHotEncoder(drop=&#x27;first&#x27;)</pre></div></div></div></div></div></div><div class=\"sk-parallel-item\"><div class=\"sk-item\"><div class=\"sk-label-container\"><div class=\"sk-label sk-toggleable\"><input class=\"sk-toggleable__control sk-hidden--visually\" id=\"sk-estimator-id-6\" type=\"checkbox\" ><label for=\"sk-estimator-id-6\" class=\"sk-toggleable__label sk-toggleable__label-arrow\">ordinal</label><div class=\"sk-toggleable__content\"><pre>[&#x27;education&#x27;, &#x27;month&#x27;, &#x27;day_of_week&#x27;]</pre></div></div></div><div class=\"sk-serial\"><div class=\"sk-item\"><div class=\"sk-estimator sk-toggleable\"><input class=\"sk-toggleable__control sk-hidden--visually\" id=\"sk-estimator-id-7\" type=\"checkbox\" ><label for=\"sk-estimator-id-7\" class=\"sk-toggleable__label sk-toggleable__label-arrow\">OrdinalEncoder</label><div class=\"sk-toggleable__content\"><pre>OrdinalEncoder(mapping=[{&#x27;col&#x27;: &#x27;education&#x27;, &#x27;data_type&#x27;: dtype(&#x27;O&#x27;),\n",
       "                         &#x27;mapping&#x27;: Primary Education      0\n",
       "Secondary Education    1\n",
       "Higher Education       2\n",
       "Other                 -1\n",
       "dtype: int64},\n",
       "                        {&#x27;col&#x27;: &#x27;month&#x27;, &#x27;data_type&#x27;: dtype(&#x27;O&#x27;),\n",
       "                         &#x27;mapping&#x27;: jan     0\n",
       "feb     1\n",
       "mar     2\n",
       "apr     3\n",
       "may     4\n",
       "jun     5\n",
       "jul     6\n",
       "aug     7\n",
       "sep     8\n",
       "oct     9\n",
       "nov    10\n",
       "dec    11\n",
       "dtype: int64},\n",
       "                        {&#x27;col&#x27;: &#x27;day_of_week&#x27;, &#x27;data_type&#x27;: dtype(&#x27;O&#x27;),\n",
       "                         &#x27;mapping&#x27;: mon    0\n",
       "tue    1\n",
       "wed    2\n",
       "thu    3\n",
       "fri    4\n",
       "dtype: int64}])</pre></div></div></div></div></div></div><div class=\"sk-parallel-item\"><div class=\"sk-item\"><div class=\"sk-label-container\"><div class=\"sk-label sk-toggleable\"><input class=\"sk-toggleable__control sk-hidden--visually\" id=\"sk-estimator-id-8\" type=\"checkbox\" ><label for=\"sk-estimator-id-8\" class=\"sk-toggleable__label sk-toggleable__label-arrow\">robust</label><div class=\"sk-toggleable__content\"><pre>Index([&#x27;age&#x27;, &#x27;campaign&#x27;, &#x27;pdays&#x27;, &#x27;previous&#x27;, &#x27;emp.var.rate&#x27;,\n",
       "       &#x27;cons.price.idx&#x27;, &#x27;cons.conf.idx&#x27;, &#x27;euribor3m&#x27;, &#x27;nr.employed&#x27;],\n",
       "      dtype=&#x27;object&#x27;)</pre></div></div></div><div class=\"sk-serial\"><div class=\"sk-item\"><div class=\"sk-estimator sk-toggleable\"><input class=\"sk-toggleable__control sk-hidden--visually\" id=\"sk-estimator-id-9\" type=\"checkbox\" ><label for=\"sk-estimator-id-9\" class=\"sk-toggleable__label sk-toggleable__label-arrow\">RobustScaler</label><div class=\"sk-toggleable__content\"><pre>RobustScaler()</pre></div></div></div></div></div></div><div class=\"sk-parallel-item\"><div class=\"sk-item\"><div class=\"sk-label-container\"><div class=\"sk-label sk-toggleable\"><input class=\"sk-toggleable__control sk-hidden--visually\" id=\"sk-estimator-id-10\" type=\"checkbox\" ><label for=\"sk-estimator-id-10\" class=\"sk-toggleable__label sk-toggleable__label-arrow\">remainder</label><div class=\"sk-toggleable__content\"><pre>[]</pre></div></div></div><div class=\"sk-serial\"><div class=\"sk-item\"><div class=\"sk-estimator sk-toggleable\"><input class=\"sk-toggleable__control sk-hidden--visually\" id=\"sk-estimator-id-11\" type=\"checkbox\" ><label for=\"sk-estimator-id-11\" class=\"sk-toggleable__label sk-toggleable__label-arrow\">passthrough</label><div class=\"sk-toggleable__content\"><pre>passthrough</pre></div></div></div></div></div></div></div></div><div class=\"sk-item\"><div class=\"sk-estimator sk-toggleable\"><input class=\"sk-toggleable__control sk-hidden--visually\" id=\"sk-estimator-id-12\" type=\"checkbox\" ><label for=\"sk-estimator-id-12\" class=\"sk-toggleable__label sk-toggleable__label-arrow\">RandomOverSampler</label><div class=\"sk-toggleable__content\"><pre>RandomOverSampler(random_state=0)</pre></div></div></div><div class=\"sk-item\"><div class=\"sk-estimator sk-toggleable\"><input class=\"sk-toggleable__control sk-hidden--visually\" id=\"sk-estimator-id-13\" type=\"checkbox\" ><label for=\"sk-estimator-id-13\" class=\"sk-toggleable__label sk-toggleable__label-arrow\">GradientBoostingClassifier</label><div class=\"sk-toggleable__content\"><pre>GradientBoostingClassifier(random_state=0)</pre></div></div></div></div></div></div></div></div></div></div></div></div>"
      ],
      "text/plain": [
       "GridSearchCV(cv=StratifiedKFold(n_splits=10, random_state=0, shuffle=True),\n",
       "             estimator=Pipeline(steps=[('preprocess',\n",
       "                                        ColumnTransformer(remainder='passthrough',\n",
       "                                                          transformers=[('onehot',\n",
       "                                                                         OneHotEncoder(drop='first'),\n",
       "                                                                         ['housing',\n",
       "                                                                          'loan',\n",
       "                                                                          'contact',\n",
       "                                                                          'poutcome',\n",
       "                                                                          'job',\n",
       "                                                                          'marital']),\n",
       "                                                                        ('ordinal',\n",
       "                                                                         OrdinalEncoder(mapping=[{'col': 'education',\n",
       "                                                                                                  'data_type': dtype('O'),\n",
       "                                                                                                  'mapping'...\n",
       "       'cons.price.idx', 'cons.conf.idx', 'euribor3m', 'nr.employed'],\n",
       "      dtype='object'))])),\n",
       "                                       ('resampler',\n",
       "                                        RandomOverSampler(random_state=0)),\n",
       "                                       ('model',\n",
       "                                        GradientBoostingClassifier(random_state=0))]),\n",
       "             param_grid={'model__learning_rate': [0.01, 0.1],\n",
       "                         'model__max_depth': [3, 5],\n",
       "                         'model__max_features': [55, 100],\n",
       "                         'model__n_estimators': [100, 200],\n",
       "                         'model__subsample': [0.8, 1]},\n",
       "             scoring='roc_auc')"
      ]
     },
     "execution_count": 28,
     "metadata": {},
     "output_type": "execute_result"
    }
   ],
   "source": [
    "# Gradient Boost Hyperparameter Tuning\n",
    "\n",
    "pipe_gradboost = Pipeline([\n",
    "    ('preprocess', preprocessor),\n",
    "    ('resampler', ros),\n",
    "    ('model', gbc)       \n",
    "])\n",
    "skfold=StratifiedKFold(n_splits=10, random_state=0, shuffle=True) #RepeatedStratifiedKFold\n",
    "\n",
    "# Hyperparameter space Gradient Boosting\n",
    "hyperparam_gradboost = {\n",
    "    'model__max_depth': [3,5],\n",
    "    'model__learning_rate': [0.01, 0.1],\n",
    "    'model__n_estimators': [100,200],\n",
    "    'model__subsample': [0.8,1],\n",
    "    'model__max_features': [55, 100]\n",
    "}\n",
    "\n",
    "# Hyperparameter tuning\n",
    "gradboost_grid = GridSearchCV(\n",
    "    estimator = pipe_gradboost,\n",
    "    param_grid = hyperparam_gradboost,\n",
    "    cv = skfold,\n",
    "    scoring = 'roc_auc'\n",
    ")\n",
    "\n",
    "# fitting\n",
    "gradboost_grid.fit(X_train, y_train)"
   ]
  },
  {
   "cell_type": "code",
   "execution_count": 29,
   "metadata": {},
   "outputs": [
    {
     "name": "stdout",
     "output_type": "stream",
     "text": [
      "Gradient Boost Hyperparameter\n",
      "0.7976763877508071\n",
      "{'model__learning_rate': 0.1, 'model__max_depth': 3, 'model__max_features': 55, 'model__n_estimators': 100, 'model__subsample': 0.8}\n"
     ]
    }
   ],
   "source": [
    "# Gradient Boost best_score, best_params\n",
    "\n",
    "print('Gradient Boost Hyperparameter')\n",
    "print(gradboost_grid.best_score_)\n",
    "print(gradboost_grid.best_params_)"
   ]
  },
  {
   "cell_type": "markdown",
   "metadata": {},
   "source": [
    "Hasil dari `Hyperparameter Tuning` pada `train_set` menggunakan `Grid Search` pada model `Gradient Boosting` menunjukkan ROC_AUC score terbaik sebesar `0.7976`. Dengan **model__learning_rate: 0.1**, **model__max_depth: 3**, **model__max_features: 55*, **model__n_estimators: 100**, dan **model__subsample: 0.8**"
   ]
  },
  {
   "cell_type": "markdown",
   "metadata": {},
   "source": [
    "#### **2.2.2 Model `Ada Boosting`**"
   ]
  },
  {
   "cell_type": "markdown",
   "metadata": {},
   "source": [
    "***Hyperparameter tuning*** penting untuk mengontrol perilaku keseluruhan model machine learning. Akan dilakukan hyperparameter tuning pada model `Ada Boosting`, dengan harapan model lebih optimal. Beberapa parameter yang akan dituning antara lain:\n",
    "* `learning_rate` = Mengontrol tingkat pembelajaran model\n",
    "* `n_estimator` = Jumlah pohon"
   ]
  },
  {
   "cell_type": "code",
   "execution_count": 30,
   "metadata": {},
   "outputs": [
    {
     "data": {
      "text/html": [
       "<style>#sk-container-id-2 {color: black;}#sk-container-id-2 pre{padding: 0;}#sk-container-id-2 div.sk-toggleable {background-color: white;}#sk-container-id-2 label.sk-toggleable__label {cursor: pointer;display: block;width: 100%;margin-bottom: 0;padding: 0.3em;box-sizing: border-box;text-align: center;}#sk-container-id-2 label.sk-toggleable__label-arrow:before {content: \"▸\";float: left;margin-right: 0.25em;color: #696969;}#sk-container-id-2 label.sk-toggleable__label-arrow:hover:before {color: black;}#sk-container-id-2 div.sk-estimator:hover label.sk-toggleable__label-arrow:before {color: black;}#sk-container-id-2 div.sk-toggleable__content {max-height: 0;max-width: 0;overflow: hidden;text-align: left;background-color: #f0f8ff;}#sk-container-id-2 div.sk-toggleable__content pre {margin: 0.2em;color: black;border-radius: 0.25em;background-color: #f0f8ff;}#sk-container-id-2 input.sk-toggleable__control:checked~div.sk-toggleable__content {max-height: 200px;max-width: 100%;overflow: auto;}#sk-container-id-2 input.sk-toggleable__control:checked~label.sk-toggleable__label-arrow:before {content: \"▾\";}#sk-container-id-2 div.sk-estimator input.sk-toggleable__control:checked~label.sk-toggleable__label {background-color: #d4ebff;}#sk-container-id-2 div.sk-label input.sk-toggleable__control:checked~label.sk-toggleable__label {background-color: #d4ebff;}#sk-container-id-2 input.sk-hidden--visually {border: 0;clip: rect(1px 1px 1px 1px);clip: rect(1px, 1px, 1px, 1px);height: 1px;margin: -1px;overflow: hidden;padding: 0;position: absolute;width: 1px;}#sk-container-id-2 div.sk-estimator {font-family: monospace;background-color: #f0f8ff;border: 1px dotted black;border-radius: 0.25em;box-sizing: border-box;margin-bottom: 0.5em;}#sk-container-id-2 div.sk-estimator:hover {background-color: #d4ebff;}#sk-container-id-2 div.sk-parallel-item::after {content: \"\";width: 100%;border-bottom: 1px solid gray;flex-grow: 1;}#sk-container-id-2 div.sk-label:hover label.sk-toggleable__label {background-color: #d4ebff;}#sk-container-id-2 div.sk-serial::before {content: \"\";position: absolute;border-left: 1px solid gray;box-sizing: border-box;top: 0;bottom: 0;left: 50%;z-index: 0;}#sk-container-id-2 div.sk-serial {display: flex;flex-direction: column;align-items: center;background-color: white;padding-right: 0.2em;padding-left: 0.2em;position: relative;}#sk-container-id-2 div.sk-item {position: relative;z-index: 1;}#sk-container-id-2 div.sk-parallel {display: flex;align-items: stretch;justify-content: center;background-color: white;position: relative;}#sk-container-id-2 div.sk-item::before, #sk-container-id-2 div.sk-parallel-item::before {content: \"\";position: absolute;border-left: 1px solid gray;box-sizing: border-box;top: 0;bottom: 0;left: 50%;z-index: -1;}#sk-container-id-2 div.sk-parallel-item {display: flex;flex-direction: column;z-index: 1;position: relative;background-color: white;}#sk-container-id-2 div.sk-parallel-item:first-child::after {align-self: flex-end;width: 50%;}#sk-container-id-2 div.sk-parallel-item:last-child::after {align-self: flex-start;width: 50%;}#sk-container-id-2 div.sk-parallel-item:only-child::after {width: 0;}#sk-container-id-2 div.sk-dashed-wrapped {border: 1px dashed gray;margin: 0 0.4em 0.5em 0.4em;box-sizing: border-box;padding-bottom: 0.4em;background-color: white;}#sk-container-id-2 div.sk-label label {font-family: monospace;font-weight: bold;display: inline-block;line-height: 1.2em;}#sk-container-id-2 div.sk-label-container {text-align: center;}#sk-container-id-2 div.sk-container {/* jupyter's `normalize.less` sets `[hidden] { display: none; }` but bootstrap.min.css set `[hidden] { display: none !important; }` so we also need the `!important` here to be able to override the default hidden behavior on the sphinx rendered scikit-learn.org. See: https://github.com/scikit-learn/scikit-learn/issues/21755 */display: inline-block !important;position: relative;}#sk-container-id-2 div.sk-text-repr-fallback {display: none;}</style><div id=\"sk-container-id-2\" class=\"sk-top-container\"><div class=\"sk-text-repr-fallback\"><pre>GridSearchCV(cv=StratifiedKFold(n_splits=10, random_state=0, shuffle=True),\n",
       "             estimator=Pipeline(steps=[(&#x27;preprocess&#x27;,\n",
       "                                        ColumnTransformer(remainder=&#x27;passthrough&#x27;,\n",
       "                                                          transformers=[(&#x27;onehot&#x27;,\n",
       "                                                                         OneHotEncoder(drop=&#x27;first&#x27;),\n",
       "                                                                         [&#x27;housing&#x27;,\n",
       "                                                                          &#x27;loan&#x27;,\n",
       "                                                                          &#x27;contact&#x27;,\n",
       "                                                                          &#x27;poutcome&#x27;,\n",
       "                                                                          &#x27;job&#x27;,\n",
       "                                                                          &#x27;marital&#x27;]),\n",
       "                                                                        (&#x27;ordinal&#x27;,\n",
       "                                                                         OrdinalEncoder(mapping=[{&#x27;col&#x27;: &#x27;education&#x27;,\n",
       "                                                                                                  &#x27;data_type&#x27;: dtype(&#x27;O&#x27;),\n",
       "                                                                                                  &#x27;mapping&#x27;...\n",
       "                                                                         RobustScaler(),\n",
       "                                                                         Index([&#x27;age&#x27;, &#x27;campaign&#x27;, &#x27;pdays&#x27;, &#x27;previous&#x27;, &#x27;emp.var.rate&#x27;,\n",
       "       &#x27;cons.price.idx&#x27;, &#x27;cons.conf.idx&#x27;, &#x27;euribor3m&#x27;, &#x27;nr.employed&#x27;],\n",
       "      dtype=&#x27;object&#x27;))])),\n",
       "                                       (&#x27;resampler&#x27;,\n",
       "                                        RandomOverSampler(random_state=0)),\n",
       "                                       (&#x27;model&#x27;,\n",
       "                                        AdaBoostClassifier(random_state=0))]),\n",
       "             param_grid={&#x27;model__learning_rate&#x27;: [0.01, 0.1],\n",
       "                         &#x27;model__n_estimators&#x27;: [50, 100, 200]},\n",
       "             scoring=&#x27;roc_auc&#x27;, verbose=False)</pre><b>In a Jupyter environment, please rerun this cell to show the HTML representation or trust the notebook. <br />On GitHub, the HTML representation is unable to render, please try loading this page with nbviewer.org.</b></div><div class=\"sk-container\" hidden><div class=\"sk-item sk-dashed-wrapped\"><div class=\"sk-label-container\"><div class=\"sk-label sk-toggleable\"><input class=\"sk-toggleable__control sk-hidden--visually\" id=\"sk-estimator-id-14\" type=\"checkbox\" ><label for=\"sk-estimator-id-14\" class=\"sk-toggleable__label sk-toggleable__label-arrow\">GridSearchCV</label><div class=\"sk-toggleable__content\"><pre>GridSearchCV(cv=StratifiedKFold(n_splits=10, random_state=0, shuffle=True),\n",
       "             estimator=Pipeline(steps=[(&#x27;preprocess&#x27;,\n",
       "                                        ColumnTransformer(remainder=&#x27;passthrough&#x27;,\n",
       "                                                          transformers=[(&#x27;onehot&#x27;,\n",
       "                                                                         OneHotEncoder(drop=&#x27;first&#x27;),\n",
       "                                                                         [&#x27;housing&#x27;,\n",
       "                                                                          &#x27;loan&#x27;,\n",
       "                                                                          &#x27;contact&#x27;,\n",
       "                                                                          &#x27;poutcome&#x27;,\n",
       "                                                                          &#x27;job&#x27;,\n",
       "                                                                          &#x27;marital&#x27;]),\n",
       "                                                                        (&#x27;ordinal&#x27;,\n",
       "                                                                         OrdinalEncoder(mapping=[{&#x27;col&#x27;: &#x27;education&#x27;,\n",
       "                                                                                                  &#x27;data_type&#x27;: dtype(&#x27;O&#x27;),\n",
       "                                                                                                  &#x27;mapping&#x27;...\n",
       "                                                                         RobustScaler(),\n",
       "                                                                         Index([&#x27;age&#x27;, &#x27;campaign&#x27;, &#x27;pdays&#x27;, &#x27;previous&#x27;, &#x27;emp.var.rate&#x27;,\n",
       "       &#x27;cons.price.idx&#x27;, &#x27;cons.conf.idx&#x27;, &#x27;euribor3m&#x27;, &#x27;nr.employed&#x27;],\n",
       "      dtype=&#x27;object&#x27;))])),\n",
       "                                       (&#x27;resampler&#x27;,\n",
       "                                        RandomOverSampler(random_state=0)),\n",
       "                                       (&#x27;model&#x27;,\n",
       "                                        AdaBoostClassifier(random_state=0))]),\n",
       "             param_grid={&#x27;model__learning_rate&#x27;: [0.01, 0.1],\n",
       "                         &#x27;model__n_estimators&#x27;: [50, 100, 200]},\n",
       "             scoring=&#x27;roc_auc&#x27;, verbose=False)</pre></div></div></div><div class=\"sk-parallel\"><div class=\"sk-parallel-item\"><div class=\"sk-item\"><div class=\"sk-label-container\"><div class=\"sk-label sk-toggleable\"><input class=\"sk-toggleable__control sk-hidden--visually\" id=\"sk-estimator-id-15\" type=\"checkbox\" ><label for=\"sk-estimator-id-15\" class=\"sk-toggleable__label sk-toggleable__label-arrow\">estimator: Pipeline</label><div class=\"sk-toggleable__content\"><pre>Pipeline(steps=[(&#x27;preprocess&#x27;,\n",
       "                 ColumnTransformer(remainder=&#x27;passthrough&#x27;,\n",
       "                                   transformers=[(&#x27;onehot&#x27;,\n",
       "                                                  OneHotEncoder(drop=&#x27;first&#x27;),\n",
       "                                                  [&#x27;housing&#x27;, &#x27;loan&#x27;, &#x27;contact&#x27;,\n",
       "                                                   &#x27;poutcome&#x27;, &#x27;job&#x27;,\n",
       "                                                   &#x27;marital&#x27;]),\n",
       "                                                 (&#x27;ordinal&#x27;,\n",
       "                                                  OrdinalEncoder(mapping=[{&#x27;col&#x27;: &#x27;education&#x27;,\n",
       "                                                                           &#x27;data_type&#x27;: dtype(&#x27;O&#x27;),\n",
       "                                                                           &#x27;mapping&#x27;: Primary Education      0\n",
       "Secondary Education    1\n",
       "Higher Education       2\n",
       "Other                 -1\n",
       "dtype: int64},\n",
       "                                                                          {&#x27;col&#x27;: &#x27;mo...\n",
       "                                                                           &#x27;data_type&#x27;: dtype(&#x27;O&#x27;),\n",
       "                                                                           &#x27;mapping&#x27;: mon    0\n",
       "tue    1\n",
       "wed    2\n",
       "thu    3\n",
       "fri    4\n",
       "dtype: int64}]),\n",
       "                                                  [&#x27;education&#x27;, &#x27;month&#x27;,\n",
       "                                                   &#x27;day_of_week&#x27;]),\n",
       "                                                 (&#x27;robust&#x27;, RobustScaler(),\n",
       "                                                  Index([&#x27;age&#x27;, &#x27;campaign&#x27;, &#x27;pdays&#x27;, &#x27;previous&#x27;, &#x27;emp.var.rate&#x27;,\n",
       "       &#x27;cons.price.idx&#x27;, &#x27;cons.conf.idx&#x27;, &#x27;euribor3m&#x27;, &#x27;nr.employed&#x27;],\n",
       "      dtype=&#x27;object&#x27;))])),\n",
       "                (&#x27;resampler&#x27;, RandomOverSampler(random_state=0)),\n",
       "                (&#x27;model&#x27;, AdaBoostClassifier(random_state=0))])</pre></div></div></div><div class=\"sk-serial\"><div class=\"sk-item\"><div class=\"sk-serial\"><div class=\"sk-item sk-dashed-wrapped\"><div class=\"sk-label-container\"><div class=\"sk-label sk-toggleable\"><input class=\"sk-toggleable__control sk-hidden--visually\" id=\"sk-estimator-id-16\" type=\"checkbox\" ><label for=\"sk-estimator-id-16\" class=\"sk-toggleable__label sk-toggleable__label-arrow\">preprocess: ColumnTransformer</label><div class=\"sk-toggleable__content\"><pre>ColumnTransformer(remainder=&#x27;passthrough&#x27;,\n",
       "                  transformers=[(&#x27;onehot&#x27;, OneHotEncoder(drop=&#x27;first&#x27;),\n",
       "                                 [&#x27;housing&#x27;, &#x27;loan&#x27;, &#x27;contact&#x27;, &#x27;poutcome&#x27;,\n",
       "                                  &#x27;job&#x27;, &#x27;marital&#x27;]),\n",
       "                                (&#x27;ordinal&#x27;,\n",
       "                                 OrdinalEncoder(mapping=[{&#x27;col&#x27;: &#x27;education&#x27;,\n",
       "                                                          &#x27;data_type&#x27;: dtype(&#x27;O&#x27;),\n",
       "                                                          &#x27;mapping&#x27;: Primary Education      0\n",
       "Secondary Education    1\n",
       "Higher Education       2\n",
       "Other                 -1\n",
       "dtype: int64},\n",
       "                                                         {&#x27;col&#x27;: &#x27;month&#x27;,\n",
       "                                                          &#x27;data_type&#x27;: dtype(&#x27;O&#x27;),\n",
       "                                                          &#x27;m...jan     0\n",
       "feb     1\n",
       "mar     2\n",
       "apr     3\n",
       "may     4\n",
       "jun     5\n",
       "jul     6\n",
       "aug     7\n",
       "sep     8\n",
       "oct     9\n",
       "nov    10\n",
       "dec    11\n",
       "dtype: int64},\n",
       "                                                         {&#x27;col&#x27;: &#x27;day_of_week&#x27;,\n",
       "                                                          &#x27;data_type&#x27;: dtype(&#x27;O&#x27;),\n",
       "                                                          &#x27;mapping&#x27;: mon    0\n",
       "tue    1\n",
       "wed    2\n",
       "thu    3\n",
       "fri    4\n",
       "dtype: int64}]),\n",
       "                                 [&#x27;education&#x27;, &#x27;month&#x27;, &#x27;day_of_week&#x27;]),\n",
       "                                (&#x27;robust&#x27;, RobustScaler(),\n",
       "                                 Index([&#x27;age&#x27;, &#x27;campaign&#x27;, &#x27;pdays&#x27;, &#x27;previous&#x27;, &#x27;emp.var.rate&#x27;,\n",
       "       &#x27;cons.price.idx&#x27;, &#x27;cons.conf.idx&#x27;, &#x27;euribor3m&#x27;, &#x27;nr.employed&#x27;],\n",
       "      dtype=&#x27;object&#x27;))])</pre></div></div></div><div class=\"sk-parallel\"><div class=\"sk-parallel-item\"><div class=\"sk-item\"><div class=\"sk-label-container\"><div class=\"sk-label sk-toggleable\"><input class=\"sk-toggleable__control sk-hidden--visually\" id=\"sk-estimator-id-17\" type=\"checkbox\" ><label for=\"sk-estimator-id-17\" class=\"sk-toggleable__label sk-toggleable__label-arrow\">onehot</label><div class=\"sk-toggleable__content\"><pre>[&#x27;housing&#x27;, &#x27;loan&#x27;, &#x27;contact&#x27;, &#x27;poutcome&#x27;, &#x27;job&#x27;, &#x27;marital&#x27;]</pre></div></div></div><div class=\"sk-serial\"><div class=\"sk-item\"><div class=\"sk-estimator sk-toggleable\"><input class=\"sk-toggleable__control sk-hidden--visually\" id=\"sk-estimator-id-18\" type=\"checkbox\" ><label for=\"sk-estimator-id-18\" class=\"sk-toggleable__label sk-toggleable__label-arrow\">OneHotEncoder</label><div class=\"sk-toggleable__content\"><pre>OneHotEncoder(drop=&#x27;first&#x27;)</pre></div></div></div></div></div></div><div class=\"sk-parallel-item\"><div class=\"sk-item\"><div class=\"sk-label-container\"><div class=\"sk-label sk-toggleable\"><input class=\"sk-toggleable__control sk-hidden--visually\" id=\"sk-estimator-id-19\" type=\"checkbox\" ><label for=\"sk-estimator-id-19\" class=\"sk-toggleable__label sk-toggleable__label-arrow\">ordinal</label><div class=\"sk-toggleable__content\"><pre>[&#x27;education&#x27;, &#x27;month&#x27;, &#x27;day_of_week&#x27;]</pre></div></div></div><div class=\"sk-serial\"><div class=\"sk-item\"><div class=\"sk-estimator sk-toggleable\"><input class=\"sk-toggleable__control sk-hidden--visually\" id=\"sk-estimator-id-20\" type=\"checkbox\" ><label for=\"sk-estimator-id-20\" class=\"sk-toggleable__label sk-toggleable__label-arrow\">OrdinalEncoder</label><div class=\"sk-toggleable__content\"><pre>OrdinalEncoder(mapping=[{&#x27;col&#x27;: &#x27;education&#x27;, &#x27;data_type&#x27;: dtype(&#x27;O&#x27;),\n",
       "                         &#x27;mapping&#x27;: Primary Education      0\n",
       "Secondary Education    1\n",
       "Higher Education       2\n",
       "Other                 -1\n",
       "dtype: int64},\n",
       "                        {&#x27;col&#x27;: &#x27;month&#x27;, &#x27;data_type&#x27;: dtype(&#x27;O&#x27;),\n",
       "                         &#x27;mapping&#x27;: jan     0\n",
       "feb     1\n",
       "mar     2\n",
       "apr     3\n",
       "may     4\n",
       "jun     5\n",
       "jul     6\n",
       "aug     7\n",
       "sep     8\n",
       "oct     9\n",
       "nov    10\n",
       "dec    11\n",
       "dtype: int64},\n",
       "                        {&#x27;col&#x27;: &#x27;day_of_week&#x27;, &#x27;data_type&#x27;: dtype(&#x27;O&#x27;),\n",
       "                         &#x27;mapping&#x27;: mon    0\n",
       "tue    1\n",
       "wed    2\n",
       "thu    3\n",
       "fri    4\n",
       "dtype: int64}])</pre></div></div></div></div></div></div><div class=\"sk-parallel-item\"><div class=\"sk-item\"><div class=\"sk-label-container\"><div class=\"sk-label sk-toggleable\"><input class=\"sk-toggleable__control sk-hidden--visually\" id=\"sk-estimator-id-21\" type=\"checkbox\" ><label for=\"sk-estimator-id-21\" class=\"sk-toggleable__label sk-toggleable__label-arrow\">robust</label><div class=\"sk-toggleable__content\"><pre>Index([&#x27;age&#x27;, &#x27;campaign&#x27;, &#x27;pdays&#x27;, &#x27;previous&#x27;, &#x27;emp.var.rate&#x27;,\n",
       "       &#x27;cons.price.idx&#x27;, &#x27;cons.conf.idx&#x27;, &#x27;euribor3m&#x27;, &#x27;nr.employed&#x27;],\n",
       "      dtype=&#x27;object&#x27;)</pre></div></div></div><div class=\"sk-serial\"><div class=\"sk-item\"><div class=\"sk-estimator sk-toggleable\"><input class=\"sk-toggleable__control sk-hidden--visually\" id=\"sk-estimator-id-22\" type=\"checkbox\" ><label for=\"sk-estimator-id-22\" class=\"sk-toggleable__label sk-toggleable__label-arrow\">RobustScaler</label><div class=\"sk-toggleable__content\"><pre>RobustScaler()</pre></div></div></div></div></div></div><div class=\"sk-parallel-item\"><div class=\"sk-item\"><div class=\"sk-label-container\"><div class=\"sk-label sk-toggleable\"><input class=\"sk-toggleable__control sk-hidden--visually\" id=\"sk-estimator-id-23\" type=\"checkbox\" ><label for=\"sk-estimator-id-23\" class=\"sk-toggleable__label sk-toggleable__label-arrow\">remainder</label><div class=\"sk-toggleable__content\"><pre>[]</pre></div></div></div><div class=\"sk-serial\"><div class=\"sk-item\"><div class=\"sk-estimator sk-toggleable\"><input class=\"sk-toggleable__control sk-hidden--visually\" id=\"sk-estimator-id-24\" type=\"checkbox\" ><label for=\"sk-estimator-id-24\" class=\"sk-toggleable__label sk-toggleable__label-arrow\">passthrough</label><div class=\"sk-toggleable__content\"><pre>passthrough</pre></div></div></div></div></div></div></div></div><div class=\"sk-item\"><div class=\"sk-estimator sk-toggleable\"><input class=\"sk-toggleable__control sk-hidden--visually\" id=\"sk-estimator-id-25\" type=\"checkbox\" ><label for=\"sk-estimator-id-25\" class=\"sk-toggleable__label sk-toggleable__label-arrow\">RandomOverSampler</label><div class=\"sk-toggleable__content\"><pre>RandomOverSampler(random_state=0)</pre></div></div></div><div class=\"sk-item\"><div class=\"sk-estimator sk-toggleable\"><input class=\"sk-toggleable__control sk-hidden--visually\" id=\"sk-estimator-id-26\" type=\"checkbox\" ><label for=\"sk-estimator-id-26\" class=\"sk-toggleable__label sk-toggleable__label-arrow\">AdaBoostClassifier</label><div class=\"sk-toggleable__content\"><pre>AdaBoostClassifier(random_state=0)</pre></div></div></div></div></div></div></div></div></div></div></div></div>"
      ],
      "text/plain": [
       "GridSearchCV(cv=StratifiedKFold(n_splits=10, random_state=0, shuffle=True),\n",
       "             estimator=Pipeline(steps=[('preprocess',\n",
       "                                        ColumnTransformer(remainder='passthrough',\n",
       "                                                          transformers=[('onehot',\n",
       "                                                                         OneHotEncoder(drop='first'),\n",
       "                                                                         ['housing',\n",
       "                                                                          'loan',\n",
       "                                                                          'contact',\n",
       "                                                                          'poutcome',\n",
       "                                                                          'job',\n",
       "                                                                          'marital']),\n",
       "                                                                        ('ordinal',\n",
       "                                                                         OrdinalEncoder(mapping=[{'col': 'education',\n",
       "                                                                                                  'data_type': dtype('O'),\n",
       "                                                                                                  'mapping'...\n",
       "                                                                         RobustScaler(),\n",
       "                                                                         Index(['age', 'campaign', 'pdays', 'previous', 'emp.var.rate',\n",
       "       'cons.price.idx', 'cons.conf.idx', 'euribor3m', 'nr.employed'],\n",
       "      dtype='object'))])),\n",
       "                                       ('resampler',\n",
       "                                        RandomOverSampler(random_state=0)),\n",
       "                                       ('model',\n",
       "                                        AdaBoostClassifier(random_state=0))]),\n",
       "             param_grid={'model__learning_rate': [0.01, 0.1],\n",
       "                         'model__n_estimators': [50, 100, 200]},\n",
       "             scoring='roc_auc', verbose=False)"
      ]
     },
     "execution_count": 30,
     "metadata": {},
     "output_type": "execute_result"
    }
   ],
   "source": [
    "# Ada Boost Hyperparameter Tuning\n",
    "\n",
    "pipe_adaboost = Pipeline([\n",
    "    ('preprocess', preprocessor),\n",
    "    ('resampler', ros),\n",
    "    ('model', ada)       \n",
    "])\n",
    "skfold=StratifiedKFold(n_splits=10, random_state=0, shuffle=True) #RepeatedStratifiedKFold\n",
    "\n",
    "# Hyperparameter space Gradient Boosting\n",
    "hyperparam_adaboost = {\n",
    "    'model__learning_rate': [0.01, 0.1],\n",
    "    'model__n_estimators': [50,100,200]\n",
    "}\n",
    "\n",
    "# Hyperparameter tuning\n",
    "adaboost_grid = GridSearchCV(estimator = pipe_adaboost,\n",
    "    param_grid = hyperparam_adaboost,\n",
    "    cv = skfold,\n",
    "    scoring = 'roc_auc',\n",
    "    verbose = False\n",
    ")\n",
    "\n",
    "# fitting\n",
    "adaboost_grid.fit(X_train, y_train)"
   ]
  },
  {
   "cell_type": "code",
   "execution_count": 31,
   "metadata": {},
   "outputs": [
    {
     "name": "stdout",
     "output_type": "stream",
     "text": [
      "Ada Boost Hyperparameter\n",
      "0.7858279910435488\n",
      "{'model__learning_rate': 0.1, 'model__n_estimators': 200}\n"
     ]
    }
   ],
   "source": [
    "# Ada Boost best_score, best_params\n",
    "\n",
    "print('Ada Boost Hyperparameter')\n",
    "print(adaboost_grid.best_score_)\n",
    "print(adaboost_grid.best_params_)"
   ]
  },
  {
   "cell_type": "markdown",
   "metadata": {},
   "source": [
    "Hasil dari `Hyperparameter Tuning` pada `train_set` menggunakan `Grid Search` pada model `Ada Boosting` menunjukkan ROC_AUC score terbaik sebesar `0.7858`. dengan **model__learning_rate: 0.1** dan **model__n_estimators: 200**"
   ]
  },
  {
   "cell_type": "markdown",
   "metadata": {},
   "source": [
    "#### **2.2.3 Model `Cat Boosting`**"
   ]
  },
  {
   "cell_type": "markdown",
   "metadata": {},
   "source": [
    "***Hyperparameter tuning*** penting untuk mengontrol perilaku keseluruhan model machine learning. Akan dilakukan hyperparameter tuning pada model `Cat Boosting`, dengan harapan model lebih optimal. Ada beberapa parameter yang akan dituning antara lain:\n",
    "* `learning_rate` = Mengontrol tingkat pembelajaran model\n",
    "* `iterations` = Menentukan jumlah pohon (estimator) yang akan dibangun\n",
    "* `depth` = Menentukan kedalaman maksimum dari setiap pohon\n",
    "* `l2_leaf_reg` = Mengendalikan kekuatan regularisasi L2 untuk mengurangi overfitting"
   ]
  },
  {
   "cell_type": "code",
   "execution_count": 32,
   "metadata": {},
   "outputs": [
    {
     "data": {
      "text/html": [
       "<style>#sk-container-id-3 {color: black;}#sk-container-id-3 pre{padding: 0;}#sk-container-id-3 div.sk-toggleable {background-color: white;}#sk-container-id-3 label.sk-toggleable__label {cursor: pointer;display: block;width: 100%;margin-bottom: 0;padding: 0.3em;box-sizing: border-box;text-align: center;}#sk-container-id-3 label.sk-toggleable__label-arrow:before {content: \"▸\";float: left;margin-right: 0.25em;color: #696969;}#sk-container-id-3 label.sk-toggleable__label-arrow:hover:before {color: black;}#sk-container-id-3 div.sk-estimator:hover label.sk-toggleable__label-arrow:before {color: black;}#sk-container-id-3 div.sk-toggleable__content {max-height: 0;max-width: 0;overflow: hidden;text-align: left;background-color: #f0f8ff;}#sk-container-id-3 div.sk-toggleable__content pre {margin: 0.2em;color: black;border-radius: 0.25em;background-color: #f0f8ff;}#sk-container-id-3 input.sk-toggleable__control:checked~div.sk-toggleable__content {max-height: 200px;max-width: 100%;overflow: auto;}#sk-container-id-3 input.sk-toggleable__control:checked~label.sk-toggleable__label-arrow:before {content: \"▾\";}#sk-container-id-3 div.sk-estimator input.sk-toggleable__control:checked~label.sk-toggleable__label {background-color: #d4ebff;}#sk-container-id-3 div.sk-label input.sk-toggleable__control:checked~label.sk-toggleable__label {background-color: #d4ebff;}#sk-container-id-3 input.sk-hidden--visually {border: 0;clip: rect(1px 1px 1px 1px);clip: rect(1px, 1px, 1px, 1px);height: 1px;margin: -1px;overflow: hidden;padding: 0;position: absolute;width: 1px;}#sk-container-id-3 div.sk-estimator {font-family: monospace;background-color: #f0f8ff;border: 1px dotted black;border-radius: 0.25em;box-sizing: border-box;margin-bottom: 0.5em;}#sk-container-id-3 div.sk-estimator:hover {background-color: #d4ebff;}#sk-container-id-3 div.sk-parallel-item::after {content: \"\";width: 100%;border-bottom: 1px solid gray;flex-grow: 1;}#sk-container-id-3 div.sk-label:hover label.sk-toggleable__label {background-color: #d4ebff;}#sk-container-id-3 div.sk-serial::before {content: \"\";position: absolute;border-left: 1px solid gray;box-sizing: border-box;top: 0;bottom: 0;left: 50%;z-index: 0;}#sk-container-id-3 div.sk-serial {display: flex;flex-direction: column;align-items: center;background-color: white;padding-right: 0.2em;padding-left: 0.2em;position: relative;}#sk-container-id-3 div.sk-item {position: relative;z-index: 1;}#sk-container-id-3 div.sk-parallel {display: flex;align-items: stretch;justify-content: center;background-color: white;position: relative;}#sk-container-id-3 div.sk-item::before, #sk-container-id-3 div.sk-parallel-item::before {content: \"\";position: absolute;border-left: 1px solid gray;box-sizing: border-box;top: 0;bottom: 0;left: 50%;z-index: -1;}#sk-container-id-3 div.sk-parallel-item {display: flex;flex-direction: column;z-index: 1;position: relative;background-color: white;}#sk-container-id-3 div.sk-parallel-item:first-child::after {align-self: flex-end;width: 50%;}#sk-container-id-3 div.sk-parallel-item:last-child::after {align-self: flex-start;width: 50%;}#sk-container-id-3 div.sk-parallel-item:only-child::after {width: 0;}#sk-container-id-3 div.sk-dashed-wrapped {border: 1px dashed gray;margin: 0 0.4em 0.5em 0.4em;box-sizing: border-box;padding-bottom: 0.4em;background-color: white;}#sk-container-id-3 div.sk-label label {font-family: monospace;font-weight: bold;display: inline-block;line-height: 1.2em;}#sk-container-id-3 div.sk-label-container {text-align: center;}#sk-container-id-3 div.sk-container {/* jupyter's `normalize.less` sets `[hidden] { display: none; }` but bootstrap.min.css set `[hidden] { display: none !important; }` so we also need the `!important` here to be able to override the default hidden behavior on the sphinx rendered scikit-learn.org. See: https://github.com/scikit-learn/scikit-learn/issues/21755 */display: inline-block !important;position: relative;}#sk-container-id-3 div.sk-text-repr-fallback {display: none;}</style><div id=\"sk-container-id-3\" class=\"sk-top-container\"><div class=\"sk-text-repr-fallback\"><pre>GridSearchCV(cv=StratifiedKFold(n_splits=10, random_state=0, shuffle=True),\n",
       "             estimator=Pipeline(steps=[(&#x27;preprocess&#x27;,\n",
       "                                        ColumnTransformer(remainder=&#x27;passthrough&#x27;,\n",
       "                                                          transformers=[(&#x27;onehot&#x27;,\n",
       "                                                                         OneHotEncoder(drop=&#x27;first&#x27;),\n",
       "                                                                         [&#x27;housing&#x27;,\n",
       "                                                                          &#x27;loan&#x27;,\n",
       "                                                                          &#x27;contact&#x27;,\n",
       "                                                                          &#x27;poutcome&#x27;,\n",
       "                                                                          &#x27;job&#x27;,\n",
       "                                                                          &#x27;marital&#x27;]),\n",
       "                                                                        (&#x27;ordinal&#x27;,\n",
       "                                                                         OrdinalEncoder(mapping=[{&#x27;col&#x27;: &#x27;education&#x27;,\n",
       "                                                                                                  &#x27;data_type&#x27;: dtype(&#x27;O&#x27;),\n",
       "                                                                                                  &#x27;mapping&#x27;...\n",
       "       &#x27;cons.price.idx&#x27;, &#x27;cons.conf.idx&#x27;, &#x27;euribor3m&#x27;, &#x27;nr.employed&#x27;],\n",
       "      dtype=&#x27;object&#x27;))])),\n",
       "                                       (&#x27;resampler&#x27;,\n",
       "                                        RandomOverSampler(random_state=0)),\n",
       "                                       (&#x27;model_catboost&#x27;,\n",
       "                                        &lt;catboost.core.CatBoostClassifier object at 0x0000020CCA1C2E80&gt;)]),\n",
       "             param_grid={&#x27;model_catboost__depth&#x27;: [5, 10],\n",
       "                         &#x27;model_catboost__iterations&#x27;: [100, 200],\n",
       "                         &#x27;model_catboost__l2_leaf_reg&#x27;: [10, 100],\n",
       "                         &#x27;model_catboost__learning_rate&#x27;: [0.01, 0.1]},\n",
       "             scoring=&#x27;roc_auc&#x27;, verbose=False)</pre><b>In a Jupyter environment, please rerun this cell to show the HTML representation or trust the notebook. <br />On GitHub, the HTML representation is unable to render, please try loading this page with nbviewer.org.</b></div><div class=\"sk-container\" hidden><div class=\"sk-item sk-dashed-wrapped\"><div class=\"sk-label-container\"><div class=\"sk-label sk-toggleable\"><input class=\"sk-toggleable__control sk-hidden--visually\" id=\"sk-estimator-id-27\" type=\"checkbox\" ><label for=\"sk-estimator-id-27\" class=\"sk-toggleable__label sk-toggleable__label-arrow\">GridSearchCV</label><div class=\"sk-toggleable__content\"><pre>GridSearchCV(cv=StratifiedKFold(n_splits=10, random_state=0, shuffle=True),\n",
       "             estimator=Pipeline(steps=[(&#x27;preprocess&#x27;,\n",
       "                                        ColumnTransformer(remainder=&#x27;passthrough&#x27;,\n",
       "                                                          transformers=[(&#x27;onehot&#x27;,\n",
       "                                                                         OneHotEncoder(drop=&#x27;first&#x27;),\n",
       "                                                                         [&#x27;housing&#x27;,\n",
       "                                                                          &#x27;loan&#x27;,\n",
       "                                                                          &#x27;contact&#x27;,\n",
       "                                                                          &#x27;poutcome&#x27;,\n",
       "                                                                          &#x27;job&#x27;,\n",
       "                                                                          &#x27;marital&#x27;]),\n",
       "                                                                        (&#x27;ordinal&#x27;,\n",
       "                                                                         OrdinalEncoder(mapping=[{&#x27;col&#x27;: &#x27;education&#x27;,\n",
       "                                                                                                  &#x27;data_type&#x27;: dtype(&#x27;O&#x27;),\n",
       "                                                                                                  &#x27;mapping&#x27;...\n",
       "       &#x27;cons.price.idx&#x27;, &#x27;cons.conf.idx&#x27;, &#x27;euribor3m&#x27;, &#x27;nr.employed&#x27;],\n",
       "      dtype=&#x27;object&#x27;))])),\n",
       "                                       (&#x27;resampler&#x27;,\n",
       "                                        RandomOverSampler(random_state=0)),\n",
       "                                       (&#x27;model_catboost&#x27;,\n",
       "                                        &lt;catboost.core.CatBoostClassifier object at 0x0000020CCA1C2E80&gt;)]),\n",
       "             param_grid={&#x27;model_catboost__depth&#x27;: [5, 10],\n",
       "                         &#x27;model_catboost__iterations&#x27;: [100, 200],\n",
       "                         &#x27;model_catboost__l2_leaf_reg&#x27;: [10, 100],\n",
       "                         &#x27;model_catboost__learning_rate&#x27;: [0.01, 0.1]},\n",
       "             scoring=&#x27;roc_auc&#x27;, verbose=False)</pre></div></div></div><div class=\"sk-parallel\"><div class=\"sk-parallel-item\"><div class=\"sk-item\"><div class=\"sk-label-container\"><div class=\"sk-label sk-toggleable\"><input class=\"sk-toggleable__control sk-hidden--visually\" id=\"sk-estimator-id-28\" type=\"checkbox\" ><label for=\"sk-estimator-id-28\" class=\"sk-toggleable__label sk-toggleable__label-arrow\">estimator: Pipeline</label><div class=\"sk-toggleable__content\"><pre>Pipeline(steps=[(&#x27;preprocess&#x27;,\n",
       "                 ColumnTransformer(remainder=&#x27;passthrough&#x27;,\n",
       "                                   transformers=[(&#x27;onehot&#x27;,\n",
       "                                                  OneHotEncoder(drop=&#x27;first&#x27;),\n",
       "                                                  [&#x27;housing&#x27;, &#x27;loan&#x27;, &#x27;contact&#x27;,\n",
       "                                                   &#x27;poutcome&#x27;, &#x27;job&#x27;,\n",
       "                                                   &#x27;marital&#x27;]),\n",
       "                                                 (&#x27;ordinal&#x27;,\n",
       "                                                  OrdinalEncoder(mapping=[{&#x27;col&#x27;: &#x27;education&#x27;,\n",
       "                                                                           &#x27;data_type&#x27;: dtype(&#x27;O&#x27;),\n",
       "                                                                           &#x27;mapping&#x27;: Primary Education      0\n",
       "Secondary Education    1\n",
       "Higher Education       2\n",
       "Other                 -1\n",
       "dtype: int64},\n",
       "                                                                          {&#x27;col&#x27;: &#x27;mo...\n",
       "thu    3\n",
       "fri    4\n",
       "dtype: int64}]),\n",
       "                                                  [&#x27;education&#x27;, &#x27;month&#x27;,\n",
       "                                                   &#x27;day_of_week&#x27;]),\n",
       "                                                 (&#x27;robust&#x27;, RobustScaler(),\n",
       "                                                  Index([&#x27;age&#x27;, &#x27;campaign&#x27;, &#x27;pdays&#x27;, &#x27;previous&#x27;, &#x27;emp.var.rate&#x27;,\n",
       "       &#x27;cons.price.idx&#x27;, &#x27;cons.conf.idx&#x27;, &#x27;euribor3m&#x27;, &#x27;nr.employed&#x27;],\n",
       "      dtype=&#x27;object&#x27;))])),\n",
       "                (&#x27;resampler&#x27;, RandomOverSampler(random_state=0)),\n",
       "                (&#x27;model_catboost&#x27;,\n",
       "                 &lt;catboost.core.CatBoostClassifier object at 0x0000020CCA1C2E80&gt;)])</pre></div></div></div><div class=\"sk-serial\"><div class=\"sk-item\"><div class=\"sk-serial\"><div class=\"sk-item sk-dashed-wrapped\"><div class=\"sk-label-container\"><div class=\"sk-label sk-toggleable\"><input class=\"sk-toggleable__control sk-hidden--visually\" id=\"sk-estimator-id-29\" type=\"checkbox\" ><label for=\"sk-estimator-id-29\" class=\"sk-toggleable__label sk-toggleable__label-arrow\">preprocess: ColumnTransformer</label><div class=\"sk-toggleable__content\"><pre>ColumnTransformer(remainder=&#x27;passthrough&#x27;,\n",
       "                  transformers=[(&#x27;onehot&#x27;, OneHotEncoder(drop=&#x27;first&#x27;),\n",
       "                                 [&#x27;housing&#x27;, &#x27;loan&#x27;, &#x27;contact&#x27;, &#x27;poutcome&#x27;,\n",
       "                                  &#x27;job&#x27;, &#x27;marital&#x27;]),\n",
       "                                (&#x27;ordinal&#x27;,\n",
       "                                 OrdinalEncoder(mapping=[{&#x27;col&#x27;: &#x27;education&#x27;,\n",
       "                                                          &#x27;data_type&#x27;: dtype(&#x27;O&#x27;),\n",
       "                                                          &#x27;mapping&#x27;: Primary Education      0\n",
       "Secondary Education    1\n",
       "Higher Education       2\n",
       "Other                 -1\n",
       "dtype: int64},\n",
       "                                                         {&#x27;col&#x27;: &#x27;month&#x27;,\n",
       "                                                          &#x27;data_type&#x27;: dtype(&#x27;O&#x27;),\n",
       "                                                          &#x27;m...jan     0\n",
       "feb     1\n",
       "mar     2\n",
       "apr     3\n",
       "may     4\n",
       "jun     5\n",
       "jul     6\n",
       "aug     7\n",
       "sep     8\n",
       "oct     9\n",
       "nov    10\n",
       "dec    11\n",
       "dtype: int64},\n",
       "                                                         {&#x27;col&#x27;: &#x27;day_of_week&#x27;,\n",
       "                                                          &#x27;data_type&#x27;: dtype(&#x27;O&#x27;),\n",
       "                                                          &#x27;mapping&#x27;: mon    0\n",
       "tue    1\n",
       "wed    2\n",
       "thu    3\n",
       "fri    4\n",
       "dtype: int64}]),\n",
       "                                 [&#x27;education&#x27;, &#x27;month&#x27;, &#x27;day_of_week&#x27;]),\n",
       "                                (&#x27;robust&#x27;, RobustScaler(),\n",
       "                                 Index([&#x27;age&#x27;, &#x27;campaign&#x27;, &#x27;pdays&#x27;, &#x27;previous&#x27;, &#x27;emp.var.rate&#x27;,\n",
       "       &#x27;cons.price.idx&#x27;, &#x27;cons.conf.idx&#x27;, &#x27;euribor3m&#x27;, &#x27;nr.employed&#x27;],\n",
       "      dtype=&#x27;object&#x27;))])</pre></div></div></div><div class=\"sk-parallel\"><div class=\"sk-parallel-item\"><div class=\"sk-item\"><div class=\"sk-label-container\"><div class=\"sk-label sk-toggleable\"><input class=\"sk-toggleable__control sk-hidden--visually\" id=\"sk-estimator-id-30\" type=\"checkbox\" ><label for=\"sk-estimator-id-30\" class=\"sk-toggleable__label sk-toggleable__label-arrow\">onehot</label><div class=\"sk-toggleable__content\"><pre>[&#x27;housing&#x27;, &#x27;loan&#x27;, &#x27;contact&#x27;, &#x27;poutcome&#x27;, &#x27;job&#x27;, &#x27;marital&#x27;]</pre></div></div></div><div class=\"sk-serial\"><div class=\"sk-item\"><div class=\"sk-estimator sk-toggleable\"><input class=\"sk-toggleable__control sk-hidden--visually\" id=\"sk-estimator-id-31\" type=\"checkbox\" ><label for=\"sk-estimator-id-31\" class=\"sk-toggleable__label sk-toggleable__label-arrow\">OneHotEncoder</label><div class=\"sk-toggleable__content\"><pre>OneHotEncoder(drop=&#x27;first&#x27;)</pre></div></div></div></div></div></div><div class=\"sk-parallel-item\"><div class=\"sk-item\"><div class=\"sk-label-container\"><div class=\"sk-label sk-toggleable\"><input class=\"sk-toggleable__control sk-hidden--visually\" id=\"sk-estimator-id-32\" type=\"checkbox\" ><label for=\"sk-estimator-id-32\" class=\"sk-toggleable__label sk-toggleable__label-arrow\">ordinal</label><div class=\"sk-toggleable__content\"><pre>[&#x27;education&#x27;, &#x27;month&#x27;, &#x27;day_of_week&#x27;]</pre></div></div></div><div class=\"sk-serial\"><div class=\"sk-item\"><div class=\"sk-estimator sk-toggleable\"><input class=\"sk-toggleable__control sk-hidden--visually\" id=\"sk-estimator-id-33\" type=\"checkbox\" ><label for=\"sk-estimator-id-33\" class=\"sk-toggleable__label sk-toggleable__label-arrow\">OrdinalEncoder</label><div class=\"sk-toggleable__content\"><pre>OrdinalEncoder(mapping=[{&#x27;col&#x27;: &#x27;education&#x27;, &#x27;data_type&#x27;: dtype(&#x27;O&#x27;),\n",
       "                         &#x27;mapping&#x27;: Primary Education      0\n",
       "Secondary Education    1\n",
       "Higher Education       2\n",
       "Other                 -1\n",
       "dtype: int64},\n",
       "                        {&#x27;col&#x27;: &#x27;month&#x27;, &#x27;data_type&#x27;: dtype(&#x27;O&#x27;),\n",
       "                         &#x27;mapping&#x27;: jan     0\n",
       "feb     1\n",
       "mar     2\n",
       "apr     3\n",
       "may     4\n",
       "jun     5\n",
       "jul     6\n",
       "aug     7\n",
       "sep     8\n",
       "oct     9\n",
       "nov    10\n",
       "dec    11\n",
       "dtype: int64},\n",
       "                        {&#x27;col&#x27;: &#x27;day_of_week&#x27;, &#x27;data_type&#x27;: dtype(&#x27;O&#x27;),\n",
       "                         &#x27;mapping&#x27;: mon    0\n",
       "tue    1\n",
       "wed    2\n",
       "thu    3\n",
       "fri    4\n",
       "dtype: int64}])</pre></div></div></div></div></div></div><div class=\"sk-parallel-item\"><div class=\"sk-item\"><div class=\"sk-label-container\"><div class=\"sk-label sk-toggleable\"><input class=\"sk-toggleable__control sk-hidden--visually\" id=\"sk-estimator-id-34\" type=\"checkbox\" ><label for=\"sk-estimator-id-34\" class=\"sk-toggleable__label sk-toggleable__label-arrow\">robust</label><div class=\"sk-toggleable__content\"><pre>Index([&#x27;age&#x27;, &#x27;campaign&#x27;, &#x27;pdays&#x27;, &#x27;previous&#x27;, &#x27;emp.var.rate&#x27;,\n",
       "       &#x27;cons.price.idx&#x27;, &#x27;cons.conf.idx&#x27;, &#x27;euribor3m&#x27;, &#x27;nr.employed&#x27;],\n",
       "      dtype=&#x27;object&#x27;)</pre></div></div></div><div class=\"sk-serial\"><div class=\"sk-item\"><div class=\"sk-estimator sk-toggleable\"><input class=\"sk-toggleable__control sk-hidden--visually\" id=\"sk-estimator-id-35\" type=\"checkbox\" ><label for=\"sk-estimator-id-35\" class=\"sk-toggleable__label sk-toggleable__label-arrow\">RobustScaler</label><div class=\"sk-toggleable__content\"><pre>RobustScaler()</pre></div></div></div></div></div></div><div class=\"sk-parallel-item\"><div class=\"sk-item\"><div class=\"sk-label-container\"><div class=\"sk-label sk-toggleable\"><input class=\"sk-toggleable__control sk-hidden--visually\" id=\"sk-estimator-id-36\" type=\"checkbox\" ><label for=\"sk-estimator-id-36\" class=\"sk-toggleable__label sk-toggleable__label-arrow\">remainder</label><div class=\"sk-toggleable__content\"><pre>[]</pre></div></div></div><div class=\"sk-serial\"><div class=\"sk-item\"><div class=\"sk-estimator sk-toggleable\"><input class=\"sk-toggleable__control sk-hidden--visually\" id=\"sk-estimator-id-37\" type=\"checkbox\" ><label for=\"sk-estimator-id-37\" class=\"sk-toggleable__label sk-toggleable__label-arrow\">passthrough</label><div class=\"sk-toggleable__content\"><pre>passthrough</pre></div></div></div></div></div></div></div></div><div class=\"sk-item\"><div class=\"sk-estimator sk-toggleable\"><input class=\"sk-toggleable__control sk-hidden--visually\" id=\"sk-estimator-id-38\" type=\"checkbox\" ><label for=\"sk-estimator-id-38\" class=\"sk-toggleable__label sk-toggleable__label-arrow\">RandomOverSampler</label><div class=\"sk-toggleable__content\"><pre>RandomOverSampler(random_state=0)</pre></div></div></div><div class=\"sk-item\"><div class=\"sk-estimator sk-toggleable\"><input class=\"sk-toggleable__control sk-hidden--visually\" id=\"sk-estimator-id-39\" type=\"checkbox\" ><label for=\"sk-estimator-id-39\" class=\"sk-toggleable__label sk-toggleable__label-arrow\">CatBoostClassifier</label><div class=\"sk-toggleable__content\"><pre>&lt;catboost.core.CatBoostClassifier object at 0x0000020CCA1C2E80&gt;</pre></div></div></div></div></div></div></div></div></div></div></div></div>"
      ],
      "text/plain": [
       "GridSearchCV(cv=StratifiedKFold(n_splits=10, random_state=0, shuffle=True),\n",
       "             estimator=Pipeline(steps=[('preprocess',\n",
       "                                        ColumnTransformer(remainder='passthrough',\n",
       "                                                          transformers=[('onehot',\n",
       "                                                                         OneHotEncoder(drop='first'),\n",
       "                                                                         ['housing',\n",
       "                                                                          'loan',\n",
       "                                                                          'contact',\n",
       "                                                                          'poutcome',\n",
       "                                                                          'job',\n",
       "                                                                          'marital']),\n",
       "                                                                        ('ordinal',\n",
       "                                                                         OrdinalEncoder(mapping=[{'col': 'education',\n",
       "                                                                                                  'data_type': dtype('O'),\n",
       "                                                                                                  'mapping'...\n",
       "       'cons.price.idx', 'cons.conf.idx', 'euribor3m', 'nr.employed'],\n",
       "      dtype='object'))])),\n",
       "                                       ('resampler',\n",
       "                                        RandomOverSampler(random_state=0)),\n",
       "                                       ('model_catboost',\n",
       "                                        <catboost.core.CatBoostClassifier object at 0x0000020CCA1C2E80>)]),\n",
       "             param_grid={'model_catboost__depth': [5, 10],\n",
       "                         'model_catboost__iterations': [100, 200],\n",
       "                         'model_catboost__l2_leaf_reg': [10, 100],\n",
       "                         'model_catboost__learning_rate': [0.01, 0.1]},\n",
       "             scoring='roc_auc', verbose=False)"
      ]
     },
     "execution_count": 32,
     "metadata": {},
     "output_type": "execute_result"
    }
   ],
   "source": [
    "# Cat Boost Hyperparameter Tuning\n",
    "\n",
    "pipe_catboost = Pipeline([\n",
    "    ('preprocess', preprocessor),\n",
    "    ('resampler', ros),\n",
    "    ('model_catboost', catboost)       \n",
    "])\n",
    "skfold=StratifiedKFold(n_splits=10, random_state=0, shuffle=True) #RepeatedStratifiedKFold\n",
    "\n",
    "# Hyperparameter space Gradient Boosting\n",
    "hyperparam_catboost = {\n",
    "    'model_catboost__learning_rate': [0.01, 0.1],\n",
    "    'model_catboost__iterations': [100, 200],\n",
    "    'model_catboost__depth': [5, 10],\n",
    "    'model_catboost__l2_leaf_reg': [10, 100]\n",
    "}\n",
    "\n",
    "# Hyperparameter tuning\n",
    "catboost_grid = GridSearchCV(estimator = pipe_catboost,\n",
    "    param_grid = hyperparam_catboost,\n",
    "    cv = skfold,\n",
    "    scoring = 'roc_auc',\n",
    "    verbose = False\n",
    ")\n",
    "\n",
    "# fitting\n",
    "catboost_grid.fit(X_train, y_train)"
   ]
  },
  {
   "cell_type": "code",
   "execution_count": 33,
   "metadata": {},
   "outputs": [
    {
     "name": "stdout",
     "output_type": "stream",
     "text": [
      "Cat Boost Hyperparameter\n",
      "0.7995385520649698\n",
      "{'model_catboost__depth': 5, 'model_catboost__iterations': 100, 'model_catboost__l2_leaf_reg': 100, 'model_catboost__learning_rate': 0.1}\n"
     ]
    }
   ],
   "source": [
    "# Cat Boost best_score, best_params\n",
    "\n",
    "print('Cat Boost Hyperparameter')\n",
    "print(catboost_grid.best_score_)\n",
    "print(catboost_grid.best_params_)"
   ]
  },
  {
   "cell_type": "markdown",
   "metadata": {},
   "source": [
    "Hasil dari `Hyperparameter Tuning` pada `train_set` menggunakan `Grid Search` pada model `Cat Boosting` menunjukkan ROC_AUC score terbaik sebesar `0.7995`. Dengan **model_catboost__depth: 5**, **model_catboost__iterations: 100**, **model_catboost__l2_leaf_reg: 100**, **model_catboost__learning_rate: 0.1**"
   ]
  },
  {
   "cell_type": "markdown",
   "metadata": {},
   "source": [
    "### **2.3 Summary Hyperparameter Tuning**"
   ]
  },
  {
   "cell_type": "code",
   "execution_count": 34,
   "metadata": {},
   "outputs": [],
   "source": [
    "# Hyperparameter tunning best_estimator\n",
    "\n",
    "hyperparameter_tuning = [gradboost_grid.best_estimator_, adaboost_grid.best_estimator_, catboost_grid.best_estimator_]"
   ]
  },
  {
   "cell_type": "code",
   "execution_count": 40,
   "metadata": {},
   "outputs": [],
   "source": [
    "# List score model sesudah di tuned (val set)\n",
    "\n",
    "list_score_aftertuned = []\n",
    "\n",
    "for i in hyperparameter_tuning :\n",
    "\n",
    "    # predict\n",
    "    y_pred = i.predict(X_val)\n",
    "\n",
    "    # evaluate\n",
    "    score = roc_auc_score(y_val, y_pred)\n",
    "    list_score_aftertuned.append(score)"
   ]
  },
  {
   "cell_type": "code",
   "execution_count": 41,
   "metadata": {},
   "outputs": [],
   "source": [
    "# List score model sebelum di tuned (val set)\n",
    "\n",
    "list_score_beforetuned = [df_ros_predict['ROC_AUC (val_set)'][5],df_ros_predict['ROC_AUC (val_set)'][6],df_ros_predict['ROC_AUC (val_set)'][4]]"
   ]
  },
  {
   "cell_type": "code",
   "execution_count": 42,
   "metadata": {},
   "outputs": [
    {
     "data": {
      "text/html": [
       "<div>\n",
       "<style scoped>\n",
       "    .dataframe tbody tr th:only-of-type {\n",
       "        vertical-align: middle;\n",
       "    }\n",
       "\n",
       "    .dataframe tbody tr th {\n",
       "        vertical-align: top;\n",
       "    }\n",
       "\n",
       "    .dataframe thead th {\n",
       "        text-align: right;\n",
       "    }\n",
       "</style>\n",
       "<table border=\"1\" class=\"dataframe\">\n",
       "  <thead>\n",
       "    <tr style=\"text-align: right;\">\n",
       "      <th></th>\n",
       "      <th>model tuned</th>\n",
       "      <th>ROC_AUC (before tuning)</th>\n",
       "      <th>ROC_AUC (after tunning)</th>\n",
       "    </tr>\n",
       "  </thead>\n",
       "  <tbody>\n",
       "    <tr>\n",
       "      <th>0</th>\n",
       "      <td>Gradient Boosting</td>\n",
       "      <td>0.756461</td>\n",
       "      <td>0.753503</td>\n",
       "    </tr>\n",
       "    <tr>\n",
       "      <th>2</th>\n",
       "      <td>Cat Boosting</td>\n",
       "      <td>0.738627</td>\n",
       "      <td>0.752988</td>\n",
       "    </tr>\n",
       "    <tr>\n",
       "      <th>1</th>\n",
       "      <td>Ada Boosting</td>\n",
       "      <td>0.743410</td>\n",
       "      <td>0.738494</td>\n",
       "    </tr>\n",
       "  </tbody>\n",
       "</table>\n",
       "</div>"
      ],
      "text/plain": [
       "         model tuned  ROC_AUC (before tuning)  ROC_AUC (after tunning)\n",
       "0  Gradient Boosting                 0.756461                 0.753503\n",
       "2       Cat Boosting                 0.738627                 0.752988\n",
       "1       Ada Boosting                 0.743410                 0.738494"
      ]
     },
     "execution_count": 42,
     "metadata": {},
     "output_type": "execute_result"
    }
   ],
   "source": [
    "# Perbandingan performa antar model sebelum dan sesudah tunning pada validation set\n",
    "\n",
    "df_score_beforeaftertuned = pd.DataFrame({\n",
    "    'model tuned':['Gradient Boosting', 'Ada Boosting', 'Cat Boosting'],\n",
    "    'ROC_AUC (before tuning)' : list_score_beforetuned,\n",
    "    'ROC_AUC (after tunning)': list_score_aftertuned,\n",
    "}).sort_values('ROC_AUC (after tunning)', ascending=False)\n",
    "df_score_beforeaftertuned"
   ]
  },
  {
   "cell_type": "markdown",
   "metadata": {},
   "source": [
    "Setelah melakukan Tuning dan kita terapkan ke data validasi, didapatkan model `Gradient Boosting` sebagai **best model** untuk dataset ini. Kemudian pada data diatas setelah melakukan *hyperparameter tuning*, dapat dilihat selisih test `Gradient Boosting` before tunning dan tuned tidak berbeda jauh **ROC_AUC before tunning (0.7564)**, dan **ROC_AUC after tunning (0.7535)**. Maka kita akan memilih best model `Gradient Boosting` sebagai **model Machine Learning** dan memakai model `Gradient Boosting` sebelum di dilakukan tunning (**before tunning**) pada project ini."
   ]
  },
  {
   "cell_type": "markdown",
   "metadata": {},
   "source": [
    "### **2.4 Cara Kerja Model `Gradient Boosting`**"
   ]
  },
  {
   "cell_type": "markdown",
   "metadata": {},
   "source": [
    "Algoritma Boosting adalah salah satu algoritma yang paling populer dan sering digunakan. Algoritma ini dapat dianggap sebagai salah satu teknik paling kuat untuk membangun model prediksi. Ide dasar dari Boosting, seperti halnya algoritma ensemble lainnya, adalah menggabungkan beberapa model pembelajar lemah menjadi satu yang lebih kuat. Model Boosting mencoba memprediksi secara berurutan, dan model berikutnya berusaha memperbaiki kesalahan dari pendahulunya. algoritma `Gradient Boosting` merupakan salah satu metode Ensemble, yaitu teknik yang membuat beberapa model dan kemudian menggabungkannya untuk menghasilkan hasil yang lebih baik. Metode Ensemble biasanya menghasilkan solusi yang lebih akurat daripada apa yang bisa dilakukan oleh satu model tunggal. Pada model `Gradient Boosting` ini mengandalkan intuisi bahwa model selanjutnya yang terbaik, ketika digabungkan dengan model sebelumnya, meminimalkan kesalahan prediksi keseluruhan. Ide kunci adalah menetapkan hasil target untuk model selanjutnya ini untuk meminimalkan kesalahan.\n",
    "\n",
    "Pada dasarnya, `Gradient Boosting` melibatkan tiga komponen berikut ini:\n",
    "1. Sebuah fungsi loss (kerugian) yang perlu dioptimalkan.\n",
    "2. Gabungan week learner (pembelajar lemah) untuk membuat prediksi.\n",
    "3. Sebuah model aditif untuk secara iteratif menambahkan pembelajar lemah guna meminimalkan loss function.\n",
    "\n",
    "`Gradient Boosting` adalah algoritma yang sebetulnya cenderung overfitting pada data latihan. `Gradient Boosting` dapat menjadi lebih baik dengan menggunakan metode regularisasi yang memberikan evaluasi pada beberapa bagian dari algoritma, dan umumnya dapat meningkatkan kinerjanya. `Gradient Boosting` dimulai dengan membuat satu daun (leaf) daripada pohon. Daun ini mewakili perkiraan awal untuk bobot dari semua sampel. Ketika mencoba untuk memprediksi nilai kontinu, perkiraan pertama adalah nilai rata-rata, dan kemudian `Gradient Boosting` membangun sebuah pohon.Untuk memasang model Gradient Boost pada data, kita perlu mempertimbangkan beberapa parameter. Parameter-parameter ini meliputi kedalaman maksimum dari pohon, jumlah estimator, nilai learning rate, minimum sampel untuk split, minimum sampel untuk leaf, dan sebagainya.\n",
    "\n",
    "Kelebihan dari Gradient Boosting adalah sebagai berikut:\n",
    "\n",
    "1. Mengurangi bias.\n",
    "2. Mengatasi nilai-nilai yang hilang dalam kumpulan data.\n",
    "3. Fleksibel untuk menangani penyetelan hiperparameter.\n",
    "4. Mengatasi kesalahan sebagai bagian dari fungsi kerugian melalui gradien turun.\n",
    "5. Boosting klasifikasi dapat menangani masalah biner maupun multi-kelas."
   ]
  },
  {
   "attachments": {
    "image.png": {
     "image/png": "[encoded data removed]"
    }
   },
   "cell_type": "markdown",
   "metadata": {},
   "source": [
    "**Gradient Boosting pada Machine Learning**\n",
    "\n",
    "\n",
    "![image.png](attachment:image.png)\n",
    "\n",
    "\n",
    "*Sumber*: https://pub.towardsai.net/fully-explained-gradient-boosting-technique-in-supervised-learning-d3e293ca70e1"
   ]
  },
  {
   "cell_type": "markdown",
   "metadata": {},
   "source": [
    "### **2.5 Interpretasi Model**"
   ]
  },
  {
   "cell_type": "markdown",
   "metadata": {},
   "source": [
    "#### **2.5.1 Features Importances**"
   ]
  },
  {
   "cell_type": "code",
   "execution_count": 45,
   "metadata": {},
   "outputs": [],
   "source": [
    "# Set best_model best_estimator\n",
    "\n",
    "best_model = gradboost_grid.best_estimator_"
   ]
  },
  {
   "cell_type": "code",
   "execution_count": 46,
   "metadata": {},
   "outputs": [
    {
     "data": {
      "image/png": "[encoded data removed]",
      "text/plain": [
       "<Figure size 640x480 with 1 Axes>"
      ]
     },
     "metadata": {},
     "output_type": "display_data"
    }
   ],
   "source": [
    "# Mencari feature importance pada best_model\n",
    "\n",
    "coef1 = pd.Series(best_model[\"model\"].feature_importances_, preprocessor.get_feature_names_out()).sort_values(ascending = False)\n",
    "ax = coef1.plot(kind='barh', title='Feature Importances', colormap=\"summer\")\n",
    "\n",
    "for i, v in enumerate(coef1):\n",
    "    ax.text(v, i, f'{v:.2f}', ha='left', va='center', size=7)\n",
    "\n",
    "plt.show()"
   ]
  },
  {
   "cell_type": "markdown",
   "metadata": {},
   "source": [
    "__Insight:__\n",
    "\n",
    "Dari grafik diatas dapat dilihat faktor yang mempengaruhi potensi nasabah menggunakan produk Term Deposit dari model machine learning yang kita buat. Fitur yang paling penting adalah ***\"nr.employed\"*** (*indikator tenaga kerja*), ***\"euribor3m\"*** (*tingkat suku bunga 3 bulan terakhir*), dan ***\"cons.conf.idx\"*** (*tingkat konsumsi masyarakat*). "
   ]
  },
  {
   "cell_type": "markdown",
   "metadata": {},
   "source": [
    "#### **2.5.2 SHAP**"
   ]
  },
  {
   "cell_type": "code",
   "execution_count": 47,
   "metadata": {},
   "outputs": [],
   "source": [
    "# Mendapatkan semua fitur modeling\n",
    "\n",
    "feature_names = preprocessor.get_feature_names_out()"
   ]
  },
  {
   "cell_type": "code",
   "execution_count": 48,
   "metadata": {},
   "outputs": [],
   "source": [
    "# Melakukan fit_transform dan fit_resample dari best_model\n",
    "\n",
    "X_train_1 = best_model[0].fit_transform(X_train)\n",
    "X_train_2, y_train_2 = best_model[1].fit_resample(X_train_1,y_train)"
   ]
  },
  {
   "cell_type": "code",
   "execution_count": 49,
   "metadata": {},
   "outputs": [
    {
     "name": "stderr",
     "output_type": "stream",
     "text": [
      " 99%|===================| 45051/45300 [01:05<00:00]        "
     ]
    },
    {
     "data": {
      "image/png": "[encoded data removed]",
      "text/plain": [
       "<Figure size 800x950 with 2 Axes>"
      ]
     },
     "metadata": {},
     "output_type": "display_data"
    }
   ],
   "source": [
    "# SHAP Analysis\n",
    "\n",
    "import shap\n",
    "\n",
    "shap_values = shap.TreeExplainer(best_model[-1],\n",
    "                                 data = X_train_2,\n",
    "                                 feature_dependence=\"independent\",\n",
    "                                 model_output=\"probability\").shap_values(X_train_2)\n",
    "                                 \n",
    "shap.summary_plot(shap_values, X_train_2,feature_names = feature_names)"
   ]
  },
  {
   "cell_type": "markdown",
   "metadata": {},
   "source": [
    "__Insight:__\n",
    "- Semakin kecil nilai `indeks tenaga kerja` negara portugal, maka nasabah cendrung melakukan term deposit\n",
    "- Untuk `indikator euribor` cenderung variatif, dimana untuk semua nilai cenderung melakukan term deposit\n",
    "- Semakin kecil `Employment Variant Rate`, maka nasabah cendrung melakukan term deposit\n",
    "- Semakin kecil nilai `indikator kinerja perekonomian` negara portugal, maka nasabah cendrung melakukan term deposit\n",
    "- Semakin kecil `rentang hari saat nasabah terakhir kali dihubungi`, maka nasabah cendrung melakukan term deposit\n",
    "- Apabila nasabah tidak dihubungi lewat `telefon selular`, maka nasabah cendrung melakukan term deposit\n",
    "- Untuk `bulan dihubungi` cenderung variatif, dimana untuk semua bulan cenderung melakukan term deposit\n",
    "- Untuk `umur` cendrung variatif, dimana ada range umur tertentu yang cendrung melakukan term deposit\n",
    "- Jika nasabah `menerima produk pada kampanye sebelumnya`, maka nasabah cendrung melakukan term deposit"
   ]
  },
  {
   "cell_type": "markdown",
   "metadata": {},
   "source": [
    "### **2.6 Limitasi Model**"
   ]
  },
  {
   "cell_type": "code",
   "execution_count": 62,
   "metadata": {},
   "outputs": [
    {
     "data": {
      "text/html": [
       "<div>\n",
       "<style scoped>\n",
       "    .dataframe tbody tr th:only-of-type {\n",
       "        vertical-align: middle;\n",
       "    }\n",
       "\n",
       "    .dataframe tbody tr th {\n",
       "        vertical-align: top;\n",
       "    }\n",
       "\n",
       "    .dataframe thead th {\n",
       "        text-align: right;\n",
       "    }\n",
       "</style>\n",
       "<table border=\"1\" class=\"dataframe\">\n",
       "  <thead>\n",
       "    <tr style=\"text-align: right;\">\n",
       "      <th></th>\n",
       "      <th>feature</th>\n",
       "      <th>unique_value</th>\n",
       "    </tr>\n",
       "  </thead>\n",
       "  <tbody>\n",
       "    <tr>\n",
       "      <th>0</th>\n",
       "      <td>age</td>\n",
       "      <td>[56.0, 57.0, 37.0, 40.0, 45.0, 59.0, 41.0, 24.0, 25.0, 29.0, 35.0, 54.0, 46.0, 50.0, 39.0, 30.0, 55.0, 49.0, 34.0, 52.0, 32.0, 38.0, 44.0, 42.0, 60.0, 53.0, 47.0, 51.0, 48.0, 33.0, 31.0, 43.0, 58.0, 36.0, 28.0, 27.0, 26.0, 22.0, 23.0, 20.0, 21.0, 19.0, 18.0, 70.0, 61.0, 66.0, 76.0, 73.0, 88.0, 95.0, 77.0, 68.0, 75.0, 63.0, 80.0, 62.0, 65.0, 72.0, 82.0, 64.0, 67.0, 71.0, 69.0, 78.0, 85.0, 79.0, 83.0, 81.0, 74.0, 17.0, 87.0, 91.0, 98.0, 94.0, 86.0, 84.0, 92.0, 89.0]</td>\n",
       "    </tr>\n",
       "    <tr>\n",
       "      <th>1</th>\n",
       "      <td>job</td>\n",
       "      <td>[Employee, Other, Unemployed, Entrepreneur]</td>\n",
       "    </tr>\n",
       "    <tr>\n",
       "      <th>2</th>\n",
       "      <td>marital</td>\n",
       "      <td>[married, single, divorced]</td>\n",
       "    </tr>\n",
       "    <tr>\n",
       "      <th>3</th>\n",
       "      <td>education</td>\n",
       "      <td>[Primary Education, Secondary Education, Other, Higher Education]</td>\n",
       "    </tr>\n",
       "    <tr>\n",
       "      <th>4</th>\n",
       "      <td>housing</td>\n",
       "      <td>[no, yes]</td>\n",
       "    </tr>\n",
       "    <tr>\n",
       "      <th>5</th>\n",
       "      <td>loan</td>\n",
       "      <td>[no, yes]</td>\n",
       "    </tr>\n",
       "    <tr>\n",
       "      <th>6</th>\n",
       "      <td>contact</td>\n",
       "      <td>[telephone, cellular]</td>\n",
       "    </tr>\n",
       "    <tr>\n",
       "      <th>7</th>\n",
       "      <td>month</td>\n",
       "      <td>[may, jun, jul, aug, oct, nov, dec, mar, apr, sep]</td>\n",
       "    </tr>\n",
       "    <tr>\n",
       "      <th>8</th>\n",
       "      <td>day_of_week</td>\n",
       "      <td>[mon, tue, wed, thu, fri]</td>\n",
       "    </tr>\n",
       "    <tr>\n",
       "      <th>9</th>\n",
       "      <td>campaign</td>\n",
       "      <td>[1.0, 2.0, 3.0, 4.0, 5.0, 6.0, 7.0, 8.0, 9.0, 10.0, 11.0, 12.0, 13.0, 18.0, 14.0, 16.0, 17.0, 15.0, 19.0]</td>\n",
       "    </tr>\n",
       "    <tr>\n",
       "      <th>10</th>\n",
       "      <td>pdays</td>\n",
       "      <td>[999.0, 6.0, 4.0, 3.0, 5.0, 1.0, 0.0, 10.0, 7.0, 9.0, 11.0, 2.0, 8.0, 12.0, 13.0, 14.0, 15.0, 16.0, 21.0, 17.0, 18.0, 22.0, 25.0, 26.0, 19.0, 27.0, 20.0]</td>\n",
       "    </tr>\n",
       "    <tr>\n",
       "      <th>11</th>\n",
       "      <td>previous</td>\n",
       "      <td>[0.0, 1.0, 2.0, 3.0, 4.0, 5.0, 6.0, 7.0]</td>\n",
       "    </tr>\n",
       "    <tr>\n",
       "      <th>12</th>\n",
       "      <td>poutcome</td>\n",
       "      <td>[nonexistent, failure, success]</td>\n",
       "    </tr>\n",
       "    <tr>\n",
       "      <th>13</th>\n",
       "      <td>emp.var.rate</td>\n",
       "      <td>[1.1, 1.4, -0.1, -0.2, -1.8, -2.9, -3.4, -3.0, -1.7, -1.1]</td>\n",
       "    </tr>\n",
       "    <tr>\n",
       "      <th>14</th>\n",
       "      <td>cons.price.idx</td>\n",
       "      <td>[93.994, 94.465, 93.918, 93.444, 93.798, 93.2, 92.756, 92.843, 93.075, 92.893, 92.963, 92.469, 92.201, 92.379, 92.431, 92.649, 92.713, 93.369, 93.749, 93.876, 94.055, 94.215, 94.027, 94.199, 94.601, 94.767]</td>\n",
       "    </tr>\n",
       "    <tr>\n",
       "      <th>15</th>\n",
       "      <td>cons.conf.idx</td>\n",
       "      <td>[-36.4, -41.8, -42.7, -36.1, -40.4, -42.0, -45.9, -50.0, -47.1, -46.2, -40.8, -33.6, -31.4, -29.8, -26.9, -30.1, -33.0, -34.8, -34.6, -40.0, -39.8, -40.3, -38.3, -37.5, -49.5, -50.8]</td>\n",
       "    </tr>\n",
       "    <tr>\n",
       "      <th>16</th>\n",
       "      <td>euribor3m</td>\n",
       "      <td>[4.857, 4.856, 4.855, 4.859, 4.86, 4.858, 4.864, 4.865, 4.866, 4.967, 4.961, 4.959, 4.958, 4.96, 4.962, 4.955, 4.947, 4.956, 4.966, 4.963, 4.957, 4.968, 4.97, 4.965, 4.964, 5.045, 5.0, 4.936, 4.921, 4.918, 4.912, 4.827, 4.794, 4.76, 4.733, 4.7, 4.663, 4.592, 4.474, 4.406, 4.343, 4.286, 4.245, 4.223, 4.191, 4.153, 4.12, 4.076, 4.021, 3.901, 3.879, 3.853, 3.816, 3.743, 3.669, 3.563, 3.488, 3.428, 3.329, 3.282, 3.053, 1.811, 1.799, 1.778, 1.757, 1.726, 1.703, 1.687, 1.663, 1.65, 1.64, 1.629, 1.614, 1.602, 1.584, 1.574, 1.56, 1.556, 1.548, 1.538, 1.531, 1.52, 1.51, 1.498, 1.483, 1.479, 1.466, 1.453, 1.445, 1.435, 1.423, 1.415, 1.41, 1.405, 1.406, 1.4, 1.392, 1.384, 1.372, 1.365, ...]</td>\n",
       "    </tr>\n",
       "    <tr>\n",
       "      <th>17</th>\n",
       "      <td>nr.employed</td>\n",
       "      <td>[5191.0, 5228.1, 5195.8, 5176.3, 5099.1, 5076.2, 5017.5, 5023.5, 5008.7, 4991.6, 4963.6]</td>\n",
       "    </tr>\n",
       "    <tr>\n",
       "      <th>18</th>\n",
       "      <td>Deposit</td>\n",
       "      <td>[0, 1]</td>\n",
       "    </tr>\n",
       "  </tbody>\n",
       "</table>\n",
       "</div>"
      ],
      "text/plain": [
       "           feature  \\\n",
       "0              age   \n",
       "1              job   \n",
       "2          marital   \n",
       "3        education   \n",
       "4          housing   \n",
       "5             loan   \n",
       "6          contact   \n",
       "7            month   \n",
       "8      day_of_week   \n",
       "9         campaign   \n",
       "10           pdays   \n",
       "11        previous   \n",
       "12        poutcome   \n",
       "13    emp.var.rate   \n",
       "14  cons.price.idx   \n",
       "15   cons.conf.idx   \n",
       "16       euribor3m   \n",
       "17     nr.employed   \n",
       "18         Deposit   \n",
       "\n",
       "                                                                                                                                                                                                                                                                                                                                                                                                                                                                                                                                                                                                                                                                                                        unique_value  \n",
       "0                                                                                                                                                                                                                               [56.0, 57.0, 37.0, 40.0, 45.0, 59.0, 41.0, 24.0, 25.0, 29.0, 35.0, 54.0, 46.0, 50.0, 39.0, 30.0, 55.0, 49.0, 34.0, 52.0, 32.0, 38.0, 44.0, 42.0, 60.0, 53.0, 47.0, 51.0, 48.0, 33.0, 31.0, 43.0, 58.0, 36.0, 28.0, 27.0, 26.0, 22.0, 23.0, 20.0, 21.0, 19.0, 18.0, 70.0, 61.0, 66.0, 76.0, 73.0, 88.0, 95.0, 77.0, 68.0, 75.0, 63.0, 80.0, 62.0, 65.0, 72.0, 82.0, 64.0, 67.0, 71.0, 69.0, 78.0, 85.0, 79.0, 83.0, 81.0, 74.0, 17.0, 87.0, 91.0, 98.0, 94.0, 86.0, 84.0, 92.0, 89.0]  \n",
       "1                                                                                                                                                                                                                                                                                                                                                                                                                                                                                                                                                                                                                                                                        [Employee, Other, Unemployed, Entrepreneur]  \n",
       "2                                                                                                                                                                                                                                                                                                                                                                                                                                                                                                                                                                                                                                                                                        [married, single, divorced]  \n",
       "3                                                                                                                                                                                                                                                                                                                                                                                                                                                                                                                                                                                                                                                  [Primary Education, Secondary Education, Other, Higher Education]  \n",
       "4                                                                                                                                                                                                                                                                                                                                                                                                                                                                                                                                                                                                                                                                                                          [no, yes]  \n",
       "5                                                                                                                                                                                                                                                                                                                                                                                                                                                                                                                                                                                                                                                                                                          [no, yes]  \n",
       "6                                                                                                                                                                                                                                                                                                                                                                                                                                                                                                                                                                                                                                                                                              [telephone, cellular]  \n",
       "7                                                                                                                                                                                                                                                                                                                                                                                                                                                                                                                                                                                                                                                                 [may, jun, jul, aug, oct, nov, dec, mar, apr, sep]  \n",
       "8                                                                                                                                                                                                                                                                                                                                                                                                                                                                                                                                                                                                                                                                                          [mon, tue, wed, thu, fri]  \n",
       "9                                                                                                                                                                                                                                                                                                                                                                                                                                                                                                                                                                                                          [1.0, 2.0, 3.0, 4.0, 5.0, 6.0, 7.0, 8.0, 9.0, 10.0, 11.0, 12.0, 13.0, 18.0, 14.0, 16.0, 17.0, 15.0, 19.0]  \n",
       "10                                                                                                                                                                                                                                                                                                                                                                                                                                                                                                                                                         [999.0, 6.0, 4.0, 3.0, 5.0, 1.0, 0.0, 10.0, 7.0, 9.0, 11.0, 2.0, 8.0, 12.0, 13.0, 14.0, 15.0, 16.0, 21.0, 17.0, 18.0, 22.0, 25.0, 26.0, 19.0, 27.0, 20.0]  \n",
       "11                                                                                                                                                                                                                                                                                                                                                                                                                                                                                                                                                                                                                                                                          [0.0, 1.0, 2.0, 3.0, 4.0, 5.0, 6.0, 7.0]  \n",
       "12                                                                                                                                                                                                                                                                                                                                                                                                                                                                                                                                                                                                                                                                                   [nonexistent, failure, success]  \n",
       "13                                                                                                                                                                                                                                                                                                                                                                                                                                                                                                                                                                                                                                                        [1.1, 1.4, -0.1, -0.2, -1.8, -2.9, -3.4, -3.0, -1.7, -1.1]  \n",
       "14                                                                                                                                                                                                                                                                                                                                                                                                                                                                                                    [93.994, 94.465, 93.918, 93.444, 93.798, 93.2, 92.756, 92.843, 93.075, 92.893, 92.963, 92.469, 92.201, 92.379, 92.431, 92.649, 92.713, 93.369, 93.749, 93.876, 94.055, 94.215, 94.027, 94.199, 94.601, 94.767]  \n",
       "15                                                                                                                                                                                                                                                                                                                                                                                                                                                                                                                            [-36.4, -41.8, -42.7, -36.1, -40.4, -42.0, -45.9, -50.0, -47.1, -46.2, -40.8, -33.6, -31.4, -29.8, -26.9, -30.1, -33.0, -34.8, -34.6, -40.0, -39.8, -40.3, -38.3, -37.5, -49.5, -50.8]  \n",
       "16  [4.857, 4.856, 4.855, 4.859, 4.86, 4.858, 4.864, 4.865, 4.866, 4.967, 4.961, 4.959, 4.958, 4.96, 4.962, 4.955, 4.947, 4.956, 4.966, 4.963, 4.957, 4.968, 4.97, 4.965, 4.964, 5.045, 5.0, 4.936, 4.921, 4.918, 4.912, 4.827, 4.794, 4.76, 4.733, 4.7, 4.663, 4.592, 4.474, 4.406, 4.343, 4.286, 4.245, 4.223, 4.191, 4.153, 4.12, 4.076, 4.021, 3.901, 3.879, 3.853, 3.816, 3.743, 3.669, 3.563, 3.488, 3.428, 3.329, 3.282, 3.053, 1.811, 1.799, 1.778, 1.757, 1.726, 1.703, 1.687, 1.663, 1.65, 1.64, 1.629, 1.614, 1.602, 1.584, 1.574, 1.56, 1.556, 1.548, 1.538, 1.531, 1.52, 1.51, 1.498, 1.483, 1.479, 1.466, 1.453, 1.445, 1.435, 1.423, 1.415, 1.41, 1.405, 1.406, 1.4, 1.392, 1.384, 1.372, 1.365, ...]  \n",
       "17                                                                                                                                                                                                                                                                                                                                                                                                                                                                                                                                                                                                                          [5191.0, 5228.1, 5195.8, 5176.3, 5099.1, 5076.2, 5017.5, 5023.5, 5008.7, 4991.6, 4963.6]  \n",
       "18                                                                                                                                                                                                                                                                                                                                                                                                                                                                                                                                                                                                                                                                                                            [0, 1]  "
      ]
     },
     "execution_count": 62,
     "metadata": {},
     "output_type": "execute_result"
    }
   ],
   "source": [
    "# Check karakteristik dataset\n",
    "\n",
    "InitialAss = pd.DataFrame(\n",
    "        {\n",
    "        'feature': df.columns.values,\n",
    "        'unique_value': [df[col].unique() for col in df.columns]\n",
    "        }\n",
    "    )\n",
    "pd.set_option('max_colwidth', None)\n",
    "InitialAss"
   ]
  },
  {
   "cell_type": "markdown",
   "metadata": {},
   "source": [
    "#### - Limitasi pada fitur `age`"
   ]
  },
  {
   "cell_type": "code",
   "execution_count": 63,
   "metadata": {},
   "outputs": [
    {
     "data": {
      "text/plain": [
       "count    39910.000000\n",
       "mean        40.020947\n",
       "std         10.425081\n",
       "min         17.000000\n",
       "25%         32.000000\n",
       "50%         38.000000\n",
       "75%         47.000000\n",
       "max         98.000000\n",
       "Name: age, dtype: float64"
      ]
     },
     "execution_count": 63,
     "metadata": {},
     "output_type": "execute_result"
    }
   ],
   "source": [
    "df.age.describe()"
   ]
  },
  {
   "cell_type": "markdown",
   "metadata": {},
   "source": [
    "__Insight:__\n",
    "\n",
    "Model hanya dapat memprediksi nasabah-nasabah dengan minimal umur 17 tahun dan maksimal umur 98 tahun"
   ]
  },
  {
   "cell_type": "markdown",
   "metadata": {},
   "source": [
    "#### - Limitasi pada fitur `job`"
   ]
  },
  {
   "cell_type": "code",
   "execution_count": 64,
   "metadata": {},
   "outputs": [
    {
     "data": {
      "text/plain": [
       "array(['Employee', 'Other', 'Unemployed', 'Entrepreneur'], dtype=object)"
      ]
     },
     "execution_count": 64,
     "metadata": {},
     "output_type": "execute_result"
    }
   ],
   "source": [
    "df.job.unique()"
   ]
  },
  {
   "cell_type": "markdown",
   "metadata": {},
   "source": [
    "__Insight:__\n",
    "\n",
    "Untuk fitur `job`, kita sudah mengelompokan pekerjaan calon nasabah kedalam beberapa jenis pekerjaan seperti berikut:\n",
    "* **Employee**: admin, blue-collar, housemaid, management, services, dan technician\n",
    "* **Unemployed**: unemployed\n",
    "* **Entrepreneur**: entrepreneur, self-employed\n",
    "* **Other**: retired, student"
   ]
  },
  {
   "cell_type": "markdown",
   "metadata": {},
   "source": [
    "#### - Limitasi pada fitur `education`"
   ]
  },
  {
   "cell_type": "code",
   "execution_count": 65,
   "metadata": {},
   "outputs": [
    {
     "data": {
      "text/plain": [
       "array(['Primary Education', 'Secondary Education', 'Other',\n",
       "       'Higher Education'], dtype=object)"
      ]
     },
     "execution_count": 65,
     "metadata": {},
     "output_type": "execute_result"
    }
   ],
   "source": [
    "df.education.unique()"
   ]
  },
  {
   "cell_type": "markdown",
   "metadata": {},
   "source": [
    "__Insight:__\n",
    "\n",
    "Untuk fitur `education`, kita sudah mengelompokan pendidikan terakhir calon nasabah kedalam beberapa kategori sebagai berikut:\n",
    "* **Primary Education**: basic.4y, basic.6y, basic.9y\n",
    "* **Secondary Education**: high.school, professional.course\n",
    "* **Higher Education**: university.degree\n",
    "* **Other**: illiterate"
   ]
  },
  {
   "cell_type": "markdown",
   "metadata": {},
   "source": [
    "#### - Limitasi pada fitur `housing` dan `loan`"
   ]
  },
  {
   "cell_type": "code",
   "execution_count": 66,
   "metadata": {},
   "outputs": [
    {
     "data": {
      "text/plain": [
       "array(['no', 'yes'], dtype=object)"
      ]
     },
     "execution_count": 66,
     "metadata": {},
     "output_type": "execute_result"
    }
   ],
   "source": [
    "df.housing.unique()"
   ]
  },
  {
   "cell_type": "code",
   "execution_count": 67,
   "metadata": {},
   "outputs": [
    {
     "data": {
      "text/plain": [
       "array(['no', 'yes'], dtype=object)"
      ]
     },
     "execution_count": 67,
     "metadata": {},
     "output_type": "execute_result"
    }
   ],
   "source": [
    "df.loan.unique()"
   ]
  },
  {
   "cell_type": "markdown",
   "metadata": {},
   "source": [
    "__Insight:__\n",
    "\n",
    "Pada model yang dibuat ini, status apakah nasabah memiliki cicilan rumah atau memiliki pinjaman adalah yes dan no. Sehingga untuk status nasabah yang lain (unknown) belum bisa maksimal untuk bekerja pada machine learning"
   ]
  },
  {
   "cell_type": "markdown",
   "metadata": {},
   "source": [
    "#### - Limitasi pada fitur `emp.var.rate`, `cons.price.idx`, `cons.conf.idx`, `euribor3m`, dan `nr.employed`"
   ]
  },
  {
   "cell_type": "code",
   "execution_count": 68,
   "metadata": {},
   "outputs": [
    {
     "data": {
      "text/html": [
       "<div>\n",
       "<style scoped>\n",
       "    .dataframe tbody tr th:only-of-type {\n",
       "        vertical-align: middle;\n",
       "    }\n",
       "\n",
       "    .dataframe tbody tr th {\n",
       "        vertical-align: top;\n",
       "    }\n",
       "\n",
       "    .dataframe thead th {\n",
       "        text-align: right;\n",
       "    }\n",
       "</style>\n",
       "<table border=\"1\" class=\"dataframe\">\n",
       "  <thead>\n",
       "    <tr style=\"text-align: right;\">\n",
       "      <th></th>\n",
       "      <th>emp.var.rate</th>\n",
       "      <th>cons.price.idx</th>\n",
       "      <th>cons.conf.idx</th>\n",
       "      <th>euribor3m</th>\n",
       "      <th>nr.employed</th>\n",
       "    </tr>\n",
       "  </thead>\n",
       "  <tbody>\n",
       "    <tr>\n",
       "      <th>count</th>\n",
       "      <td>39910.000000</td>\n",
       "      <td>39910.000000</td>\n",
       "      <td>39910.000000</td>\n",
       "      <td>39910.000000</td>\n",
       "      <td>39910.000000</td>\n",
       "    </tr>\n",
       "    <tr>\n",
       "      <th>mean</th>\n",
       "      <td>0.075843</td>\n",
       "      <td>93.572055</td>\n",
       "      <td>-40.503453</td>\n",
       "      <td>3.615029</td>\n",
       "      <td>5166.804558</td>\n",
       "    </tr>\n",
       "    <tr>\n",
       "      <th>std</th>\n",
       "      <td>1.571486</td>\n",
       "      <td>0.577965</td>\n",
       "      <td>4.636142</td>\n",
       "      <td>1.735830</td>\n",
       "      <td>72.295700</td>\n",
       "    </tr>\n",
       "    <tr>\n",
       "      <th>min</th>\n",
       "      <td>-3.400000</td>\n",
       "      <td>92.201000</td>\n",
       "      <td>-50.800000</td>\n",
       "      <td>0.634000</td>\n",
       "      <td>4963.600000</td>\n",
       "    </tr>\n",
       "    <tr>\n",
       "      <th>25%</th>\n",
       "      <td>-1.800000</td>\n",
       "      <td>93.075000</td>\n",
       "      <td>-42.700000</td>\n",
       "      <td>1.344000</td>\n",
       "      <td>5099.100000</td>\n",
       "    </tr>\n",
       "    <tr>\n",
       "      <th>50%</th>\n",
       "      <td>1.100000</td>\n",
       "      <td>93.444000</td>\n",
       "      <td>-41.800000</td>\n",
       "      <td>4.857000</td>\n",
       "      <td>5191.000000</td>\n",
       "    </tr>\n",
       "    <tr>\n",
       "      <th>75%</th>\n",
       "      <td>1.400000</td>\n",
       "      <td>93.994000</td>\n",
       "      <td>-36.400000</td>\n",
       "      <td>4.961000</td>\n",
       "      <td>5228.100000</td>\n",
       "    </tr>\n",
       "    <tr>\n",
       "      <th>max</th>\n",
       "      <td>1.400000</td>\n",
       "      <td>94.767000</td>\n",
       "      <td>-26.900000</td>\n",
       "      <td>5.045000</td>\n",
       "      <td>5228.100000</td>\n",
       "    </tr>\n",
       "  </tbody>\n",
       "</table>\n",
       "</div>"
      ],
      "text/plain": [
       "       emp.var.rate  cons.price.idx  cons.conf.idx     euribor3m   nr.employed\n",
       "count  39910.000000    39910.000000   39910.000000  39910.000000  39910.000000\n",
       "mean       0.075843       93.572055     -40.503453      3.615029   5166.804558\n",
       "std        1.571486        0.577965       4.636142      1.735830     72.295700\n",
       "min       -3.400000       92.201000     -50.800000      0.634000   4963.600000\n",
       "25%       -1.800000       93.075000     -42.700000      1.344000   5099.100000\n",
       "50%        1.100000       93.444000     -41.800000      4.857000   5191.000000\n",
       "75%        1.400000       93.994000     -36.400000      4.961000   5228.100000\n",
       "max        1.400000       94.767000     -26.900000      5.045000   5228.100000"
      ]
     },
     "execution_count": 68,
     "metadata": {},
     "output_type": "execute_result"
    }
   ],
   "source": [
    "df[['emp.var.rate', 'cons.price.idx', 'cons.conf.idx', 'euribor3m', 'nr.employed']].describe()"
   ]
  },
  {
   "cell_type": "markdown",
   "metadata": {},
   "source": [
    "__Insight:__\n",
    "\n",
    "Beberapa insight yang dapat dijadikan limitasi model untuk fitur-fitur indikator global sebagai berikut:\n",
    "* Employment Variation Rate berada di rentang -3.4 - 1.4\n",
    "* Consumer Price Index berada di rentang 92.201 - 94.767\n",
    "* Consumer Confidence Index berada di rentang -50.8 - -26.9\n",
    "* Euribor 3 Month Rate berada di rentang 0.634 - 5.045\n",
    "* Indikator tenaga kerja Global berada di rentang 4963.6 - 5228.1"
   ]
  },
  {
   "cell_type": "markdown",
   "metadata": {},
   "source": [
    "#### <font size=\"4.5\">Untuk rangkuman limitasi model akan disampaikan lebih lengkap pada bagian Conclusion</font>"
   ]
  },
  {
   "cell_type": "markdown",
   "metadata": {},
   "source": [
    "## **`3. Evaluasi Model`**"
   ]
  },
  {
   "cell_type": "markdown",
   "metadata": {},
   "source": [
    "Pertama kita akan bagi **`df_unseen`** menjadi **X_test** dan **y_test**"
   ]
  },
  {
   "cell_type": "code",
   "execution_count": 57,
   "metadata": {},
   "outputs": [],
   "source": [
    "# Melakukan data splitting terhadap df_unseen\n",
    "\n",
    "X_test = df_unseen.drop(columns='Deposit')\n",
    "y_test = df_unseen['Deposit']"
   ]
  },
  {
   "cell_type": "code",
   "execution_count": 58,
   "metadata": {},
   "outputs": [
    {
     "name": "stdout",
     "output_type": "stream",
     "text": [
      "ROC_AUC Score (X_test) Gradient Boosting :  0.7945301970208073\n"
     ]
    }
   ],
   "source": [
    "# Melihat ROC_AUC Score terhadap x_test\n",
    "\n",
    "y_pred_Xtest= pipe_gradboost.predict(X_test)\n",
    "y_pred_proba_Xtest = pipe_gradboost.predict_proba(X_test)\n",
    "\n",
    "roc_auc_Xtest = roc_auc_score(y_test, y_pred_proba_Xtest[:,1])"
   ]
  },
  {
   "cell_type": "code",
   "execution_count": 70,
   "metadata": {},
   "outputs": [
    {
     "name": "stdout",
     "output_type": "stream",
     "text": [
      "              precision    recall  f1-score   support\n",
      "\n",
      "           0       0.94      0.90      0.92      7078\n",
      "           1       0.42      0.59      0.49       904\n",
      "\n",
      "    accuracy                           0.86      7982\n",
      "   macro avg       0.68      0.74      0.70      7982\n",
      "weighted avg       0.88      0.86      0.87      7982\n",
      "\n",
      "TN: 6345 | FP: 733\n",
      "FN: 375  | TP: 529\n",
      "\n",
      "ROC_AUC Score (X_test) Gradient Boosting :  0.7945301970208073\n"
     ]
    }
   ],
   "source": [
    "# Evaluasi model\n",
    "\n",
    "report = classification_report(y_test, y_pred_Xtest)\n",
    "print(report)\n",
    "\n",
    "tn, fp, fn, tp = confusion_matrix(y_test, y_pred_Xtest).ravel()\n",
    "print(f\"TN: {tn} | FP: {fp}\\nFN: {fn}  | TP: {tp}\")\n",
    "\n",
    "print('\\nROC_AUC Score (X_test) Gradient Boosting : ', roc_auc_Xtest)"
   ]
  },
  {
   "cell_type": "markdown",
   "metadata": {},
   "source": [
    "## **`4. Conclusion and Recommendation`**"
   ]
  },
  {
   "cell_type": "markdown",
   "metadata": {},
   "source": [
    "### **4.1 Conclusion**"
   ]
  },
  {
   "cell_type": "markdown",
   "metadata": {},
   "source": [
    "#### **4.1.1 Analisis Keuangan**"
   ]
  },
  {
   "cell_type": "code",
   "execution_count": null,
   "metadata": {},
   "outputs": [],
   "source": [
    "# Melihat confusion matrix\n",
    "\n",
    "report = classification_report(y_test, y_pred_Xtest)\n",
    "print(report)\n",
    "\n",
    "tn, fp, fn, tp = confusion_matrix(y_test, y_pred_Xtest).ravel()\n",
    "print(f\"TN: {tn} | FP: {fp}\\nFN: {fn}  | TP: {tp}\")"
   ]
  },
  {
   "cell_type": "markdown",
   "metadata": {},
   "source": [
    "Beberapa hal yang dapat disimpulkan yaitu:\n",
    "\n",
    "Berdasarkan hasil diatas dapat disimpulkan bahwa dengan prediksi menggunakan model Gradient Boosting yang sudah dibuat, model dapat mengetahui 59% nasabah yang ***menggunakan Term Deposit*** dan 90% nasabah yang ***tidak menggunakan Term Deposit*** berdasarkan ***Recall***. Selain itu model memiliki kemungkinan prediksi benar untuk nasabah yang akan menggunakan Term Deposit sebesar 42%. Maka masih ada nasabah yang menggunakan Term Deposit dan diprediksi sebagai tidak menggunakan Term Deposit sebesar 17%. \n",
    "  \n",
    "Bila seandainya biaya marketing per orang 3.23 EUR dan potensi keuntungan yang diterima bank 51.02 EUR, dan terdapat 7,982 nasabah dimana nasabah yang menggunakan Term Deposit 904 orang dan yang tidak menggunakan Term Deposit 7,078 orang, maka kurang lebih perhitungannya adalah sebagai berikut:  \n",
    "  \n",
    "*Tanpa Model* (Perusahaan akan menghubungi campaign Term Deposit ke semua nasabah):\n",
    "- Total nasabah => (6,345 + 733 + 375 + 529) = 7,982 nasabah\n",
    "- Total nasabah ***menggunakan Term Deposit*** => (375 + 529) = 904 nasabah\n",
    "- Biaya marketing => 3.23 EUR\n",
    "- Potensi keuntungan => 51.02 EUR\n",
    "- Total keuntungan yang didapat => (51.02 EUR * 904) - (3.23 EUR * 7,982) = 20.346,68 EUR\n",
    "\n",
    "*Dengan Model* (Perusahaan akan menghubungi campaign Term Deposit ke nasabah yang terprediksi akan menggunakan Term Deposit):\n",
    "- Nasabah yang terprediksi **benar-benar** menggunakan Term Deposit => 529 nasabah\n",
    "- Nasabah yang terprediksi menggunakan Term Deposit => (375 + 529) = 904 nasabah\n",
    "- Biaya marketing => 3.23 EUR\n",
    "- Potensi keuntungan => 51.02 EUR\n",
    "- Total keuntungan yang didapat => (51.02 EUR * 529) - (3.23 EUR * 904) = 24.069,66 EUR\n",
    "\n",
    "Dari sini, kita dapat menyimpulkan bahwa dengan menggunakan machine learning, akan didapatkan peningkatan keuntungan sebesar 24.069,66 EUR - 20.346,68 EUR = `3.722,98 EUR`, atau setara dengan (3.722,98 EUR / 20.346,68 EUR) x 100% = `18.29%`\n",
    "\n",
    "Oleh karena itu, dapat disimpulkan bahwa menggunakan machine learning akan meningkatkan keuntungan perusahaan dibandingkan tanpa menggunakan machine learning. Kelebihan keuntungan tersebut bisa dialokasikan untuk keperluan bisnis bank yang lain agar keuntungannya bisa dipakai untuk lini bisnis yang lain dan dapat meningkatkan keuntungan perusahaan dengan lebih signifikan."
   ]
  },
  {
   "cell_type": "markdown",
   "metadata": {},
   "source": [
    "#### **4.1.2 Hasil Data Analsysis**"
   ]
  },
  {
   "cell_type": "markdown",
   "metadata": {},
   "source": [
    "Berdasarkan hasil analisis yang telah dilakukan pada tahap EDA, didapatkan beberapa kesimpulan sebagai berikut:\n",
    "\n",
    "1. Bagaimana karakteristik nasabah yang menerima term deposit berdasarkan informasi personalnya?\n",
    "* *Segmentasi Demografis yang Lebih Tepat*: Lakukan penargetan lebih kuat kepada dua segmen usia, yaitu kepada nasabah yang berusia antara 17 hingga 25 tahun dan nasabah yang berusia di atas 65 tahun. Demikian juga, fokus pada nasabah yang berprofesi sebagai mahasiswa atau pensiunan\n",
    "* Pekerjaan *admin* dan *blue-collar* paling banyak ditawari term deposit, pekerjaan sebagai *student (pelajar)* dan *retired (pensiunan)* memiliki conversion rate yang lebih tinggi, yaitu *0.31* dan *0.25*\n",
    "* *Penargetan Pernikahan 'Single'*: Tingkatkan upaya pemasaran kepada nasabah yang memiliki status pernikahan \"Single\"\n",
    "* Pendidikan terakhir *university.degree (gelar universitas)* merupakan yang paling banyak ditawari term deposit dan memiliki conversion rate tinggi, yaitu *0.14*\n",
    "* *Hindari Nasabah dengan Riwayat \"Default\"*: Hindari menghubungi nasabah yang memiliki riwayat gagal bayar (\"Default\"), karena kemungkinan besar mereka tidak akan tertarik untuk berlangganan term deposit\n",
    "* Tidak terlihat perbedaan signifikan antara nasabah yang *memiliki cicilan rumah (housing loan)* dan yang tidak memiliki terkait conversion rate\n",
    "* Meskipun nasabah *tanpa pinjaman* lebih banyak dihubungi, conversion rate-nya hampir sama dengan *nasabah yang memiliki pinjaman*\n",
    "\n",
    "\n",
    "2. Nasabah seperti apa yang menyetujui term deposit berdasarkan metode komunikasi yang dilakukan?\n",
    "* *Prioritaskan Komunikasi Melalui Ponsel*: Lebih banyak melakukan komunikasi melalui nomor telepon genggam (cellular) daripada menggunakan telepon rumah\n",
    "* Bulan-bulan seperti *Maret, September, Oktober, dan Desember* memiliki conversion rate tinggi meskipun jumlah kontak relatif rendah. Di sisi lain, bulan Mei memiliki jumlah kontak tinggi tetapi conversion rate rendah\n",
    "* *Hari Kamis* adalah hari terbaik untuk kontak terakhir dengan conversion rate 0.12\n",
    "* *Pendekatan Kreatif dan Interaktif*: Cobalah untuk menghadirkan percakapan yang lebih menarik dan berinteraksi dengan nasabah, bahkan jika ini memakan waktu lebih lama\n",
    "\n",
    "\n",
    "3. Bagaimana karakteristik nasabah yang menerima term deposit berdasarkan perlakuan bank kepada nasabah pada kampanye sebelumnya?\n",
    "* Sebagian besar nasabah tidak dihubungi pada campaign sebelumnya (kategori *0*)\n",
    "* *Batas Panggilan Harian*: Batasi jumlah panggilan ke satu nasabah agar tidak melebihi 20 kali, karena panggilan berulang yang berlebihan bisa menjadi tidak efektif\n",
    "* *Prioritaskan Nasabah yang Telah Berpartisipasi*: Lebih intensif menghubungi nasabah yang telah berhasil mengikuti kampanye sebelumnya, karena mereka lebih mungkin untuk berlangganan kembali\n",
    "\n",
    "\n",
    "4. Bagaimana kondisi ekonomi negara portugal yang mendorong nasabah untuk setuju melakukan deposit?\n",
    "* *Perhatikan Indikator Ekonomi*: Hubungi nasabah ketika indikator \"Employment Variation Rate\" menunjukkan tren negatif (banyak pemutusan hubungan kerja) dan ketika \"CPI\" (tingkat inflasi) rendah, serta \"CCI\" (Indeks Keyakinan Konsumen) tinggi\n",
    "* *Reaksi terhadap Suku Bunga Euribor*: Prioritaskan komunikasi saat suku bunga Euribor 3 bulan sedang rendah, karena ini mungkin lebih mempengaruhi keputusan nasabah\n",
    "* *Perhatikan Jumlah Karyawan*: Hubungi nasabah ketika indikator \"Number of Employee\" menunjukkan jumlah karyawan sedang rendah, karena situasi ini mungkin mempengaruhi keputusan nasabah terkait term deposit"
   ]
  },
  {
   "cell_type": "markdown",
   "metadata": {},
   "source": [
    "#### **4.1.3 Hasil Modeling**"
   ]
  },
  {
   "cell_type": "markdown",
   "metadata": {},
   "source": [
    "Berdasarkan hasil dari pemodelan machine learning, didapatkan beberapa kesimpulan sebagai berikut:\n",
    "\n",
    "1. Teknik resampler yang menghasilkan nilai rata-rata terbaik dibanding dengan teknik resampler lainnya pada model ini adalah `Random Over Sample (ROS)` dengan nilai rata-rata `ROC_AUC score` sebesar `0.7947`\n",
    "\n",
    "2. Model-model yang di tuning pada `hyperparameter tuning` menggunakan `resample Random Over Sample (ROS)` adalah `Gradient Boosting`, `Ada Boosting`, dan `Cat Boosting`\n",
    "\n",
    "3. Hasil dari `hyperparameter tuning` menunjukkan model `Gradient Boosting` menghasilkan performa paling baik dengan nilai `ROC_AUC score` sebelum tuning sebesar `0.7564` dan setelah di tuning sebesar `0.7535` dengan parameter hasil tuning adalah sebagai berikut: `learning_rate`=0.1, `max_depth`=3, `max_features`=5, `n_estimators`=100, dan `subsample`=0.8 \n",
    "\n",
    "4. Fitur-fitur yang paling berpengaruh terhadap model ini adalah `nr.employed`, `euribor3m`, `cons.conf.idx`, `month`, `age`, dan `pdays`\n",
    "\n",
    "5. Limitasi Model adalah sebagai berikut :\n",
    "\n",
    "| Feature | Limitasi |\n",
    "| --- | --- |\n",
    "| age | Usia calon nasabah berada di rentang `17 hingga 98 tahun` |\n",
    "| job | Hasil pengelompokan pekerjaan (`Employee`, `Other`, `Unemployed`, `Entrepreneur`) |\n",
    "| marital | Semua nilai unik pada kolom marital (`married`, `single`, `divorced`) |\n",
    "| education | Hasil pengelompokan kategori education (`Primary Education`, `Secondary Education`, `Higher Education`, `Other`) |\n",
    "| housing | Semua nilai unik pada kolom housing (`yes`, `no`) |\n",
    "| loan | Semua nilai unik pada kolom loan (`yes`, `no`) |\n",
    "| contact | Semua nilai unik pada kolom contact (`telephone`, `cellular`) |\n",
    "| month | Semua nilai unik pada kolom month (`may`, `jun`, `jul`, `aug`, `oct`, `nov`, `dec`, `mar`, `apr`, `sep`)  |\n",
    "| day_of_week | Semua nilai unik pada kolom day_of_week (`mon`, `tue`, `wed`, `thu`, `fri`) |\n",
    "| campaign | Jumlah panggilan yang dilakukan selama kampanye berada di `rentang 1 - 56 kali` |\n",
    "| pdays | jumlah hari yang berlalu setelah nasabah terakhir dihubungi dari kampanye sebelumnya berada di rentang `0 - 27 hari`, atau `tidak pernah dihubungi di kampanye sebelumnya` |\n",
    "| previous | Jumlah panggilan pada suatu calon nasabah yang dilakukan sebelum kampanye ini berada di `rentang 0 - 7 kali` |\n",
    "| poutcome | Semua nilai unik pada kolom poutcome (`nonexistent`, `failure`, `success`) |\n",
    "| emp.var.rate | Employment Variation Rate berada di `rentang -3.4 - 1.4` |\n",
    "| cons.price.idx | Consumer Price Index berada di `rentang 92.201 - 94.767` |\n",
    "| cons.conf.idx | Consumer Confidence Index berada di `rentang -50.8 - -26.9` |\n",
    "| euribor3m | Euribor 3 Month Rate berada di `rentang 0.634 - 5.045` |\n",
    "| nr.employed | Indikator tenaga kerja Global berada di `rentang 4963.6 - 5228.1` |"
   ]
  },
  {
   "cell_type": "markdown",
   "metadata": {},
   "source": [
    "### **4.2 Recommendation**"
   ]
  },
  {
   "cell_type": "markdown",
   "metadata": {},
   "source": [
    "__Bisnis__: \n",
    "\n",
    "Hal yang dapat dilakukan untuk menambah potensi nasabah untuk melakukan Term Deposit:\n",
    "\n",
    "* Melakukan penawaran campaign terhadap nasabah dengan durasi yang lebih lama, dibuktikan bahwa dengan semakin lamanya durasi akan banyak mempengaruhi seorang nasabah untuk melakukan Term Deposit\n",
    "* Penawaran campaign Term Deposit bisa dimaksimalkan pada Quarter 1 (January, Febuari, Maret), Quarter 3 (Juli, Agustus, September), serta Quarter 4 (Oktober, November, Desember)\n",
    "* Bisa dilakukan evaluasi pada setiap campaign, dari analisis menyatakan bahwa nasabah yang pada campaign Term Deposit sebelumnya sukses untuk didapatkan berpotensi untuk melakukan Term Deposit lagi pada campaign setelahnya\n",
    "* Campaign Term Deposit juga bisa dimaksimalkan pada nasabah yang tidak memiliki cicilan hutang rumah, karena pada analisis ketika nasabah tidak memiliki cicilan hutang rumah lebih berpotensi untuk melakukan Term Deposit"
   ]
  },
  {
   "cell_type": "markdown",
   "metadata": {},
   "source": [
    "__Models__:\n",
    "\n",
    "Hal yang dapat dilakukan untuk mengembangkan model agar lebih baik lagi, seperti:\n",
    "\n",
    "* Model dapat ditingkatkan dengan melakukan tuning hyperparameter dengan nilai yang sudah didapat sebagai referensi, atau menambahkan parameter lain\n",
    "* Memilah fitur sesuai dengan feature importances dan melakukan trial kombinasi fitur yang berpengaruh untuk mengurangi kompleksitas model"
   ]
  },
  {
   "cell_type": "markdown",
   "metadata": {},
   "source": [
    "## **5. Save Model**"
   ]
  },
  {
   "cell_type": "code",
   "execution_count": 60,
   "metadata": {},
   "outputs": [],
   "source": [
    "# Save model\n",
    "\n",
    "deposit_model = best_model.fit(X_train, y_train)\n",
    "pickle.dump(deposit_model, open('Model_final.sav', 'wb'))"
   ]
  },
  {
   "cell_type": "code",
   "execution_count": 61,
   "metadata": {},
   "outputs": [],
   "source": [
    "# Load model\n",
    "\n",
    "filename = 'Model_final.sav'\n",
    "loaded_model = pickle.load(open(filename, 'rb'))"
   ]
  }
 ],
 "metadata": {
  "kernelspec": {
   "display_name": "Python 3",
   "language": "python",
   "name": "python3"
  },
  "language_info": {
   "codemirror_mode": {
    "name": "ipython",
    "version": 3
   },
   "file_extension": ".py",
   "mimetype": "text/x-python",
   "name": "python",
   "nbconvert_exporter": "python",
   "pygments_lexer": "ipython3",
   "version": "3.9.13"
  },
  "orig_nbformat": 4
 },
 "nbformat": 4,
 "nbformat_minor": 2
}
